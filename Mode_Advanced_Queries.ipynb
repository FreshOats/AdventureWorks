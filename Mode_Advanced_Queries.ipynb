{
 "cells": [
  {
   "cell_type": "code",
   "execution_count": null,
   "metadata": {
    "vscode": {
     "languageId": "sql"
    }
   },
   "outputs": [],
   "source": [
    "-- Crunchbase Dataset\n",
    "-- Write a query that appends the two crunchbase_investments datasets above (including duplicate values). \n",
    "-- Filter the first dataset to only companies with names that start with the letter \"T\", and filter the second \n",
    "-- to companies with names starting with \"M\" (both not case-sensitive). Only include the company_permalink, company_name, and investor_name columns.\n",
    "\n",
    "SELECT company_permalink,\n",
    "       company_name,\n",
    "       investor_name\n",
    "FROM tutorial.crunchbase_investments_part1\n",
    "WHERE company_name ILIKE 'T%'\n",
    "UNION ALL\n",
    "SELECT company_permalink,\n",
    "       company_name,\n",
    "       investor_name\n",
    "FROM tutorial.crunchbase_investments_part1\n",
    "WHERE company_name ILIKE 'M%'"
   ]
  },
  {
   "cell_type": "code",
   "execution_count": null,
   "metadata": {
    "vscode": {
     "languageId": "sql"
    }
   },
   "outputs": [],
   "source": [
    "-- Alternatively\n",
    "SELECT company_permalink,\n",
    "       company_name,\n",
    "       investor_name\n",
    "FROM tutorial.crunchbase_investments_part1\n",
    "WHERE   company_name LIKE 'T%'\n",
    "        OR\n",
    "        company_name LIKE 't%'\n",
    "UNION ALL\n",
    "SELECT company_permalink,\n",
    "       company_name,\n",
    "       investor_name\n",
    "FROM tutorial.crunchbase_investments_part1\n",
    "WHERE   company_name LIKE 'M%'\n",
    "        OR\n",
    "        company_name LIKE 'm%'"
   ]
  },
  {
   "attachments": {},
   "cell_type": "markdown",
   "metadata": {},
   "source": [
    "Write a query that shows 3 columns. The first indicates which dataset (part 1 or 2) the data comes from, the second shows company status, and the third is a count of the number of investors.\n",
    "\n",
    "Hint: you will have to use the tutorial.crunchbase_companies table as well as the investments tables. And you'll want to group by status and dataset."
   ]
  },
  {
   "cell_type": "code",
   "execution_count": null,
   "metadata": {
    "vscode": {
     "languageId": "sql"
    }
   },
   "outputs": [],
   "source": [
    "SELECT 'Set_1' AS dataset_name,\n",
    "       companies.status,\n",
    "       COUNT(DISTINCT(investments.investor_permalink)) AS investors\n",
    "FROM tutorial.crunchbase_companies companies\n",
    "LEFT JOIN tutorial.crunchbase_investments_part1 investments ON companies.permalink = investments.company_permalink\n",
    "GROUP BY dataset_name,\n",
    "         companies.status\n",
    "UNION ALL\n",
    "SELECT 'Set_2' AS dataset_name,\n",
    "       companies.status,\n",
    "       COUNT(DISTINCT(investments.investor_permalink)) AS investors\n",
    "FROM tutorial.crunchbase_companies companies\n",
    "LEFT JOIN tutorial.crunchbase_investments_part2 investments ON companies.permalink = investments.company_permalink\n",
    "GROUP BY dataset_name,\n",
    "         companies.status"
   ]
  },
  {
   "attachments": {},
   "cell_type": "markdown",
   "metadata": {},
   "source": [
    "Write a query that includes a column that is flagged \"yes\" when a player is from California, and sort the results with those players first."
   ]
  },
  {
   "cell_type": "code",
   "execution_count": null,
   "metadata": {
    "vscode": {
     "languageId": "sql"
    }
   },
   "outputs": [],
   "source": [
    "SELECT player_name,\n",
    "       CASE\n",
    "           WHEN state = 'CA' THEN 'yes'\n",
    "           ELSE 'no'\n",
    "       END AS from_cali\n",
    "FROM benn.college_football_players"
   ]
  },
  {
   "attachments": {},
   "cell_type": "markdown",
   "metadata": {},
   "source": [
    "Write a query that selects all columns from benn.college_football_players and adds an additional column that displays the player's name if that player is a junior or senior."
   ]
  },
  {
   "cell_type": "code",
   "execution_count": null,
   "metadata": {
    "vscode": {
     "languageId": "sql"
    }
   },
   "outputs": [],
   "source": [
    "SELECT *,\n",
    "       CASE\n",
    "           WHEN year = 'JR' THEN player_name\n",
    "           WHEN year = 'SR' THEN player_name\n",
    "           ELSE NULL\n",
    "       END AS upper_classmen\n",
    "FROM benn.college_football_players"
   ]
  },
  {
   "cell_type": "code",
   "execution_count": null,
   "metadata": {
    "vscode": {
     "languageId": "sql"
    }
   },
   "outputs": [],
   "source": [
    "-- Alternatively \n",
    "SELECT *,\n",
    "       CASE\n",
    "           WHEN year IN ('JR',\n",
    "                         'SR') THEN player_name\n",
    "           ELSE NULL\n",
    "       END AS upperclassmen\n",
    "FROM benn.college_football_players"
   ]
  },
  {
   "attachments": {},
   "cell_type": "markdown",
   "metadata": {},
   "source": [
    "Write a query that counts the number of 300lb+ players for each of the following regions: West Coast (CA, OR, WA), Texas, and Other (everywhere else)."
   ]
  },
  {
   "cell_type": "code",
   "execution_count": null,
   "metadata": {
    "vscode": {
     "languageId": "sql"
    }
   },
   "outputs": [],
   "source": [
    "SELECT CASE\n",
    "           WHEN state IN ('CA',\n",
    "                          'OR',\n",
    "                          'WA') THEN 'West Coast'\n",
    "           WHEN state = 'TX' THEN 'Texas'\n",
    "           ELSE 'Other'\n",
    "       END AS heavyweights,\n",
    "       COUNT(1) AS count\n",
    "FROM benn.college_football_players\n",
    "WHERE weight > 299\n",
    "GROUP BY 1"
   ]
  },
  {
   "attachments": {},
   "cell_type": "markdown",
   "metadata": {},
   "source": [
    "Write a query that calculates the combined weight of all underclass players (FR/SO) in California as well as the combined weight of all upperclass players (JR/SR) in California."
   ]
  },
  {
   "cell_type": "code",
   "execution_count": null,
   "metadata": {
    "vscode": {
     "languageId": "sql"
    }
   },
   "outputs": [],
   "source": [
    "SELECT CASE\n",
    "           WHEN year IN ('FR',\n",
    "                         'SO') THEN 'underclass'\n",
    "           WHEN year IN ('JR',\n",
    "                         'SR') THEN 'upperclass'\n",
    "           ELSE NULL\n",
    "       END AS class,\n",
    "       SUM(weight) AS combined_weight\n",
    "FROM benn.college_football_players\n",
    "WHERE state = 'CA'\n",
    "GROUP BY 1"
   ]
  },
  {
   "attachments": {},
   "cell_type": "markdown",
   "metadata": {},
   "source": [
    "Write a query that displays the number of players in each state, with FR, SO, JR, and SR players in separate columns and another column for the total number of players. Order results such that states with the most players come first."
   ]
  },
  {
   "cell_type": "code",
   "execution_count": null,
   "metadata": {
    "vscode": {
     "languageId": "sql"
    }
   },
   "outputs": [],
   "source": [
    "SELECT state,\n",
    "       COUNT(CASE\n",
    "                 WHEN year = 'FR' THEN 1\n",
    "                 ELSE NULL\n",
    "             END) as fr_count,\n",
    "       COUNT(CASE\n",
    "                 WHEN year = 'SO' THEN 1\n",
    "                 ELSE NULL\n",
    "             END) as so_count,\n",
    "       COUNT(CASE\n",
    "                 WHEN year = 'JR' THEN 1\n",
    "                 ELSE NULL\n",
    "             END) as jr_count,\n",
    "       COUNT(CASE\n",
    "                 WHEN year = 'SR' THEN 1\n",
    "                 ELSE NULL\n",
    "             END) as sr_count,\n",
    "       COUNT(*) AS state_count\n",
    "FROM benn.college_football_players\n",
    "GROUP BY state\n",
    "ORDER BY state_count DESC;"
   ]
  },
  {
   "attachments": {},
   "cell_type": "markdown",
   "metadata": {},
   "source": [
    "Write a query that shows the number of players at schools with names that start with A through M, and the number at schools with names starting with N - Z."
   ]
  },
  {
   "cell_type": "code",
   "execution_count": null,
   "metadata": {
    "vscode": {
     "languageId": "sql"
    }
   },
   "outputs": [],
   "source": [
    "SELECT CASE\n",
    "           WHEN school_name < 'n' THEN 'A-M'\n",
    "           WHEN school_name > 'm' THEN 'N-Z'\n",
    "           ELSE NULL\n",
    "       END AS school_group,\n",
    "       COUNT(1) AS players\n",
    "FROM benn.college_football_players\n",
    "GROUP BY school_group"
   ]
  },
  {
   "attachments": {},
   "cell_type": "markdown",
   "metadata": {},
   "source": [
    "Instead of using where, this uses the > comparative in the join to only retain values that are greater than 5 years from the company start date. A where clause is fine, but it then introduces an additional step."
   ]
  },
  {
   "cell_type": "code",
   "execution_count": null,
   "metadata": {
    "vscode": {
     "languageId": "sql"
    }
   },
   "outputs": [],
   "source": [
    "SELECT companies.permalink,\n",
    "       companies.name,\n",
    "       companies.status,\n",
    "       COUNT(investments.investor_permalink) AS investors\n",
    "FROM tutorial.crunchbase_companies companies\n",
    "LEFT JOIN tutorial.crunchbase_investments_part1 investments ON companies.permalink = investments.company_permalink\n",
    "AND investments.funded_year > companies.founded_year + 5\n",
    "GROUP BY 1,\n",
    "         2,\n",
    "         3"
   ]
  },
  {
   "attachments": {},
   "cell_type": "markdown",
   "metadata": {},
   "source": [
    "Changing data types can be done with CAST, CONVERT or ::\n",
    "\n",
    "This changes a date and num to varchar"
   ]
  },
  {
   "cell_type": "code",
   "execution_count": null,
   "metadata": {
    "vscode": {
     "languageId": "sql"
    }
   },
   "outputs": [],
   "source": [
    "SELECT CAST(funding_total_usd AS varchar) AS funding_str,\n",
    "       founded_at_clean::varchar AS founded_str\n",
    "FROM tutorial.crunchbase_companies_clean_date"
   ]
  },
  {
   "attachments": {},
   "cell_type": "markdown",
   "metadata": {},
   "source": [
    "Write a query that counts the number of companies acquired within 3 years, 5 years, and 10 years of being founded (in 3 separate columns). Include a column for total companies acquired as well. Group by category and limit to only rows with a founding date.\n"
   ]
  },
  {
   "cell_type": "code",
   "execution_count": null,
   "metadata": {
    "vscode": {
     "languageId": "sql"
    }
   },
   "outputs": [],
   "source": [
    "SELECT companies.category_code,\n",
    "       COUNT(CASE\n",
    "                 WHEN acquisitions.acquired_at_cleaned <= companies.founded_at_clean::timestamp + INTERVAL '3 years' THEN 1\n",
    "                 ELSE NULL\n",
    "             END) AS acquired_3_yrs,\n",
    "       COUNT(CASE\n",
    "                 WHEN acquisitions.acquired_at_cleaned <= companies.founded_at_clean::timestamp + INTERVAL '5 years' THEN 1\n",
    "                 ELSE NULL\n",
    "             END) AS acquired_5_yrs,\n",
    "       COUNT(CASE\n",
    "                 WHEN acquisitions.acquired_at_cleaned <= companies.founded_at_clean::timestamp + INTERVAL '10 years' THEN 1\n",
    "                 ELSE NULL\n",
    "             END) AS acquired_10_yrs,\n",
    "       COUNT(1) AS total\n",
    "FROM tutorial.crunchbase_companies_clean_date companies\n",
    "JOIN tutorial.crunchbase_acquisitions_clean_date acquisitions ON acquisitions.company_permalink = companies.permalink\n",
    "WHERE founded_at_clean IS NOT NULL\n",
    "GROUP BY 1\n",
    "ORDER BY 5 DESC"
   ]
  },
  {
   "attachments": {},
   "cell_type": "markdown",
   "metadata": {},
   "source": [
    "# SQL String Functions\n"
   ]
  },
  {
   "attachments": {},
   "cell_type": "markdown",
   "metadata": {},
   "source": [
    "RIGHT and LEFT pull the number of characters from that side of the input"
   ]
  },
  {
   "cell_type": "code",
   "execution_count": null,
   "metadata": {
    "vscode": {
     "languageId": "sql"
    }
   },
   "outputs": [],
   "source": [
    "SELECT incidnt_num, date, LEFT(date, 10) AS cleaned_date,\n",
    "                          RIGHT(date, 17) AS cleaned_time\n",
    "FROM tutorial.sf_crime_incidents_2014_01"
   ]
  },
  {
   "attachments": {},
   "cell_type": "markdown",
   "metadata": {},
   "source": [
    "LENGTH or LEN can also be used as part of a function if the full value is variable, but the relative location is the same"
   ]
  },
  {
   "cell_type": "code",
   "execution_count": null,
   "metadata": {
    "vscode": {
     "languageId": "sql"
    }
   },
   "outputs": [],
   "source": [
    "SELECT incidnt_num, date, LEFT(date, 10) AS cleaned_date,\n",
    "                          RIGHT(date, LENGTH(date) - 11) AS cleaned_time\n",
    "FROM tutorial.sf_crime_incidents_2014_01"
   ]
  },
  {
   "attachments": {},
   "cell_type": "markdown",
   "metadata": {},
   "source": [
    "Trim can remove characters from the beginning and end of a string, by specifying 'leading', 'trailing' or 'both'"
   ]
  },
  {
   "cell_type": "code",
   "execution_count": null,
   "metadata": {
    "vscode": {
     "languageId": "sql"
    }
   },
   "outputs": [],
   "source": [
    "SELECT location,\n",
    "       TRIM(both '()'\n",
    "            FROM location)\n",
    "FROM tutorial.sf_crime_incidents_2014_01"
   ]
  },
  {
   "attachments": {},
   "cell_type": "markdown",
   "metadata": {},
   "source": [
    "POSITION and STRPOS\n",
    "Position gives the location of the quoted values in the string - it IS case-sensitive\n",
    "\n",
    "STRPOS basically does the same thing with slightly different syntax"
   ]
  },
  {
   "cell_type": "code",
   "execution_count": null,
   "metadata": {
    "vscode": {
     "languageId": "sql"
    }
   },
   "outputs": [],
   "source": [
    "SELECT incidnt_num,\n",
    "       descript,\n",
    "       POSITION('A' IN descript) AS a_position\n",
    "FROM tutorial.sf_crime_incidents_2014_01;\n",
    "\n",
    "\n",
    "SELECT incidnt_num,\n",
    "       descript,\n",
    "       STRPOS(descript, 'A') AS a_position\n",
    "FROM tutorial.sf_crime_incidents_2014_01"
   ]
  },
  {
   "attachments": {},
   "cell_type": "markdown",
   "metadata": {},
   "source": [
    "SUBSTR  This does the same thing as LEFT and RIGHT, but you can start anywhere within the string.\n",
    "\n",
    "Syntax:  SUBSTR(string, start position, # of characters)"
   ]
  },
  {
   "cell_type": "code",
   "execution_count": null,
   "metadata": {
    "vscode": {
     "languageId": "sql"
    }
   },
   "outputs": [],
   "source": [
    "SELECT  incidnt_num, \n",
    "        date, \n",
    "        SUBSTR(date, 4, 2) AS day\n",
    "FROM tutorial.sf_crime_incidents_2014_01"
   ]
  },
  {
   "attachments": {},
   "cell_type": "markdown",
   "metadata": {},
   "source": [
    "CONCAT just concatenates shit\n",
    "\n",
    "|| can also be used to concatenate"
   ]
  },
  {
   "cell_type": "code",
   "execution_count": null,
   "metadata": {
    "vscode": {
     "languageId": "sql"
    }
   },
   "outputs": [],
   "source": [
    "SELECT incidnt_num,\n",
    "       day_of_week,\n",
    "       LEFT(date, 10) AS cleaned_date,\n",
    "       CONCAT(day_of_week, ', ', LEFT(date, 10)) AS day_and_date\n",
    "FROM tutorial.sf_crime_incidents_2014_01"
   ]
  },
  {
   "cell_type": "code",
   "execution_count": null,
   "metadata": {
    "vscode": {
     "languageId": "sql"
    }
   },
   "outputs": [],
   "source": [
    "-- Alternatively\n",
    "\n",
    "SELECT incidnt_num,\n",
    "       day_of_week,\n",
    "       LEFT(date, 10) AS cleaned_date,\n",
    "       day_of_week || ', ' || LEFT(date, 10) AS day_and_date\n",
    "FROM tutorial.sf_crime_incidents_2014_01"
   ]
  },
  {
   "attachments": {},
   "cell_type": "markdown",
   "metadata": {},
   "source": [
    "UPPER and LOWER do exactly what you think they do\n",
    "\n",
    "\n",
    "## Dates \n",
    "Dealing with dates sucks. This code casts the newly formatted and concatenated date to date format. Note, it uses || for concatenation and :: for casting"
   ]
  },
  {
   "cell_type": "code",
   "execution_count": null,
   "metadata": {
    "vscode": {
     "languageId": "sql"
    }
   },
   "outputs": [],
   "source": [
    "SELECT  incidnt_num, \n",
    "        date, \n",
    "        (SUBSTR(date, 7, 4) || '-' || LEFT(date, 2) || '-' || SUBSTR(date, 4, 2))::date AS cleaned_date\n",
    "FROM tutorial.sf_crime_incidents_2014_01"
   ]
  },
  {
   "attachments": {},
   "cell_type": "markdown",
   "metadata": {},
   "source": [
    "EXTRACT can pull different parts of dates"
   ]
  },
  {
   "cell_type": "code",
   "execution_count": null,
   "metadata": {
    "vscode": {
     "languageId": "sql"
    }
   },
   "outputs": [],
   "source": [
    "SELECT cleaned_date,\n",
    "       EXTRACT('year'\n",
    "               FROM cleaned_date) AS year,\n",
    "       EXTRACT('month'\n",
    "               FROM cleaned_date) AS month,\n",
    "       EXTRACT('day'\n",
    "               FROM cleaned_date) AS day,\n",
    "       EXTRACT('hour'\n",
    "               FROM cleaned_date) AS hour,\n",
    "       EXTRACT('minute'\n",
    "               FROM cleaned_date) AS minute,\n",
    "       EXTRACT('second'\n",
    "               FROM cleaned_date) AS second,\n",
    "       EXTRACT('decade'\n",
    "               FROM cleaned_date) AS decade,\n",
    "       EXTRACT('dow'\n",
    "               FROM cleaned_date) AS day_of_week\n",
    "FROM tutorial.sf_crime_incidents_cleandate"
   ]
  },
  {
   "attachments": {},
   "cell_type": "markdown",
   "metadata": {},
   "source": [
    "DATE_TRUNC can round to the nearest unit of measurement - good for rounding to the nearest week or day ... "
   ]
  },
  {
   "cell_type": "code",
   "execution_count": null,
   "metadata": {
    "vscode": {
     "languageId": "sql"
    }
   },
   "outputs": [],
   "source": [
    "SELECT cleaned_date,\n",
    "       DATE_TRUNC('year', cleaned_date) AS year,\n",
    "       DATE_TRUNC('month', cleaned_date) AS month,\n",
    "       DATE_TRUNC('week', cleaned_date) AS week,\n",
    "       DATE_TRUNC('day', cleaned_date) AS day,\n",
    "       DATE_TRUNC('hour', cleaned_date) AS hour,\n",
    "       DATE_TRUNC('minute', cleaned_date) AS minute,\n",
    "       DATE_TRUNC('second', cleaned_date) AS second,\n",
    "       DATE_TRUNC('decade', cleaned_date) AS decade\n",
    "FROM tutorial.sf_crime_incidents_cleandate"
   ]
  },
  {
   "attachments": {},
   "cell_type": "markdown",
   "metadata": {},
   "source": [
    "Including today's date or time..."
   ]
  },
  {
   "cell_type": "code",
   "execution_count": null,
   "metadata": {
    "vscode": {
     "languageId": "sql"
    }
   },
   "outputs": [],
   "source": [
    "SELECT CURRENT_DATE AS date,\n",
    "       CURRENT_TIME AS time,\n",
    "       CURRENT_TIMESTAMP AS timestamp,\n",
    "       LOCALTIME AS localtime,\n",
    "       LOCALTIMESTAMP AS localtimestamp,\n",
    "       NOW() AS now"
   ]
  },
  {
   "cell_type": "code",
   "execution_count": null,
   "metadata": {
    "vscode": {
     "languageId": "sql"
    }
   },
   "outputs": [],
   "source": [
    "SELECT CURRENT_TIME AS time,\n",
    "       CURRENT_TIME AT TIME ZONE 'PST' AS time_pst"
   ]
  },
  {
   "attachments": {},
   "cell_type": "markdown",
   "metadata": {},
   "source": [
    "COALESCE\n",
    "\n",
    "This helps deal with nulls or weird things like 0 written as zero"
   ]
  },
  {
   "cell_type": "code",
   "execution_count": null,
   "metadata": {
    "vscode": {
     "languageId": "sql"
    }
   },
   "outputs": [],
   "source": [
    "SELECT incidnt_num,\n",
    "       descript,\n",
    "       COALESCE(descript, 'No Description')\n",
    "FROM tutorial.sf_crime_incidents_2014_01\n",
    "ORDER BY descript DESC"
   ]
  },
  {
   "attachments": {},
   "cell_type": "markdown",
   "metadata": {},
   "source": [
    "## SUBQUERIES\n",
    "\n",
    "Write a query that selects all Warrant Arrests from the tutorial.sf_crime_incidents_2014_01 dataset, then wrap it in an outer query that only displays unresolved incidents."
   ]
  },
  {
   "cell_type": "code",
   "execution_count": null,
   "metadata": {
    "vscode": {
     "languageId": "sql"
    }
   },
   "outputs": [],
   "source": [
    "SELECT warrants.*\n",
    "FROM (\n",
    "  SELECT * \n",
    "  FROM tutorial.sf_crime_incidents_2014_01\n",
    "  WHERE descript = 'WARRANT ARREST'\n",
    ") warrants\n",
    "WHERE resolution = 'NONE'\n"
   ]
  },
  {
   "attachments": {},
   "cell_type": "markdown",
   "metadata": {},
   "source": [
    "Write a query that displays the average number of monthly incidents for each category. Hint: use tutorial.sf_crime_incidents_cleandate to make your life a little easier."
   ]
  },
  {
   "cell_type": "code",
   "execution_count": null,
   "metadata": {
    "vscode": {
     "languageId": "sql"
    }
   },
   "outputs": [],
   "source": [
    "SELECT sub.category,\n",
    "       CAST(AVG(sub.incidents) AS int) AS avg_monthly_incidents\n",
    "FROM\n",
    "    ( SELECT EXTRACT('month'\n",
    "                     FROM cleaned_date) AS month,\n",
    "             category,\n",
    "             COUNT(1) AS incidents\n",
    "     FROM tutorial.sf_crime_incidents_cleandate\n",
    "     GROUP BY 1,\n",
    "              2) sub\n",
    "GROUP BY sub.category"
   ]
  },
  {
   "attachments": {},
   "cell_type": "markdown",
   "metadata": {},
   "source": [
    "Write a query that displays all rows from the three categories with the fewest incidents reported."
   ]
  },
  {
   "cell_type": "code",
   "execution_count": null,
   "metadata": {
    "vscode": {
     "languageId": "sql"
    }
   },
   "outputs": [],
   "source": [
    "SELECT incidents.*,\n",
    "       sub.count AS num_incidents\n",
    "FROM tutorial.sf_crime_incidents_2014_01 incidents\n",
    "INNER JOIN\n",
    "    ( SELECT category,\n",
    "             COUNT(*) AS count\n",
    "     FROM tutorial.sf_crime_incidents_2014_01\n",
    "     GROUP BY category\n",
    "     ORDER BY count\n",
    "     LIMIT 3) sub ON sub.category = incidents.category"
   ]
  },
  {
   "attachments": {},
   "cell_type": "markdown",
   "metadata": {},
   "source": [
    "Write a query that counts the number of companies founded and acquired by quarter starting in Q1 2012. Create the aggregations in two separate queries, then join them."
   ]
  },
  {
   "cell_type": "code",
   "execution_count": null,
   "metadata": {
    "vscode": {
     "languageId": "sql"
    }
   },
   "outputs": [],
   "source": [
    "\n",
    "SELECT COALESCE(companies.quarter, acquisitions.quarter) AS quarter,\n",
    "       companies.companies_founded,\n",
    "       acquisitions.companies_acquired\n",
    "FROM\n",
    "    ( SELECT founded_quarter AS quarter,\n",
    "             COUNT(permalink) AS companies_founded\n",
    "     FROM tutorial.crunchbase_companies\n",
    "     WHERE founded_year >= 2012\n",
    "     GROUP BY 1 ) companies\n",
    "LEFT JOIN\n",
    "    ( SELECT acquired_quarter AS quarter,\n",
    "             COUNT(DISTINCT company_permalink) AS companies_acquired\n",
    "     FROM tutorial.crunchbase_acquisitions\n",
    "     WHERE acquired_year >= 2012\n",
    "     GROUP BY 1 ) acquisitions ON companies.quarter = acquisitions.quarter\n",
    "ORDER BY 1"
   ]
  },
  {
   "attachments": {},
   "cell_type": "markdown",
   "metadata": {},
   "source": [
    "Write a query that ranks investors from the combined dataset above by the total number of investments they have made."
   ]
  },
  {
   "cell_type": "code",
   "execution_count": null,
   "metadata": {
    "vscode": {
     "languageId": "sql"
    }
   },
   "outputs": [],
   "source": [
    "SELECT sub.investor_name,\n",
    "       COUNT(*) AS investments\n",
    "FROM\n",
    "    ( SELECT *\n",
    "     FROM tutorial.crunchbase_investments_part1\n",
    "     UNION ALL SELECT *\n",
    "     FROM tutorial.crunchbase_investments_part2) sub\n",
    "GROUP BY sub.investor_name\n",
    "ORDER BY investments DESC"
   ]
  },
  {
   "attachments": {},
   "cell_type": "markdown",
   "metadata": {},
   "source": [
    "Write a query that does the same thing as in the previous problem, except only for companies that are still operating. Hint: operating status is in tutorial.crunchbase_companies."
   ]
  },
  {
   "cell_type": "code",
   "execution_count": null,
   "metadata": {
    "vscode": {
     "languageId": "sql"
    }
   },
   "outputs": [],
   "source": [
    "SELECT investments.investor_name,\n",
    "       COUNT(investments.*) AS investments\n",
    "FROM tutorial.crunchbase_companies companies\n",
    "JOIN\n",
    "    ( SELECT *\n",
    "     FROM tutorial.crunchbase_investments_part1\n",
    "     UNION ALL SELECT *\n",
    "     FROM tutorial.crunchbase_investments_part2 ) investments ON investments.company_permalink = companies.permalink\n",
    "WHERE companies.status = 'operating'\n",
    "GROUP BY 1\n",
    "ORDER BY 2 DESC"
   ]
  },
  {
   "attachments": {},
   "cell_type": "markdown",
   "metadata": {},
   "source": [
    "# WINDOW FUNCTIONS\n",
    "## OVER\n",
    "\n",
    "OVER (ORDER BY )\n",
    "OVER (PARTITION BY )\n",
    "\n",
    "The order and the partition define what is the window. "
   ]
  },
  {
   "attachments": {},
   "cell_type": "markdown",
   "metadata": {},
   "source": [
    "Write a query modification of the above example query that shows the duration of each ride as a percentage of the total time accrued by riders from each start_terminal"
   ]
  },
  {
   "cell_type": "code",
   "execution_count": null,
   "metadata": {
    "vscode": {
     "languageId": "sql"
    }
   },
   "outputs": [],
   "source": [
    "SELECT start_terminal,\n",
    "       duration_seconds,\n",
    "       SUM(duration_seconds) OVER (PARTITION BY start_terminal) AS start_terminal_sum,\n",
    "                                  (duration_seconds/SUM(duration_seconds) OVER (PARTITION BY start_terminal))*100 AS pct_of_total_time\n",
    "FROM tutorial.dc_bikeshare_q1_2012\n",
    "WHERE start_time < '2012-01-08'\n",
    "ORDER BY 1,\n",
    "         4 DESC"
   ]
  },
  {
   "attachments": {},
   "cell_type": "markdown",
   "metadata": {},
   "source": [
    "When using window functions, you can apply the same aggregates that you would under normal circumstances—SUM, COUNT, and AVG. The easiest way to understand these is to re-run the previous example with some additional functions"
   ]
  },
  {
   "cell_type": "code",
   "execution_count": null,
   "metadata": {
    "vscode": {
     "languageId": "sql"
    }
   },
   "outputs": [],
   "source": [
    "SELECT start_terminal,\n",
    "       duration_seconds,\n",
    "       SUM(duration_seconds) OVER\n",
    "         (PARTITION BY start_terminal ORDER BY start_time)\n",
    "         AS running_total,\n",
    "       COUNT(duration_seconds) OVER\n",
    "         (PARTITION BY start_terminal ORDER BY start_time)\n",
    "         AS running_count,\n",
    "       AVG(duration_seconds) OVER\n",
    "         (PARTITION BY start_terminal ORDER BY start_time)\n",
    "         AS running_avg\n",
    "  FROM tutorial.dc_bikeshare_q1_2012\n",
    " WHERE start_time < '2012-01-08'"
   ]
  },
  {
   "attachments": {},
   "cell_type": "markdown",
   "metadata": {},
   "source": [
    "Write a query that shows a running total of the duration of bike rides (similar to the last example), but grouped by end_terminal, and with ride duration sorted in descending order.\n"
   ]
  },
  {
   "cell_type": "code",
   "execution_count": null,
   "metadata": {
    "vscode": {
     "languageId": "sql"
    }
   },
   "outputs": [],
   "source": [
    "SELECT end_terminal,\n",
    "       duration_seconds,\n",
    "       SUM(duration_seconds) OVER (PARTITION BY end_terminal\n",
    "                                   ORDER BY duration_seconds DESC) AS running_total\n",
    "FROM tutorial.dc_bikeshare_q1_2012\n",
    "WHERE start_time < '2012-01-08'"
   ]
  },
  {
   "attachments": {},
   "cell_type": "markdown",
   "metadata": {},
   "source": [
    "## ROW_NUMBER()\n",
    "\n",
    "Starts by numbering rows per partition"
   ]
  },
  {
   "cell_type": "code",
   "execution_count": null,
   "metadata": {
    "vscode": {
     "languageId": "sql"
    }
   },
   "outputs": [],
   "source": [
    "SELECT start_terminal,\n",
    "       start_time,\n",
    "       duration_seconds,\n",
    "       ROW_NUMBER() OVER (\n",
    "                          ORDER BY start_time) AS row_number\n",
    "FROM tutorial.dc_bikeshare_q1_2012\n",
    "WHERE start_time < '2012-01-08'"
   ]
  },
  {
   "cell_type": "code",
   "execution_count": null,
   "metadata": {
    "vscode": {
     "languageId": "sql"
    }
   },
   "outputs": [],
   "source": [
    "SELECT start_terminal,\n",
    "       start_time,\n",
    "       duration_seconds,\n",
    "       ROW_NUMBER() OVER (PARTITION BY start_terminal\n",
    "                          ORDER BY start_time) AS row_number\n",
    "FROM tutorial.dc_bikeshare_q1_2012\n",
    "WHERE start_time < '2012-01-08'"
   ]
  },
  {
   "attachments": {},
   "cell_type": "markdown",
   "metadata": {},
   "source": [
    "## RANK() and DENSE_RANK()\n",
    "\n",
    "Rank:   1, 2, 2, 4, 5, 5, 5, 8\n",
    "\n",
    "Dense_Rank:  1, 2, 2, 3, 4, 4, 4, 5\n",
    "\n",
    "Write a query that shows the 5 longest rides from each starting terminal, ordered by terminal, and longest to shortest rides within each terminal. Limit to rides that occurred before Jan. 8, 2012.\n"
   ]
  },
  {
   "cell_type": "code",
   "execution_count": null,
   "metadata": {
    "vscode": {
     "languageId": "sql"
    }
   },
   "outputs": [],
   "source": [
    "SELECT *\n",
    "FROM\n",
    "    (SELECT start_terminal,\n",
    "            duration_seconds,\n",
    "            RANK() OVER (PARTITION BY start_terminal\n",
    "                         ORDER BY duration_seconds DESC) AS rank\n",
    "     FROM tutorial.dc_bikeshare_q1_2012\n",
    "     WHERE start_time < '2012-01-08' ) sub\n",
    "WHERE sub.rank <=5"
   ]
  },
  {
   "attachments": {},
   "cell_type": "markdown",
   "metadata": {},
   "source": [
    "Write a query that shows only the duration of the trip and the percentile into which that duration falls (across the entire dataset—not partitioned by terminal)."
   ]
  },
  {
   "cell_type": "code",
   "execution_count": null,
   "metadata": {
    "vscode": {
     "languageId": "sql"
    }
   },
   "outputs": [],
   "source": [
    "SELECT duration_seconds,\n",
    "       NTILE(100) OVER (\n",
    "                        ORDER BY duration_seconds) AS percentile\n",
    "FROM tutorial.dc_bikeshare_q1_2012\n",
    "WHERE start_time < '2012-01-08'\n",
    "ORDER BY duration DESC"
   ]
  },
  {
   "attachments": {},
   "cell_type": "markdown",
   "metadata": {},
   "source": [
    "## LAG and LEAD \n",
    "\n",
    "Pulling from the last 1-few rows or leading 1-few rows"
   ]
  },
  {
   "cell_type": "code",
   "execution_count": null,
   "metadata": {
    "vscode": {
     "languageId": "sql"
    }
   },
   "outputs": [],
   "source": [
    "SELECT start_terminal,\n",
    "       duration_seconds,\n",
    "       LAG(duration_seconds, 1) OVER\n",
    "         (PARTITION BY start_terminal ORDER BY duration_seconds) AS lag,\n",
    "       LEAD(duration_seconds, 1) OVER\n",
    "         (PARTITION BY start_terminal ORDER BY duration_seconds) AS lead\n",
    "  FROM tutorial.dc_bikeshare_q1_2012\n",
    " WHERE start_time < '2012-01-08'\n",
    " ORDER BY start_terminal, duration_seconds"
   ]
  },
  {
   "attachments": {},
   "cell_type": "markdown",
   "metadata": {},
   "source": [
    "Good for fiding differences between rows"
   ]
  },
  {
   "cell_type": "code",
   "execution_count": null,
   "metadata": {
    "vscode": {
     "languageId": "sql"
    }
   },
   "outputs": [],
   "source": [
    "SELECT start_terminal,\n",
    "       duration_seconds,\n",
    "       duration_seconds -LAG(duration_seconds, 1) OVER (PARTITION BY start_terminal\n",
    "                                                        ORDER BY duration_seconds) AS difference\n",
    "FROM tutorial.dc_bikeshare_q1_2012\n",
    "WHERE start_time < '2012-01-08'\n",
    "ORDER BY start_terminal,\n",
    "         duration_seconds"
   ]
  },
  {
   "attachments": {},
   "cell_type": "markdown",
   "metadata": {},
   "source": [
    "## Creating a Window Alias\n",
    "\n",
    "If using several window functions in the same querys using the same window - use an alias... like the NTILE example"
   ]
  },
  {
   "cell_type": "code",
   "execution_count": null,
   "metadata": {
    "vscode": {
     "languageId": "sql"
    }
   },
   "outputs": [],
   "source": [
    "SELECT start_terminal,\n",
    "       duration_seconds,\n",
    "       NTILE(4) OVER\n",
    "         (PARTITION BY start_terminal ORDER BY duration_seconds)\n",
    "         AS quartile,\n",
    "       NTILE(5) OVER\n",
    "         (PARTITION BY start_terminal ORDER BY duration_seconds)\n",
    "         AS quintile,\n",
    "       NTILE(100) OVER\n",
    "         (PARTITION BY start_terminal ORDER BY duration_seconds)\n",
    "         AS percentile\n",
    "  FROM tutorial.dc_bikeshare_q1_2012\n",
    " WHERE start_time < '2012-01-08'\n",
    " ORDER BY start_terminal, duration_seconds"
   ]
  },
  {
   "attachments": {},
   "cell_type": "markdown",
   "metadata": {},
   "source": [
    "The WINDOW clause should Always come after the WHERE clause\n"
   ]
  },
  {
   "cell_type": "code",
   "execution_count": null,
   "metadata": {
    "vscode": {
     "languageId": "sql"
    }
   },
   "outputs": [],
   "source": [
    "--Rewritten with the WINDOW alias \n",
    "\n",
    "SELECT start_terminal,\n",
    "       duration_seconds,\n",
    "       NTILE(4) OVER ntile_window AS quartile,\n",
    "       NTILE(5) OVER ntile_window AS quintile,\n",
    "       NTILE(100) OVER ntile_window AS percentile\n",
    "  FROM tutorial.dc_bikeshare_q1_2012\n",
    " WHERE start_time < '2012-01-08'\n",
    "WINDOW ntile_window AS\n",
    "         (PARTITION BY start_terminal ORDER BY duration_seconds)\n",
    " ORDER BY start_terminal, duration_seconds"
   ]
  }
 ],
 "metadata": {
  "kernelspec": {
   "display_name": "Python 3",
   "language": "python",
   "name": "python3"
  },
  "language_info": {
   "name": "python",
   "version": "3.10.4"
  },
  "orig_nbformat": 4,
  "vscode": {
   "interpreter": {
    "hash": "e7b2765c452f16a3a4fadf78b91c0bdc1510ecc5741a067e6b0a43ef6f42ca60"
   }
  }
 },
 "nbformat": 4,
 "nbformat_minor": 2
}
