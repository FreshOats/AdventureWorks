{
    "metadata": {
        "kernelspec": {
            "name": "SQL",
            "display_name": "SQL",
            "language": "sql"
        },
        "language_info": {
            "name": "sql",
            "version": ""
        }
    },
    "nbformat_minor": 2,
    "nbformat": 4,
    "cells": [
        {
            "cell_type": "markdown",
            "source": [
                "**Sales Details Window Functions Tutorial**"
            ],
            "metadata": {
                "azdata_cell_guid": "76e3e5a9-a77e-4e3e-a94c-9d0cd34c527a"
            },
            "attachments": {}
        },
        {
            "cell_type": "code",
            "source": [
                "SELECT * \r\n",
                "FROM SalesDetails"
            ],
            "metadata": {
                "azdata_cell_guid": "b7f3a588-e226-4bef-b7c1-9a4d4806ede8",
                "language": "sql"
            },
            "outputs": [
                {
                    "output_type": "display_data",
                    "data": {
                        "text/html": "(17 rows affected)"
                    },
                    "metadata": {}
                },
                {
                    "output_type": "display_data",
                    "data": {
                        "text/html": "Total execution time: 00:00:00.003"
                    },
                    "metadata": {}
                },
                {
                    "output_type": "execute_result",
                    "metadata": {},
                    "execution_count": 1,
                    "data": {
                        "application/vnd.dataresource+json": {
                            "schema": {
                                "fields": [
                                    {
                                        "name": "SalesDetailsId"
                                    },
                                    {
                                        "name": "SalesId"
                                    },
                                    {
                                        "name": "SalesDate"
                                    },
                                    {
                                        "name": "ProductId"
                                    },
                                    {
                                        "name": "Price"
                                    },
                                    {
                                        "name": "Quantity"
                                    },
                                    {
                                        "name": "LineTotal"
                                    }
                                ]
                            },
                            "data": [
                                {
                                    "0": "1",
                                    "1": "1",
                                    "2": "2020-01-05",
                                    "3": "6",
                                    "4": "5.99",
                                    "5": "2",
                                    "6": "11.98"
                                },
                                {
                                    "0": "2",
                                    "1": "1",
                                    "2": "2020-01-05",
                                    "3": "5",
                                    "4": "4.50",
                                    "5": "1",
                                    "6": "4.50"
                                },
                                {
                                    "0": "3",
                                    "1": "1",
                                    "2": "2020-01-05",
                                    "3": "4",
                                    "4": "17.99",
                                    "5": "4",
                                    "6": "71.96"
                                },
                                {
                                    "0": "4",
                                    "1": "2",
                                    "2": "2020-01-07",
                                    "3": "2",
                                    "4": "2.99",
                                    "5": "2",
                                    "6": "5.98"
                                },
                                {
                                    "0": "5",
                                    "1": "2",
                                    "2": "2020-01-07",
                                    "3": "3",
                                    "4": "11.40",
                                    "5": "1",
                                    "6": "11.40"
                                },
                                {
                                    "0": "6",
                                    "1": "3",
                                    "2": "2020-01-07",
                                    "3": "6",
                                    "4": "5.99",
                                    "5": "4",
                                    "6": "23.96"
                                },
                                {
                                    "0": "7",
                                    "1": "3",
                                    "2": "2020-01-07",
                                    "3": "2",
                                    "4": "2.99",
                                    "5": "2",
                                    "6": "5.98"
                                },
                                {
                                    "0": "8",
                                    "1": "3",
                                    "2": "2020-01-07",
                                    "3": "3",
                                    "4": "11.40",
                                    "5": "1",
                                    "6": "11.40"
                                },
                                {
                                    "0": "9",
                                    "1": "3",
                                    "2": "2020-01-07",
                                    "3": "9",
                                    "4": "6.29",
                                    "5": "4",
                                    "6": "25.16"
                                },
                                {
                                    "0": "10",
                                    "1": "4",
                                    "2": "2020-01-08",
                                    "3": "9",
                                    "4": "6.29",
                                    "5": "2",
                                    "6": "12.58"
                                },
                                {
                                    "0": "11",
                                    "1": "4",
                                    "2": "2020-01-08",
                                    "3": "8",
                                    "4": "23.10",
                                    "5": "1",
                                    "6": "23.10"
                                },
                                {
                                    "0": "12",
                                    "1": "4",
                                    "2": "2020-01-08",
                                    "3": "1",
                                    "4": "13.25",
                                    "5": "4",
                                    "6": "53.00"
                                },
                                {
                                    "0": "13",
                                    "1": "4",
                                    "2": "2020-01-08",
                                    "3": "2",
                                    "4": "2.99",
                                    "5": "2",
                                    "6": "5.98"
                                },
                                {
                                    "0": "14",
                                    "1": "4",
                                    "2": "2020-01-08",
                                    "3": "3",
                                    "4": "11.40",
                                    "5": "1",
                                    "6": "11.40"
                                },
                                {
                                    "0": "15",
                                    "1": "5",
                                    "2": "2020-01-10",
                                    "3": "4",
                                    "4": "17.99",
                                    "5": "4",
                                    "6": "71.96"
                                },
                                {
                                    "0": "16",
                                    "1": "6",
                                    "2": "2020-01-10",
                                    "3": "7",
                                    "4": "19.00",
                                    "5": "2",
                                    "6": "38.00"
                                },
                                {
                                    "0": "17",
                                    "1": "6",
                                    "2": "2020-01-10",
                                    "3": "9",
                                    "4": "6.29",
                                    "5": "10",
                                    "6": "62.90"
                                }
                            ]
                        },
                        "text/html": [
                            "<table>",
                            "<tr><th>SalesDetailsId</th><th>SalesId</th><th>SalesDate</th><th>ProductId</th><th>Price</th><th>Quantity</th><th>LineTotal</th></tr>",
                            "<tr><td>1</td><td>1</td><td>2020-01-05</td><td>6</td><td>5.99</td><td>2</td><td>11.98</td></tr>",
                            "<tr><td>2</td><td>1</td><td>2020-01-05</td><td>5</td><td>4.50</td><td>1</td><td>4.50</td></tr>",
                            "<tr><td>3</td><td>1</td><td>2020-01-05</td><td>4</td><td>17.99</td><td>4</td><td>71.96</td></tr>",
                            "<tr><td>4</td><td>2</td><td>2020-01-07</td><td>2</td><td>2.99</td><td>2</td><td>5.98</td></tr>",
                            "<tr><td>5</td><td>2</td><td>2020-01-07</td><td>3</td><td>11.40</td><td>1</td><td>11.40</td></tr>",
                            "<tr><td>6</td><td>3</td><td>2020-01-07</td><td>6</td><td>5.99</td><td>4</td><td>23.96</td></tr>",
                            "<tr><td>7</td><td>3</td><td>2020-01-07</td><td>2</td><td>2.99</td><td>2</td><td>5.98</td></tr>",
                            "<tr><td>8</td><td>3</td><td>2020-01-07</td><td>3</td><td>11.40</td><td>1</td><td>11.40</td></tr>",
                            "<tr><td>9</td><td>3</td><td>2020-01-07</td><td>9</td><td>6.29</td><td>4</td><td>25.16</td></tr>",
                            "<tr><td>10</td><td>4</td><td>2020-01-08</td><td>9</td><td>6.29</td><td>2</td><td>12.58</td></tr>",
                            "<tr><td>11</td><td>4</td><td>2020-01-08</td><td>8</td><td>23.10</td><td>1</td><td>23.10</td></tr>",
                            "<tr><td>12</td><td>4</td><td>2020-01-08</td><td>1</td><td>13.25</td><td>4</td><td>53.00</td></tr>",
                            "<tr><td>13</td><td>4</td><td>2020-01-08</td><td>2</td><td>2.99</td><td>2</td><td>5.98</td></tr>",
                            "<tr><td>14</td><td>4</td><td>2020-01-08</td><td>3</td><td>11.40</td><td>1</td><td>11.40</td></tr>",
                            "<tr><td>15</td><td>5</td><td>2020-01-10</td><td>4</td><td>17.99</td><td>4</td><td>71.96</td></tr>",
                            "<tr><td>16</td><td>6</td><td>2020-01-10</td><td>7</td><td>19.00</td><td>2</td><td>38.00</td></tr>",
                            "<tr><td>17</td><td>6</td><td>2020-01-10</td><td>9</td><td>6.29</td><td>10</td><td>62.90</td></tr>",
                            "</table>"
                        ]
                    }
                }
            ],
            "execution_count": 1
        },
        {
            "cell_type": "markdown",
            "source": [
                "Find the sum of the line total"
            ],
            "metadata": {
                "azdata_cell_guid": "5b5cdd78-79bf-4478-bc65-05d4c6d4a013"
            },
            "attachments": {}
        },
        {
            "cell_type": "code",
            "source": [
                "SELECT \r\n",
                "    SalesId,\r\n",
                "    SUM(LineTotal) AS SalesTotal\r\n",
                "FROM dbo.SalesDetails\r\n",
                "GROUP BY \r\n",
                "    SalesID;"
            ],
            "metadata": {
                "azdata_cell_guid": "c7e84ce6-bd81-4713-8539-bc4e710d2b3e",
                "language": "sql"
            },
            "outputs": [
                {
                    "output_type": "display_data",
                    "data": {
                        "text/html": "(6 rows affected)"
                    },
                    "metadata": {}
                },
                {
                    "output_type": "display_data",
                    "data": {
                        "text/html": "Total execution time: 00:00:00.015"
                    },
                    "metadata": {}
                },
                {
                    "output_type": "execute_result",
                    "metadata": {},
                    "execution_count": 2,
                    "data": {
                        "application/vnd.dataresource+json": {
                            "schema": {
                                "fields": [
                                    {
                                        "name": "SalesId"
                                    },
                                    {
                                        "name": "SalesTotal"
                                    }
                                ]
                            },
                            "data": [
                                {
                                    "0": "1",
                                    "1": "88.44"
                                },
                                {
                                    "0": "2",
                                    "1": "17.38"
                                },
                                {
                                    "0": "3",
                                    "1": "66.50"
                                },
                                {
                                    "0": "4",
                                    "1": "106.06"
                                },
                                {
                                    "0": "5",
                                    "1": "71.96"
                                },
                                {
                                    "0": "6",
                                    "1": "100.90"
                                }
                            ]
                        },
                        "text/html": [
                            "<table>",
                            "<tr><th>SalesId</th><th>SalesTotal</th></tr>",
                            "<tr><td>1</td><td>88.44</td></tr>",
                            "<tr><td>2</td><td>17.38</td></tr>",
                            "<tr><td>3</td><td>66.50</td></tr>",
                            "<tr><td>4</td><td>106.06</td></tr>",
                            "<tr><td>5</td><td>71.96</td></tr>",
                            "<tr><td>6</td><td>100.90</td></tr>",
                            "</table>"
                        ]
                    }
                }
            ],
            "execution_count": 2
        },
        {
            "cell_type": "markdown",
            "source": [
                "Can join this back to the original table..."
            ],
            "metadata": {
                "azdata_cell_guid": "cdbaef6e-dc8a-4875-902e-be288e5f8a1a"
            },
            "attachments": {}
        },
        {
            "cell_type": "code",
            "source": [
                "WITH CTE AS (\r\n",
                "    SELECT \r\n",
                "        SalesId,\r\n",
                "        SUM(LineTotal) AS SalesTotal\r\n",
                "    FROM dbo.SalesDetails\r\n",
                "    GROUP BY \r\n",
                "        SalesID\r\n",
                ")\r\n",
                "SELECT  \r\n",
                "    SalesDetailsId, \r\n",
                "    A.SalesId, \r\n",
                "    SalesDate, \r\n",
                "    ProductId, \r\n",
                "    Price, \r\n",
                "    Quantity, \r\n",
                "    LineTotal, \r\n",
                "    SalesTotal\r\n",
                "FROM SalesDetails AS A\r\n",
                "    INNER JOIN CTE AS B\r\n",
                "        ON A.SalesId = B.SalesId;\r\n",
                ""
            ],
            "metadata": {
                "azdata_cell_guid": "16e55fc1-df44-4713-9969-2396b6b16c4f",
                "language": "sql"
            },
            "outputs": [
                {
                    "output_type": "display_data",
                    "data": {
                        "text/html": "(17 rows affected)"
                    },
                    "metadata": {}
                },
                {
                    "output_type": "display_data",
                    "data": {
                        "text/html": "Total execution time: 00:00:00.024"
                    },
                    "metadata": {}
                },
                {
                    "output_type": "execute_result",
                    "metadata": {},
                    "execution_count": 3,
                    "data": {
                        "application/vnd.dataresource+json": {
                            "schema": {
                                "fields": [
                                    {
                                        "name": "SalesDetailsId"
                                    },
                                    {
                                        "name": "SalesId"
                                    },
                                    {
                                        "name": "SalesDate"
                                    },
                                    {
                                        "name": "ProductId"
                                    },
                                    {
                                        "name": "Price"
                                    },
                                    {
                                        "name": "Quantity"
                                    },
                                    {
                                        "name": "LineTotal"
                                    },
                                    {
                                        "name": "SalesTotal"
                                    }
                                ]
                            },
                            "data": [
                                {
                                    "0": "1",
                                    "1": "1",
                                    "2": "2020-01-05",
                                    "3": "6",
                                    "4": "5.99",
                                    "5": "2",
                                    "6": "11.98",
                                    "7": "88.44"
                                },
                                {
                                    "0": "2",
                                    "1": "1",
                                    "2": "2020-01-05",
                                    "3": "5",
                                    "4": "4.50",
                                    "5": "1",
                                    "6": "4.50",
                                    "7": "88.44"
                                },
                                {
                                    "0": "3",
                                    "1": "1",
                                    "2": "2020-01-05",
                                    "3": "4",
                                    "4": "17.99",
                                    "5": "4",
                                    "6": "71.96",
                                    "7": "88.44"
                                },
                                {
                                    "0": "4",
                                    "1": "2",
                                    "2": "2020-01-07",
                                    "3": "2",
                                    "4": "2.99",
                                    "5": "2",
                                    "6": "5.98",
                                    "7": "17.38"
                                },
                                {
                                    "0": "5",
                                    "1": "2",
                                    "2": "2020-01-07",
                                    "3": "3",
                                    "4": "11.40",
                                    "5": "1",
                                    "6": "11.40",
                                    "7": "17.38"
                                },
                                {
                                    "0": "6",
                                    "1": "3",
                                    "2": "2020-01-07",
                                    "3": "6",
                                    "4": "5.99",
                                    "5": "4",
                                    "6": "23.96",
                                    "7": "66.50"
                                },
                                {
                                    "0": "7",
                                    "1": "3",
                                    "2": "2020-01-07",
                                    "3": "2",
                                    "4": "2.99",
                                    "5": "2",
                                    "6": "5.98",
                                    "7": "66.50"
                                },
                                {
                                    "0": "8",
                                    "1": "3",
                                    "2": "2020-01-07",
                                    "3": "3",
                                    "4": "11.40",
                                    "5": "1",
                                    "6": "11.40",
                                    "7": "66.50"
                                },
                                {
                                    "0": "9",
                                    "1": "3",
                                    "2": "2020-01-07",
                                    "3": "9",
                                    "4": "6.29",
                                    "5": "4",
                                    "6": "25.16",
                                    "7": "66.50"
                                },
                                {
                                    "0": "10",
                                    "1": "4",
                                    "2": "2020-01-08",
                                    "3": "9",
                                    "4": "6.29",
                                    "5": "2",
                                    "6": "12.58",
                                    "7": "106.06"
                                },
                                {
                                    "0": "11",
                                    "1": "4",
                                    "2": "2020-01-08",
                                    "3": "8",
                                    "4": "23.10",
                                    "5": "1",
                                    "6": "23.10",
                                    "7": "106.06"
                                },
                                {
                                    "0": "12",
                                    "1": "4",
                                    "2": "2020-01-08",
                                    "3": "1",
                                    "4": "13.25",
                                    "5": "4",
                                    "6": "53.00",
                                    "7": "106.06"
                                },
                                {
                                    "0": "13",
                                    "1": "4",
                                    "2": "2020-01-08",
                                    "3": "2",
                                    "4": "2.99",
                                    "5": "2",
                                    "6": "5.98",
                                    "7": "106.06"
                                },
                                {
                                    "0": "14",
                                    "1": "4",
                                    "2": "2020-01-08",
                                    "3": "3",
                                    "4": "11.40",
                                    "5": "1",
                                    "6": "11.40",
                                    "7": "106.06"
                                },
                                {
                                    "0": "15",
                                    "1": "5",
                                    "2": "2020-01-10",
                                    "3": "4",
                                    "4": "17.99",
                                    "5": "4",
                                    "6": "71.96",
                                    "7": "71.96"
                                },
                                {
                                    "0": "16",
                                    "1": "6",
                                    "2": "2020-01-10",
                                    "3": "7",
                                    "4": "19.00",
                                    "5": "2",
                                    "6": "38.00",
                                    "7": "100.90"
                                },
                                {
                                    "0": "17",
                                    "1": "6",
                                    "2": "2020-01-10",
                                    "3": "9",
                                    "4": "6.29",
                                    "5": "10",
                                    "6": "62.90",
                                    "7": "100.90"
                                }
                            ]
                        },
                        "text/html": [
                            "<table>",
                            "<tr><th>SalesDetailsId</th><th>SalesId</th><th>SalesDate</th><th>ProductId</th><th>Price</th><th>Quantity</th><th>LineTotal</th><th>SalesTotal</th></tr>",
                            "<tr><td>1</td><td>1</td><td>2020-01-05</td><td>6</td><td>5.99</td><td>2</td><td>11.98</td><td>88.44</td></tr>",
                            "<tr><td>2</td><td>1</td><td>2020-01-05</td><td>5</td><td>4.50</td><td>1</td><td>4.50</td><td>88.44</td></tr>",
                            "<tr><td>3</td><td>1</td><td>2020-01-05</td><td>4</td><td>17.99</td><td>4</td><td>71.96</td><td>88.44</td></tr>",
                            "<tr><td>4</td><td>2</td><td>2020-01-07</td><td>2</td><td>2.99</td><td>2</td><td>5.98</td><td>17.38</td></tr>",
                            "<tr><td>5</td><td>2</td><td>2020-01-07</td><td>3</td><td>11.40</td><td>1</td><td>11.40</td><td>17.38</td></tr>",
                            "<tr><td>6</td><td>3</td><td>2020-01-07</td><td>6</td><td>5.99</td><td>4</td><td>23.96</td><td>66.50</td></tr>",
                            "<tr><td>7</td><td>3</td><td>2020-01-07</td><td>2</td><td>2.99</td><td>2</td><td>5.98</td><td>66.50</td></tr>",
                            "<tr><td>8</td><td>3</td><td>2020-01-07</td><td>3</td><td>11.40</td><td>1</td><td>11.40</td><td>66.50</td></tr>",
                            "<tr><td>9</td><td>3</td><td>2020-01-07</td><td>9</td><td>6.29</td><td>4</td><td>25.16</td><td>66.50</td></tr>",
                            "<tr><td>10</td><td>4</td><td>2020-01-08</td><td>9</td><td>6.29</td><td>2</td><td>12.58</td><td>106.06</td></tr>",
                            "<tr><td>11</td><td>4</td><td>2020-01-08</td><td>8</td><td>23.10</td><td>1</td><td>23.10</td><td>106.06</td></tr>",
                            "<tr><td>12</td><td>4</td><td>2020-01-08</td><td>1</td><td>13.25</td><td>4</td><td>53.00</td><td>106.06</td></tr>",
                            "<tr><td>13</td><td>4</td><td>2020-01-08</td><td>2</td><td>2.99</td><td>2</td><td>5.98</td><td>106.06</td></tr>",
                            "<tr><td>14</td><td>4</td><td>2020-01-08</td><td>3</td><td>11.40</td><td>1</td><td>11.40</td><td>106.06</td></tr>",
                            "<tr><td>15</td><td>5</td><td>2020-01-10</td><td>4</td><td>17.99</td><td>4</td><td>71.96</td><td>71.96</td></tr>",
                            "<tr><td>16</td><td>6</td><td>2020-01-10</td><td>7</td><td>19.00</td><td>2</td><td>38.00</td><td>100.90</td></tr>",
                            "<tr><td>17</td><td>6</td><td>2020-01-10</td><td>9</td><td>6.29</td><td>10</td><td>62.90</td><td>100.90</td></tr>",
                            "</table>"
                        ]
                    }
                }
            ],
            "execution_count": 3
        },
        {
            "cell_type": "markdown",
            "source": [
                "With the above, we are fetching the data twice, but a window will only execute through once.\n",
                "\n",
                "  \n",
                "\n",
                "With Window functions, we don't lose the detail from the query:"
            ],
            "metadata": {
                "azdata_cell_guid": "3f3957b7-3ea6-4b64-b6ee-fb9faf7266f7"
            },
            "attachments": {}
        },
        {
            "cell_type": "code",
            "source": [
                "SELECT  \r\n",
                "    SalesDetailsId, \r\n",
                "    SalesId, \r\n",
                "    SalesDate, \r\n",
                "    ProductId, \r\n",
                "    Price, \r\n",
                "    Quantity, \r\n",
                "    LineTotal, \r\n",
                "    SUM(LineTotal) OVER(PARTITION BY SalesId) AS SalesTotal\r\n",
                "FROM SalesDetails;"
            ],
            "metadata": {
                "azdata_cell_guid": "c9f90a36-af98-4681-9e90-6a9129c0a29c",
                "language": "sql"
            },
            "outputs": [
                {
                    "output_type": "display_data",
                    "data": {
                        "text/html": "(17 rows affected)"
                    },
                    "metadata": {}
                },
                {
                    "output_type": "display_data",
                    "data": {
                        "text/html": "Total execution time: 00:00:00.012"
                    },
                    "metadata": {}
                },
                {
                    "output_type": "execute_result",
                    "metadata": {},
                    "execution_count": 4,
                    "data": {
                        "application/vnd.dataresource+json": {
                            "schema": {
                                "fields": [
                                    {
                                        "name": "SalesDetailsId"
                                    },
                                    {
                                        "name": "SalesId"
                                    },
                                    {
                                        "name": "SalesDate"
                                    },
                                    {
                                        "name": "ProductId"
                                    },
                                    {
                                        "name": "Price"
                                    },
                                    {
                                        "name": "Quantity"
                                    },
                                    {
                                        "name": "LineTotal"
                                    },
                                    {
                                        "name": "SalesTotal"
                                    }
                                ]
                            },
                            "data": [
                                {
                                    "0": "1",
                                    "1": "1",
                                    "2": "2020-01-05",
                                    "3": "6",
                                    "4": "5.99",
                                    "5": "2",
                                    "6": "11.98",
                                    "7": "88.44"
                                },
                                {
                                    "0": "2",
                                    "1": "1",
                                    "2": "2020-01-05",
                                    "3": "5",
                                    "4": "4.50",
                                    "5": "1",
                                    "6": "4.50",
                                    "7": "88.44"
                                },
                                {
                                    "0": "3",
                                    "1": "1",
                                    "2": "2020-01-05",
                                    "3": "4",
                                    "4": "17.99",
                                    "5": "4",
                                    "6": "71.96",
                                    "7": "88.44"
                                },
                                {
                                    "0": "4",
                                    "1": "2",
                                    "2": "2020-01-07",
                                    "3": "2",
                                    "4": "2.99",
                                    "5": "2",
                                    "6": "5.98",
                                    "7": "17.38"
                                },
                                {
                                    "0": "5",
                                    "1": "2",
                                    "2": "2020-01-07",
                                    "3": "3",
                                    "4": "11.40",
                                    "5": "1",
                                    "6": "11.40",
                                    "7": "17.38"
                                },
                                {
                                    "0": "6",
                                    "1": "3",
                                    "2": "2020-01-07",
                                    "3": "6",
                                    "4": "5.99",
                                    "5": "4",
                                    "6": "23.96",
                                    "7": "66.50"
                                },
                                {
                                    "0": "7",
                                    "1": "3",
                                    "2": "2020-01-07",
                                    "3": "2",
                                    "4": "2.99",
                                    "5": "2",
                                    "6": "5.98",
                                    "7": "66.50"
                                },
                                {
                                    "0": "8",
                                    "1": "3",
                                    "2": "2020-01-07",
                                    "3": "3",
                                    "4": "11.40",
                                    "5": "1",
                                    "6": "11.40",
                                    "7": "66.50"
                                },
                                {
                                    "0": "9",
                                    "1": "3",
                                    "2": "2020-01-07",
                                    "3": "9",
                                    "4": "6.29",
                                    "5": "4",
                                    "6": "25.16",
                                    "7": "66.50"
                                },
                                {
                                    "0": "10",
                                    "1": "4",
                                    "2": "2020-01-08",
                                    "3": "9",
                                    "4": "6.29",
                                    "5": "2",
                                    "6": "12.58",
                                    "7": "106.06"
                                },
                                {
                                    "0": "11",
                                    "1": "4",
                                    "2": "2020-01-08",
                                    "3": "8",
                                    "4": "23.10",
                                    "5": "1",
                                    "6": "23.10",
                                    "7": "106.06"
                                },
                                {
                                    "0": "12",
                                    "1": "4",
                                    "2": "2020-01-08",
                                    "3": "1",
                                    "4": "13.25",
                                    "5": "4",
                                    "6": "53.00",
                                    "7": "106.06"
                                },
                                {
                                    "0": "13",
                                    "1": "4",
                                    "2": "2020-01-08",
                                    "3": "2",
                                    "4": "2.99",
                                    "5": "2",
                                    "6": "5.98",
                                    "7": "106.06"
                                },
                                {
                                    "0": "14",
                                    "1": "4",
                                    "2": "2020-01-08",
                                    "3": "3",
                                    "4": "11.40",
                                    "5": "1",
                                    "6": "11.40",
                                    "7": "106.06"
                                },
                                {
                                    "0": "15",
                                    "1": "5",
                                    "2": "2020-01-10",
                                    "3": "4",
                                    "4": "17.99",
                                    "5": "4",
                                    "6": "71.96",
                                    "7": "71.96"
                                },
                                {
                                    "0": "16",
                                    "1": "6",
                                    "2": "2020-01-10",
                                    "3": "7",
                                    "4": "19.00",
                                    "5": "2",
                                    "6": "38.00",
                                    "7": "100.90"
                                },
                                {
                                    "0": "17",
                                    "1": "6",
                                    "2": "2020-01-10",
                                    "3": "9",
                                    "4": "6.29",
                                    "5": "10",
                                    "6": "62.90",
                                    "7": "100.90"
                                }
                            ]
                        },
                        "text/html": [
                            "<table>",
                            "<tr><th>SalesDetailsId</th><th>SalesId</th><th>SalesDate</th><th>ProductId</th><th>Price</th><th>Quantity</th><th>LineTotal</th><th>SalesTotal</th></tr>",
                            "<tr><td>1</td><td>1</td><td>2020-01-05</td><td>6</td><td>5.99</td><td>2</td><td>11.98</td><td>88.44</td></tr>",
                            "<tr><td>2</td><td>1</td><td>2020-01-05</td><td>5</td><td>4.50</td><td>1</td><td>4.50</td><td>88.44</td></tr>",
                            "<tr><td>3</td><td>1</td><td>2020-01-05</td><td>4</td><td>17.99</td><td>4</td><td>71.96</td><td>88.44</td></tr>",
                            "<tr><td>4</td><td>2</td><td>2020-01-07</td><td>2</td><td>2.99</td><td>2</td><td>5.98</td><td>17.38</td></tr>",
                            "<tr><td>5</td><td>2</td><td>2020-01-07</td><td>3</td><td>11.40</td><td>1</td><td>11.40</td><td>17.38</td></tr>",
                            "<tr><td>6</td><td>3</td><td>2020-01-07</td><td>6</td><td>5.99</td><td>4</td><td>23.96</td><td>66.50</td></tr>",
                            "<tr><td>7</td><td>3</td><td>2020-01-07</td><td>2</td><td>2.99</td><td>2</td><td>5.98</td><td>66.50</td></tr>",
                            "<tr><td>8</td><td>3</td><td>2020-01-07</td><td>3</td><td>11.40</td><td>1</td><td>11.40</td><td>66.50</td></tr>",
                            "<tr><td>9</td><td>3</td><td>2020-01-07</td><td>9</td><td>6.29</td><td>4</td><td>25.16</td><td>66.50</td></tr>",
                            "<tr><td>10</td><td>4</td><td>2020-01-08</td><td>9</td><td>6.29</td><td>2</td><td>12.58</td><td>106.06</td></tr>",
                            "<tr><td>11</td><td>4</td><td>2020-01-08</td><td>8</td><td>23.10</td><td>1</td><td>23.10</td><td>106.06</td></tr>",
                            "<tr><td>12</td><td>4</td><td>2020-01-08</td><td>1</td><td>13.25</td><td>4</td><td>53.00</td><td>106.06</td></tr>",
                            "<tr><td>13</td><td>4</td><td>2020-01-08</td><td>2</td><td>2.99</td><td>2</td><td>5.98</td><td>106.06</td></tr>",
                            "<tr><td>14</td><td>4</td><td>2020-01-08</td><td>3</td><td>11.40</td><td>1</td><td>11.40</td><td>106.06</td></tr>",
                            "<tr><td>15</td><td>5</td><td>2020-01-10</td><td>4</td><td>17.99</td><td>4</td><td>71.96</td><td>71.96</td></tr>",
                            "<tr><td>16</td><td>6</td><td>2020-01-10</td><td>7</td><td>19.00</td><td>2</td><td>38.00</td><td>100.90</td></tr>",
                            "<tr><td>17</td><td>6</td><td>2020-01-10</td><td>9</td><td>6.29</td><td>10</td><td>62.90</td><td>100.90</td></tr>",
                            "</table>"
                        ]
                    }
                }
            ],
            "execution_count": 4
        },
        {
            "cell_type": "markdown",
            "source": [
                "Adding additional aggregates to the query"
            ],
            "metadata": {
                "azdata_cell_guid": "9bd6c950-1ba8-4603-8b8d-410ec69b8c95"
            },
            "attachments": {}
        },
        {
            "cell_type": "code",
            "source": [
                "SELECT  \r\n",
                "    SalesDetailsId, \r\n",
                "    SalesId, \r\n",
                "    SalesDate, \r\n",
                "    ProductId, \r\n",
                "    Price, \r\n",
                "    Quantity, \r\n",
                "    LineTotal, \r\n",
                "    SUM(LineTotal) OVER(PARTITION BY SalesId) AS SalesTotal, \r\n",
                "    COUNT(SalesDetailsId) OVER(PARTITION BY SalesId) AS SalesCount, \r\n",
                "    SUM(LineTotal) OVER(PARTITION BY SalesDate) AS DailyTotal,\r\n",
                "    SUM(LineTotal) OVER(PARTITION BY SalesDate, ProductId) AS DailyProductSales,\r\n",
                "    SUM(LineTotal) OVER() AS SalesGrandTotal -- there is no partition, so we are using all data\r\n",
                "FROM SalesDetails;"
            ],
            "metadata": {
                "azdata_cell_guid": "d42bb8d6-64bc-4402-8bb6-628c65060d91",
                "language": "sql"
            },
            "outputs": [
                {
                    "output_type": "display_data",
                    "data": {
                        "text/html": "(17 rows affected)"
                    },
                    "metadata": {}
                },
                {
                    "output_type": "display_data",
                    "data": {
                        "text/html": "Total execution time: 00:00:00.033"
                    },
                    "metadata": {}
                },
                {
                    "output_type": "execute_result",
                    "metadata": {},
                    "execution_count": 8,
                    "data": {
                        "application/vnd.dataresource+json": {
                            "schema": {
                                "fields": [
                                    {
                                        "name": "SalesDetailsId"
                                    },
                                    {
                                        "name": "SalesId"
                                    },
                                    {
                                        "name": "SalesDate"
                                    },
                                    {
                                        "name": "ProductId"
                                    },
                                    {
                                        "name": "Price"
                                    },
                                    {
                                        "name": "Quantity"
                                    },
                                    {
                                        "name": "LineTotal"
                                    },
                                    {
                                        "name": "SalesTotal"
                                    },
                                    {
                                        "name": "SalesCount"
                                    },
                                    {
                                        "name": "DailyTotal"
                                    },
                                    {
                                        "name": "DailyProductSales"
                                    },
                                    {
                                        "name": "SalesGrandTotal"
                                    }
                                ]
                            },
                            "data": [
                                {
                                    "0": "3",
                                    "1": "1",
                                    "2": "2020-01-05",
                                    "3": "4",
                                    "4": "17.99",
                                    "5": "4",
                                    "6": "71.96",
                                    "7": "88.44",
                                    "8": "3",
                                    "9": "88.44",
                                    "10": "71.96",
                                    "11": "451.24"
                                },
                                {
                                    "0": "2",
                                    "1": "1",
                                    "2": "2020-01-05",
                                    "3": "5",
                                    "4": "4.50",
                                    "5": "1",
                                    "6": "4.50",
                                    "7": "88.44",
                                    "8": "3",
                                    "9": "88.44",
                                    "10": "4.50",
                                    "11": "451.24"
                                },
                                {
                                    "0": "1",
                                    "1": "1",
                                    "2": "2020-01-05",
                                    "3": "6",
                                    "4": "5.99",
                                    "5": "2",
                                    "6": "11.98",
                                    "7": "88.44",
                                    "8": "3",
                                    "9": "88.44",
                                    "10": "11.98",
                                    "11": "451.24"
                                },
                                {
                                    "0": "4",
                                    "1": "2",
                                    "2": "2020-01-07",
                                    "3": "2",
                                    "4": "2.99",
                                    "5": "2",
                                    "6": "5.98",
                                    "7": "17.38",
                                    "8": "2",
                                    "9": "83.88",
                                    "10": "11.96",
                                    "11": "451.24"
                                },
                                {
                                    "0": "7",
                                    "1": "3",
                                    "2": "2020-01-07",
                                    "3": "2",
                                    "4": "2.99",
                                    "5": "2",
                                    "6": "5.98",
                                    "7": "66.50",
                                    "8": "4",
                                    "9": "83.88",
                                    "10": "11.96",
                                    "11": "451.24"
                                },
                                {
                                    "0": "8",
                                    "1": "3",
                                    "2": "2020-01-07",
                                    "3": "3",
                                    "4": "11.40",
                                    "5": "1",
                                    "6": "11.40",
                                    "7": "66.50",
                                    "8": "4",
                                    "9": "83.88",
                                    "10": "22.80",
                                    "11": "451.24"
                                },
                                {
                                    "0": "5",
                                    "1": "2",
                                    "2": "2020-01-07",
                                    "3": "3",
                                    "4": "11.40",
                                    "5": "1",
                                    "6": "11.40",
                                    "7": "17.38",
                                    "8": "2",
                                    "9": "83.88",
                                    "10": "22.80",
                                    "11": "451.24"
                                },
                                {
                                    "0": "6",
                                    "1": "3",
                                    "2": "2020-01-07",
                                    "3": "6",
                                    "4": "5.99",
                                    "5": "4",
                                    "6": "23.96",
                                    "7": "66.50",
                                    "8": "4",
                                    "9": "83.88",
                                    "10": "23.96",
                                    "11": "451.24"
                                },
                                {
                                    "0": "9",
                                    "1": "3",
                                    "2": "2020-01-07",
                                    "3": "9",
                                    "4": "6.29",
                                    "5": "4",
                                    "6": "25.16",
                                    "7": "66.50",
                                    "8": "4",
                                    "9": "83.88",
                                    "10": "25.16",
                                    "11": "451.24"
                                },
                                {
                                    "0": "12",
                                    "1": "4",
                                    "2": "2020-01-08",
                                    "3": "1",
                                    "4": "13.25",
                                    "5": "4",
                                    "6": "53.00",
                                    "7": "106.06",
                                    "8": "5",
                                    "9": "106.06",
                                    "10": "53.00",
                                    "11": "451.24"
                                },
                                {
                                    "0": "13",
                                    "1": "4",
                                    "2": "2020-01-08",
                                    "3": "2",
                                    "4": "2.99",
                                    "5": "2",
                                    "6": "5.98",
                                    "7": "106.06",
                                    "8": "5",
                                    "9": "106.06",
                                    "10": "5.98",
                                    "11": "451.24"
                                },
                                {
                                    "0": "14",
                                    "1": "4",
                                    "2": "2020-01-08",
                                    "3": "3",
                                    "4": "11.40",
                                    "5": "1",
                                    "6": "11.40",
                                    "7": "106.06",
                                    "8": "5",
                                    "9": "106.06",
                                    "10": "11.40",
                                    "11": "451.24"
                                },
                                {
                                    "0": "11",
                                    "1": "4",
                                    "2": "2020-01-08",
                                    "3": "8",
                                    "4": "23.10",
                                    "5": "1",
                                    "6": "23.10",
                                    "7": "106.06",
                                    "8": "5",
                                    "9": "106.06",
                                    "10": "23.10",
                                    "11": "451.24"
                                },
                                {
                                    "0": "10",
                                    "1": "4",
                                    "2": "2020-01-08",
                                    "3": "9",
                                    "4": "6.29",
                                    "5": "2",
                                    "6": "12.58",
                                    "7": "106.06",
                                    "8": "5",
                                    "9": "106.06",
                                    "10": "12.58",
                                    "11": "451.24"
                                },
                                {
                                    "0": "15",
                                    "1": "5",
                                    "2": "2020-01-10",
                                    "3": "4",
                                    "4": "17.99",
                                    "5": "4",
                                    "6": "71.96",
                                    "7": "71.96",
                                    "8": "1",
                                    "9": "172.86",
                                    "10": "71.96",
                                    "11": "451.24"
                                },
                                {
                                    "0": "16",
                                    "1": "6",
                                    "2": "2020-01-10",
                                    "3": "7",
                                    "4": "19.00",
                                    "5": "2",
                                    "6": "38.00",
                                    "7": "100.90",
                                    "8": "2",
                                    "9": "172.86",
                                    "10": "38.00",
                                    "11": "451.24"
                                },
                                {
                                    "0": "17",
                                    "1": "6",
                                    "2": "2020-01-10",
                                    "3": "9",
                                    "4": "6.29",
                                    "5": "10",
                                    "6": "62.90",
                                    "7": "100.90",
                                    "8": "2",
                                    "9": "172.86",
                                    "10": "62.90",
                                    "11": "451.24"
                                }
                            ]
                        },
                        "text/html": [
                            "<table>",
                            "<tr><th>SalesDetailsId</th><th>SalesId</th><th>SalesDate</th><th>ProductId</th><th>Price</th><th>Quantity</th><th>LineTotal</th><th>SalesTotal</th><th>SalesCount</th><th>DailyTotal</th><th>DailyProductSales</th><th>SalesGrandTotal</th></tr>",
                            "<tr><td>3</td><td>1</td><td>2020-01-05</td><td>4</td><td>17.99</td><td>4</td><td>71.96</td><td>88.44</td><td>3</td><td>88.44</td><td>71.96</td><td>451.24</td></tr>",
                            "<tr><td>2</td><td>1</td><td>2020-01-05</td><td>5</td><td>4.50</td><td>1</td><td>4.50</td><td>88.44</td><td>3</td><td>88.44</td><td>4.50</td><td>451.24</td></tr>",
                            "<tr><td>1</td><td>1</td><td>2020-01-05</td><td>6</td><td>5.99</td><td>2</td><td>11.98</td><td>88.44</td><td>3</td><td>88.44</td><td>11.98</td><td>451.24</td></tr>",
                            "<tr><td>4</td><td>2</td><td>2020-01-07</td><td>2</td><td>2.99</td><td>2</td><td>5.98</td><td>17.38</td><td>2</td><td>83.88</td><td>11.96</td><td>451.24</td></tr>",
                            "<tr><td>7</td><td>3</td><td>2020-01-07</td><td>2</td><td>2.99</td><td>2</td><td>5.98</td><td>66.50</td><td>4</td><td>83.88</td><td>11.96</td><td>451.24</td></tr>",
                            "<tr><td>8</td><td>3</td><td>2020-01-07</td><td>3</td><td>11.40</td><td>1</td><td>11.40</td><td>66.50</td><td>4</td><td>83.88</td><td>22.80</td><td>451.24</td></tr>",
                            "<tr><td>5</td><td>2</td><td>2020-01-07</td><td>3</td><td>11.40</td><td>1</td><td>11.40</td><td>17.38</td><td>2</td><td>83.88</td><td>22.80</td><td>451.24</td></tr>",
                            "<tr><td>6</td><td>3</td><td>2020-01-07</td><td>6</td><td>5.99</td><td>4</td><td>23.96</td><td>66.50</td><td>4</td><td>83.88</td><td>23.96</td><td>451.24</td></tr>",
                            "<tr><td>9</td><td>3</td><td>2020-01-07</td><td>9</td><td>6.29</td><td>4</td><td>25.16</td><td>66.50</td><td>4</td><td>83.88</td><td>25.16</td><td>451.24</td></tr>",
                            "<tr><td>12</td><td>4</td><td>2020-01-08</td><td>1</td><td>13.25</td><td>4</td><td>53.00</td><td>106.06</td><td>5</td><td>106.06</td><td>53.00</td><td>451.24</td></tr>",
                            "<tr><td>13</td><td>4</td><td>2020-01-08</td><td>2</td><td>2.99</td><td>2</td><td>5.98</td><td>106.06</td><td>5</td><td>106.06</td><td>5.98</td><td>451.24</td></tr>",
                            "<tr><td>14</td><td>4</td><td>2020-01-08</td><td>3</td><td>11.40</td><td>1</td><td>11.40</td><td>106.06</td><td>5</td><td>106.06</td><td>11.40</td><td>451.24</td></tr>",
                            "<tr><td>11</td><td>4</td><td>2020-01-08</td><td>8</td><td>23.10</td><td>1</td><td>23.10</td><td>106.06</td><td>5</td><td>106.06</td><td>23.10</td><td>451.24</td></tr>",
                            "<tr><td>10</td><td>4</td><td>2020-01-08</td><td>9</td><td>6.29</td><td>2</td><td>12.58</td><td>106.06</td><td>5</td><td>106.06</td><td>12.58</td><td>451.24</td></tr>",
                            "<tr><td>15</td><td>5</td><td>2020-01-10</td><td>4</td><td>17.99</td><td>4</td><td>71.96</td><td>71.96</td><td>1</td><td>172.86</td><td>71.96</td><td>451.24</td></tr>",
                            "<tr><td>16</td><td>6</td><td>2020-01-10</td><td>7</td><td>19.00</td><td>2</td><td>38.00</td><td>100.90</td><td>2</td><td>172.86</td><td>38.00</td><td>451.24</td></tr>",
                            "<tr><td>17</td><td>6</td><td>2020-01-10</td><td>9</td><td>6.29</td><td>10</td><td>62.90</td><td>100.90</td><td>2</td><td>172.86</td><td>62.90</td><td>451.24</td></tr>",
                            "</table>"
                        ]
                    }
                }
            ],
            "execution_count": 8
        },
        {
            "cell_type": "markdown",
            "source": [
                "Creating some more interesting calculations..."
            ],
            "metadata": {
                "azdata_cell_guid": "e5e88ea3-6ec5-429f-9f22-f1feaf2d6ae5"
            },
            "attachments": {}
        },
        {
            "cell_type": "code",
            "source": [
                "SELECT  \r\n",
                "    SalesDetailsId, \r\n",
                "    SalesId, \r\n",
                "    SalesDate, \r\n",
                "    ProductId, \r\n",
                "    Price, \r\n",
                "    Quantity, \r\n",
                "    LineTotal, \r\n",
                "    100.00 * SUM(LineTotal) OVER(PARTITION BY SalesId) / SUM(LineTotal) OVER() AS PercentTotal -- This is the Sales Id Line total divided by the Grand total \r\n",
                "FROM SalesDetails;"
            ],
            "metadata": {
                "azdata_cell_guid": "e800750a-d1bd-4c53-b3b1-3645de105e07",
                "language": "sql"
            },
            "outputs": [
                {
                    "output_type": "display_data",
                    "data": {
                        "text/html": "(17 rows affected)"
                    },
                    "metadata": {}
                },
                {
                    "output_type": "display_data",
                    "data": {
                        "text/html": "Total execution time: 00:00:00.021"
                    },
                    "metadata": {}
                },
                {
                    "output_type": "execute_result",
                    "metadata": {},
                    "execution_count": 9,
                    "data": {
                        "application/vnd.dataresource+json": {
                            "schema": {
                                "fields": [
                                    {
                                        "name": "SalesDetailsId"
                                    },
                                    {
                                        "name": "SalesId"
                                    },
                                    {
                                        "name": "SalesDate"
                                    },
                                    {
                                        "name": "ProductId"
                                    },
                                    {
                                        "name": "Price"
                                    },
                                    {
                                        "name": "Quantity"
                                    },
                                    {
                                        "name": "LineTotal"
                                    },
                                    {
                                        "name": "PercentTotal"
                                    }
                                ]
                            },
                            "data": [
                                {
                                    "0": "1",
                                    "1": "1",
                                    "2": "2020-01-05",
                                    "3": "6",
                                    "4": "5.99",
                                    "5": "2",
                                    "6": "11.98",
                                    "7": "19.599326300859852"
                                },
                                {
                                    "0": "2",
                                    "1": "1",
                                    "2": "2020-01-05",
                                    "3": "5",
                                    "4": "4.50",
                                    "5": "1",
                                    "6": "4.50",
                                    "7": "19.599326300859852"
                                },
                                {
                                    "0": "3",
                                    "1": "1",
                                    "2": "2020-01-05",
                                    "3": "4",
                                    "4": "17.99",
                                    "5": "4",
                                    "6": "71.96",
                                    "7": "19.599326300859852"
                                },
                                {
                                    "0": "4",
                                    "1": "2",
                                    "2": "2020-01-07",
                                    "3": "2",
                                    "4": "2.99",
                                    "5": "2",
                                    "6": "5.98",
                                    "7": "3.851608899920219"
                                },
                                {
                                    "0": "5",
                                    "1": "2",
                                    "2": "2020-01-07",
                                    "3": "3",
                                    "4": "11.40",
                                    "5": "1",
                                    "6": "11.40",
                                    "7": "3.851608899920219"
                                },
                                {
                                    "0": "6",
                                    "1": "3",
                                    "2": "2020-01-07",
                                    "3": "6",
                                    "4": "5.99",
                                    "5": "4",
                                    "6": "23.96",
                                    "7": "14.737168690718907"
                                },
                                {
                                    "0": "7",
                                    "1": "3",
                                    "2": "2020-01-07",
                                    "3": "2",
                                    "4": "2.99",
                                    "5": "2",
                                    "6": "5.98",
                                    "7": "14.737168690718907"
                                },
                                {
                                    "0": "8",
                                    "1": "3",
                                    "2": "2020-01-07",
                                    "3": "3",
                                    "4": "11.40",
                                    "5": "1",
                                    "6": "11.40",
                                    "7": "14.737168690718907"
                                },
                                {
                                    "0": "9",
                                    "1": "3",
                                    "2": "2020-01-07",
                                    "3": "9",
                                    "4": "6.29",
                                    "5": "4",
                                    "6": "25.16",
                                    "7": "14.737168690718907"
                                },
                                {
                                    "0": "10",
                                    "1": "4",
                                    "2": "2020-01-08",
                                    "3": "9",
                                    "4": "6.29",
                                    "5": "2",
                                    "6": "12.58",
                                    "7": "23.504121975002216"
                                },
                                {
                                    "0": "11",
                                    "1": "4",
                                    "2": "2020-01-08",
                                    "3": "8",
                                    "4": "23.10",
                                    "5": "1",
                                    "6": "23.10",
                                    "7": "23.504121975002216"
                                },
                                {
                                    "0": "12",
                                    "1": "4",
                                    "2": "2020-01-08",
                                    "3": "1",
                                    "4": "13.25",
                                    "5": "4",
                                    "6": "53.00",
                                    "7": "23.504121975002216"
                                },
                                {
                                    "0": "13",
                                    "1": "4",
                                    "2": "2020-01-08",
                                    "3": "2",
                                    "4": "2.99",
                                    "5": "2",
                                    "6": "5.98",
                                    "7": "23.504121975002216"
                                },
                                {
                                    "0": "14",
                                    "1": "4",
                                    "2": "2020-01-08",
                                    "3": "3",
                                    "4": "11.40",
                                    "5": "1",
                                    "6": "11.40",
                                    "7": "23.504121975002216"
                                },
                                {
                                    "0": "15",
                                    "1": "5",
                                    "2": "2020-01-10",
                                    "3": "4",
                                    "4": "17.99",
                                    "5": "4",
                                    "6": "71.96",
                                    "7": "15.947167804272670"
                                },
                                {
                                    "0": "16",
                                    "1": "6",
                                    "2": "2020-01-10",
                                    "3": "7",
                                    "4": "19.00",
                                    "5": "2",
                                    "6": "38.00",
                                    "7": "22.360606329226132"
                                },
                                {
                                    "0": "17",
                                    "1": "6",
                                    "2": "2020-01-10",
                                    "3": "9",
                                    "4": "6.29",
                                    "5": "10",
                                    "6": "62.90",
                                    "7": "22.360606329226132"
                                }
                            ]
                        },
                        "text/html": [
                            "<table>",
                            "<tr><th>SalesDetailsId</th><th>SalesId</th><th>SalesDate</th><th>ProductId</th><th>Price</th><th>Quantity</th><th>LineTotal</th><th>PercentTotal</th></tr>",
                            "<tr><td>1</td><td>1</td><td>2020-01-05</td><td>6</td><td>5.99</td><td>2</td><td>11.98</td><td>19.599326300859852</td></tr>",
                            "<tr><td>2</td><td>1</td><td>2020-01-05</td><td>5</td><td>4.50</td><td>1</td><td>4.50</td><td>19.599326300859852</td></tr>",
                            "<tr><td>3</td><td>1</td><td>2020-01-05</td><td>4</td><td>17.99</td><td>4</td><td>71.96</td><td>19.599326300859852</td></tr>",
                            "<tr><td>4</td><td>2</td><td>2020-01-07</td><td>2</td><td>2.99</td><td>2</td><td>5.98</td><td>3.851608899920219</td></tr>",
                            "<tr><td>5</td><td>2</td><td>2020-01-07</td><td>3</td><td>11.40</td><td>1</td><td>11.40</td><td>3.851608899920219</td></tr>",
                            "<tr><td>6</td><td>3</td><td>2020-01-07</td><td>6</td><td>5.99</td><td>4</td><td>23.96</td><td>14.737168690718907</td></tr>",
                            "<tr><td>7</td><td>3</td><td>2020-01-07</td><td>2</td><td>2.99</td><td>2</td><td>5.98</td><td>14.737168690718907</td></tr>",
                            "<tr><td>8</td><td>3</td><td>2020-01-07</td><td>3</td><td>11.40</td><td>1</td><td>11.40</td><td>14.737168690718907</td></tr>",
                            "<tr><td>9</td><td>3</td><td>2020-01-07</td><td>9</td><td>6.29</td><td>4</td><td>25.16</td><td>14.737168690718907</td></tr>",
                            "<tr><td>10</td><td>4</td><td>2020-01-08</td><td>9</td><td>6.29</td><td>2</td><td>12.58</td><td>23.504121975002216</td></tr>",
                            "<tr><td>11</td><td>4</td><td>2020-01-08</td><td>8</td><td>23.10</td><td>1</td><td>23.10</td><td>23.504121975002216</td></tr>",
                            "<tr><td>12</td><td>4</td><td>2020-01-08</td><td>1</td><td>13.25</td><td>4</td><td>53.00</td><td>23.504121975002216</td></tr>",
                            "<tr><td>13</td><td>4</td><td>2020-01-08</td><td>2</td><td>2.99</td><td>2</td><td>5.98</td><td>23.504121975002216</td></tr>",
                            "<tr><td>14</td><td>4</td><td>2020-01-08</td><td>3</td><td>11.40</td><td>1</td><td>11.40</td><td>23.504121975002216</td></tr>",
                            "<tr><td>15</td><td>5</td><td>2020-01-10</td><td>4</td><td>17.99</td><td>4</td><td>71.96</td><td>15.947167804272670</td></tr>",
                            "<tr><td>16</td><td>6</td><td>2020-01-10</td><td>7</td><td>19.00</td><td>2</td><td>38.00</td><td>22.360606329226132</td></tr>",
                            "<tr><td>17</td><td>6</td><td>2020-01-10</td><td>9</td><td>6.29</td><td>10</td><td>62.90</td><td>22.360606329226132</td></tr>",
                            "</table>"
                        ]
                    }
                }
            ],
            "execution_count": 9
        },
        {
            "cell_type": "markdown",
            "source": [
                "Next, looking at Lag and Lead"
            ],
            "metadata": {
                "azdata_cell_guid": "fc665c75-6ec2-44f8-ad19-d0e3443f105f"
            },
            "attachments": {}
        },
        {
            "cell_type": "code",
            "source": [
                "SELECT \r\n",
                "    Sales_Customer_Id, \r\n",
                "    Sales_Date,\r\n",
                "    LAG(Sales_Amount) OVER(PARTITION BY Sales_Customer_Id ORDER BY Sales_Date) AS PrevValue, \r\n",
                "    Sales_Amount, \r\n",
                "    LEAD(Sales_Amount) OVER(PARTITION BY Sales_Customer_Id ORDER BY Sales_Date) AS NextValue\r\n",
                "FROM Sales\r\n",
                ""
            ],
            "metadata": {
                "azdata_cell_guid": "c88316c3-97aa-434e-bed1-f7ed6921dd15",
                "language": "sql"
            },
            "outputs": [
                {
                    "output_type": "display_data",
                    "data": {
                        "text/html": "(5 rows affected)"
                    },
                    "metadata": {}
                },
                {
                    "output_type": "display_data",
                    "data": {
                        "text/html": "Total execution time: 00:00:00.003"
                    },
                    "metadata": {}
                },
                {
                    "output_type": "execute_result",
                    "metadata": {},
                    "execution_count": 14,
                    "data": {
                        "application/vnd.dataresource+json": {
                            "schema": {
                                "fields": [
                                    {
                                        "name": "Sales_Customer_Id"
                                    },
                                    {
                                        "name": "Sales_Date"
                                    },
                                    {
                                        "name": "PrevValue"
                                    },
                                    {
                                        "name": "Sales_Amount"
                                    },
                                    {
                                        "name": "NextValue"
                                    }
                                ]
                            },
                            "data": [
                                {
                                    "0": "1",
                                    "1": "2018-01-02 00:00:00.0000000",
                                    "2": "NULL",
                                    "3": "54.99",
                                    "4": "72.99"
                                },
                                {
                                    "0": "1",
                                    "1": "2018-01-03 00:00:00.0000000",
                                    "2": "54.99",
                                    "3": "72.99",
                                    "4": "34.99"
                                },
                                {
                                    "0": "1",
                                    "1": "2018-01-04 00:00:00.0000000",
                                    "2": "72.99",
                                    "3": "34.99",
                                    "4": "29.99"
                                },
                                {
                                    "0": "1",
                                    "1": "2018-01-15 00:00:00.0000000",
                                    "2": "34.99",
                                    "3": "29.99",
                                    "4": "67.00"
                                },
                                {
                                    "0": "1",
                                    "1": "2018-01-21 00:00:00.0000000",
                                    "2": "29.99",
                                    "3": "67.00",
                                    "4": "NULL"
                                }
                            ]
                        },
                        "text/html": [
                            "<table>",
                            "<tr><th>Sales_Customer_Id</th><th>Sales_Date</th><th>PrevValue</th><th>Sales_Amount</th><th>NextValue</th></tr>",
                            "<tr><td>1</td><td>2018-01-02 00:00:00.0000000</td><td>NULL</td><td>54.99</td><td>72.99</td></tr>",
                            "<tr><td>1</td><td>2018-01-03 00:00:00.0000000</td><td>54.99</td><td>72.99</td><td>34.99</td></tr>",
                            "<tr><td>1</td><td>2018-01-04 00:00:00.0000000</td><td>72.99</td><td>34.99</td><td>29.99</td></tr>",
                            "<tr><td>1</td><td>2018-01-15 00:00:00.0000000</td><td>34.99</td><td>29.99</td><td>67.00</td></tr>",
                            "<tr><td>1</td><td>2018-01-21 00:00:00.0000000</td><td>29.99</td><td>67.00</td><td>NULL</td></tr>",
                            "</table>"
                        ]
                    }
                }
            ],
            "execution_count": 14
        },
        {
            "cell_type": "markdown",
            "source": [
                "Can also introduce and offset"
            ],
            "metadata": {
                "language": "sql",
                "azdata_cell_guid": "7938764f-07a1-460c-b025-87866b8d40d6"
            },
            "attachments": {}
        },
        {
            "cell_type": "code",
            "source": [
                "SELECT \r\n",
                "    Sales_Customer_Id, \r\n",
                "    Sales_Date,\r\n",
                "    LAG(Sales_Amount, 2) OVER(PARTITION BY Sales_Customer_Id ORDER BY Sales_Date) AS PrevValue, \r\n",
                "    Sales_Amount, \r\n",
                "    LEAD(Sales_Amount, 2) OVER(PARTITION BY Sales_Customer_Id ORDER BY Sales_Date) AS NextValue\r\n",
                "FROM Sales"
            ],
            "metadata": {
                "language": "sql",
                "azdata_cell_guid": "7aec6d4b-3307-4111-ac98-a4ffb090995b"
            },
            "outputs": [
                {
                    "output_type": "display_data",
                    "data": {
                        "text/html": "(5 rows affected)"
                    },
                    "metadata": {}
                },
                {
                    "output_type": "display_data",
                    "data": {
                        "text/html": "Total execution time: 00:00:00.006"
                    },
                    "metadata": {}
                },
                {
                    "output_type": "execute_result",
                    "metadata": {},
                    "execution_count": 15,
                    "data": {
                        "application/vnd.dataresource+json": {
                            "schema": {
                                "fields": [
                                    {
                                        "name": "Sales_Customer_Id"
                                    },
                                    {
                                        "name": "Sales_Date"
                                    },
                                    {
                                        "name": "PrevValue"
                                    },
                                    {
                                        "name": "Sales_Amount"
                                    },
                                    {
                                        "name": "NextValue"
                                    }
                                ]
                            },
                            "data": [
                                {
                                    "0": "1",
                                    "1": "2018-01-02 00:00:00.0000000",
                                    "2": "NULL",
                                    "3": "54.99",
                                    "4": "34.99"
                                },
                                {
                                    "0": "1",
                                    "1": "2018-01-03 00:00:00.0000000",
                                    "2": "NULL",
                                    "3": "72.99",
                                    "4": "29.99"
                                },
                                {
                                    "0": "1",
                                    "1": "2018-01-04 00:00:00.0000000",
                                    "2": "54.99",
                                    "3": "34.99",
                                    "4": "67.00"
                                },
                                {
                                    "0": "1",
                                    "1": "2018-01-15 00:00:00.0000000",
                                    "2": "72.99",
                                    "3": "29.99",
                                    "4": "NULL"
                                },
                                {
                                    "0": "1",
                                    "1": "2018-01-21 00:00:00.0000000",
                                    "2": "34.99",
                                    "3": "67.00",
                                    "4": "NULL"
                                }
                            ]
                        },
                        "text/html": [
                            "<table>",
                            "<tr><th>Sales_Customer_Id</th><th>Sales_Date</th><th>PrevValue</th><th>Sales_Amount</th><th>NextValue</th></tr>",
                            "<tr><td>1</td><td>2018-01-02 00:00:00.0000000</td><td>NULL</td><td>54.99</td><td>34.99</td></tr>",
                            "<tr><td>1</td><td>2018-01-03 00:00:00.0000000</td><td>NULL</td><td>72.99</td><td>29.99</td></tr>",
                            "<tr><td>1</td><td>2018-01-04 00:00:00.0000000</td><td>54.99</td><td>34.99</td><td>67.00</td></tr>",
                            "<tr><td>1</td><td>2018-01-15 00:00:00.0000000</td><td>72.99</td><td>29.99</td><td>NULL</td></tr>",
                            "<tr><td>1</td><td>2018-01-21 00:00:00.0000000</td><td>34.99</td><td>67.00</td><td>NULL</td></tr>",
                            "</table>"
                        ]
                    }
                }
            ],
            "execution_count": 15
        },
        {
            "cell_type": "markdown",
            "source": [
                "Entering the third parameter will fill the nulls - in this case I'll set it to 0"
            ],
            "metadata": {
                "language": "sql",
                "azdata_cell_guid": "ad8dba08-f94e-4544-93ed-b4efe0a2e0a7"
            },
            "attachments": {}
        },
        {
            "cell_type": "code",
            "source": [
                "SELECT \r\n",
                "    Sales_Customer_Id, \r\n",
                "    Sales_Date,\r\n",
                "    LAG(Sales_Amount, 2, 0) OVER(PARTITION BY Sales_Customer_Id ORDER BY Sales_Date) AS PrevValue, \r\n",
                "    Sales_Amount, \r\n",
                "    LEAD(Sales_Amount, 2, 0) OVER(PARTITION BY Sales_Customer_Id ORDER BY Sales_Date) AS NextValue\r\n",
                "FROM Sales"
            ],
            "metadata": {
                "language": "sql",
                "azdata_cell_guid": "be3a9c94-e61b-4b71-abce-6281ddc00d34"
            },
            "outputs": [
                {
                    "output_type": "display_data",
                    "data": {
                        "text/html": "(5 rows affected)"
                    },
                    "metadata": {}
                },
                {
                    "output_type": "display_data",
                    "data": {
                        "text/html": "Total execution time: 00:00:00.008"
                    },
                    "metadata": {}
                },
                {
                    "output_type": "execute_result",
                    "metadata": {},
                    "execution_count": 16,
                    "data": {
                        "application/vnd.dataresource+json": {
                            "schema": {
                                "fields": [
                                    {
                                        "name": "Sales_Customer_Id"
                                    },
                                    {
                                        "name": "Sales_Date"
                                    },
                                    {
                                        "name": "PrevValue"
                                    },
                                    {
                                        "name": "Sales_Amount"
                                    },
                                    {
                                        "name": "NextValue"
                                    }
                                ]
                            },
                            "data": [
                                {
                                    "0": "1",
                                    "1": "2018-01-02 00:00:00.0000000",
                                    "2": "0.00",
                                    "3": "54.99",
                                    "4": "34.99"
                                },
                                {
                                    "0": "1",
                                    "1": "2018-01-03 00:00:00.0000000",
                                    "2": "0.00",
                                    "3": "72.99",
                                    "4": "29.99"
                                },
                                {
                                    "0": "1",
                                    "1": "2018-01-04 00:00:00.0000000",
                                    "2": "54.99",
                                    "3": "34.99",
                                    "4": "67.00"
                                },
                                {
                                    "0": "1",
                                    "1": "2018-01-15 00:00:00.0000000",
                                    "2": "72.99",
                                    "3": "29.99",
                                    "4": "0.00"
                                },
                                {
                                    "0": "1",
                                    "1": "2018-01-21 00:00:00.0000000",
                                    "2": "34.99",
                                    "3": "67.00",
                                    "4": "0.00"
                                }
                            ]
                        },
                        "text/html": [
                            "<table>",
                            "<tr><th>Sales_Customer_Id</th><th>Sales_Date</th><th>PrevValue</th><th>Sales_Amount</th><th>NextValue</th></tr>",
                            "<tr><td>1</td><td>2018-01-02 00:00:00.0000000</td><td>0.00</td><td>54.99</td><td>34.99</td></tr>",
                            "<tr><td>1</td><td>2018-01-03 00:00:00.0000000</td><td>0.00</td><td>72.99</td><td>29.99</td></tr>",
                            "<tr><td>1</td><td>2018-01-04 00:00:00.0000000</td><td>54.99</td><td>34.99</td><td>67.00</td></tr>",
                            "<tr><td>1</td><td>2018-01-15 00:00:00.0000000</td><td>72.99</td><td>29.99</td><td>0.00</td></tr>",
                            "<tr><td>1</td><td>2018-01-21 00:00:00.0000000</td><td>34.99</td><td>67.00</td><td>0.00</td></tr>",
                            "</table>"
                        ]
                    }
                }
            ],
            "execution_count": 16
        },
        {
            "cell_type": "markdown",
            "source": [
                "To find the running difference or average running difference, can use the lag function in partitioning"
            ],
            "metadata": {
                "language": "sql",
                "azdata_cell_guid": "dfd6365e-00da-4283-9e32-251057c27e86"
            },
            "attachments": {}
        },
        {
            "cell_type": "code",
            "source": [
                "SELECT \r\n",
                "    Sales_Customer_Id, \r\n",
                "    Sales_Date, \r\n",
                "    Sales_Amount, \r\n",
                "    LAG(Sales_Amount) OVER(PARTITION BY Sales_Customer_Id ORDER BY Sales_Date) AS PrevValue, \r\n",
                "    Sales_Amount - LAG(Sales_Amount) OVER(PARTITION BY Sales_Customer_Id ORDER BY Sales_Date) AS RunningDifference\r\n",
                "FROM Sales\r\n",
                ""
            ],
            "metadata": {
                "azdata_cell_guid": "6af3c365-95da-40d3-a0f7-2d332bc3b740",
                "language": "sql"
            },
            "outputs": [
                {
                    "output_type": "display_data",
                    "data": {
                        "text/html": "(5 rows affected)"
                    },
                    "metadata": {}
                },
                {
                    "output_type": "display_data",
                    "data": {
                        "text/html": "Total execution time: 00:00:00.010"
                    },
                    "metadata": {}
                },
                {
                    "output_type": "execute_result",
                    "metadata": {},
                    "execution_count": 23,
                    "data": {
                        "application/vnd.dataresource+json": {
                            "schema": {
                                "fields": [
                                    {
                                        "name": "Sales_Customer_Id"
                                    },
                                    {
                                        "name": "Sales_Date"
                                    },
                                    {
                                        "name": "Sales_Amount"
                                    },
                                    {
                                        "name": "PrevValue"
                                    },
                                    {
                                        "name": "RunningDifference"
                                    }
                                ]
                            },
                            "data": [
                                {
                                    "0": "1",
                                    "1": "2018-01-02 00:00:00.0000000",
                                    "2": "54.99",
                                    "3": "NULL",
                                    "4": "NULL"
                                },
                                {
                                    "0": "1",
                                    "1": "2018-01-03 00:00:00.0000000",
                                    "2": "72.99",
                                    "3": "54.99",
                                    "4": "18.00"
                                },
                                {
                                    "0": "1",
                                    "1": "2018-01-04 00:00:00.0000000",
                                    "2": "34.99",
                                    "3": "72.99",
                                    "4": "-38.00"
                                },
                                {
                                    "0": "1",
                                    "1": "2018-01-15 00:00:00.0000000",
                                    "2": "29.99",
                                    "3": "34.99",
                                    "4": "-5.00"
                                },
                                {
                                    "0": "1",
                                    "1": "2018-01-21 00:00:00.0000000",
                                    "2": "67.00",
                                    "3": "29.99",
                                    "4": "37.01"
                                }
                            ]
                        },
                        "text/html": [
                            "<table>",
                            "<tr><th>Sales_Customer_Id</th><th>Sales_Date</th><th>Sales_Amount</th><th>PrevValue</th><th>RunningDifference</th></tr>",
                            "<tr><td>1</td><td>2018-01-02 00:00:00.0000000</td><td>54.99</td><td>NULL</td><td>NULL</td></tr>",
                            "<tr><td>1</td><td>2018-01-03 00:00:00.0000000</td><td>72.99</td><td>54.99</td><td>18.00</td></tr>",
                            "<tr><td>1</td><td>2018-01-04 00:00:00.0000000</td><td>34.99</td><td>72.99</td><td>-38.00</td></tr>",
                            "<tr><td>1</td><td>2018-01-15 00:00:00.0000000</td><td>29.99</td><td>34.99</td><td>-5.00</td></tr>",
                            "<tr><td>1</td><td>2018-01-21 00:00:00.0000000</td><td>67.00</td><td>29.99</td><td>37.01</td></tr>",
                            "</table>"
                        ]
                    }
                }
            ],
            "execution_count": 23
        },
        {
            "cell_type": "markdown",
            "source": [
                "To get the average of the running difference, use the CTE"
            ],
            "metadata": {
                "azdata_cell_guid": "82f6c135-5bc5-47a5-8364-3624ac682537"
            },
            "attachments": {}
        },
        {
            "cell_type": "code",
            "source": [
                "WITH RunningDiffs AS (\r\n",
                "    SELECT \r\n",
                "        Sales_Customer_Id, \r\n",
                "        Sales_Date, \r\n",
                "        Sales_Amount, \r\n",
                "        LAG(Sales_Amount) OVER(PARTITION BY Sales_Customer_Id ORDER BY Sales_Date) AS PrevValue, \r\n",
                "        Sales_Amount - LAG(Sales_Amount) OVER(PARTITION BY Sales_Customer_Id ORDER BY Sales_Date) AS RunningDifference\r\n",
                "    FROM Sales\r\n",
                ")\r\n",
                "SELECT \r\n",
                "    Sales_Customer_Id, \r\n",
                "    AVG(RunningDifference) AS Avg_Difference\r\n",
                "FROM RunningDiffs\r\n",
                "GROUP BY Sales_Customer_Id\r\n",
                "ORDER BY Avg_Difference DESC;"
            ],
            "metadata": {
                "azdata_cell_guid": "0fc60656-20e9-4623-8b72-4930917d295e",
                "language": "sql"
            },
            "outputs": [
                {
                    "output_type": "display_data",
                    "data": {
                        "text/html": "Warning: Null value is eliminated by an aggregate or other SET operation."
                    },
                    "metadata": {}
                },
                {
                    "output_type": "display_data",
                    "data": {
                        "text/html": "(1 row affected)"
                    },
                    "metadata": {}
                },
                {
                    "output_type": "display_data",
                    "data": {
                        "text/html": "Total execution time: 00:00:00.009"
                    },
                    "metadata": {}
                },
                {
                    "output_type": "execute_result",
                    "metadata": {},
                    "execution_count": 24,
                    "data": {
                        "application/vnd.dataresource+json": {
                            "schema": {
                                "fields": [
                                    {
                                        "name": "Sales_Customer_Id"
                                    },
                                    {
                                        "name": "Avg_Difference"
                                    }
                                ]
                            },
                            "data": [
                                {
                                    "0": "1",
                                    "1": "3.002500"
                                }
                            ]
                        },
                        "text/html": [
                            "<table>",
                            "<tr><th>Sales_Customer_Id</th><th>Avg_Difference</th></tr>",
                            "<tr><td>1</td><td>3.002500</td></tr>",
                            "</table>"
                        ]
                    }
                }
            ],
            "execution_count": 24
        },
        {
            "cell_type": "markdown",
            "source": [
                "Calculating Rolling Totals using Window Functions"
            ],
            "metadata": {
                "azdata_cell_guid": "c4b00c49-4388-456d-b68c-692a102612b2"
            },
            "attachments": {}
        },
        {
            "cell_type": "code",
            "source": [
                "SELECT\r\n",
                "    *,\r\n",
                "    SUM(Sales_Amount) OVER(ORDER BY Sales_Date) AS Total\r\n",
                "FROM Sales \r\n",
                "ORDER BY Sales_Date"
            ],
            "metadata": {
                "azdata_cell_guid": "e19dcf37-0b99-41fc-b46a-161e583efd0e",
                "language": "sql"
            },
            "outputs": [
                {
                    "output_type": "display_data",
                    "data": {
                        "text/html": "(5 rows affected)"
                    },
                    "metadata": {}
                },
                {
                    "output_type": "display_data",
                    "data": {
                        "text/html": "Total execution time: 00:00:00.010"
                    },
                    "metadata": {}
                },
                {
                    "output_type": "execute_result",
                    "metadata": {},
                    "execution_count": 25,
                    "data": {
                        "application/vnd.dataresource+json": {
                            "schema": {
                                "fields": [
                                    {
                                        "name": "Sales_Id"
                                    },
                                    {
                                        "name": "Sales_Customer_Id"
                                    },
                                    {
                                        "name": "Sales_Date"
                                    },
                                    {
                                        "name": "Sales_Amount"
                                    },
                                    {
                                        "name": "Total"
                                    }
                                ]
                            },
                            "data": [
                                {
                                    "0": "1",
                                    "1": "1",
                                    "2": "2018-01-02 00:00:00.0000000",
                                    "3": "54.99",
                                    "4": "54.99"
                                },
                                {
                                    "0": "2",
                                    "1": "1",
                                    "2": "2018-01-03 00:00:00.0000000",
                                    "3": "72.99",
                                    "4": "127.98"
                                },
                                {
                                    "0": "3",
                                    "1": "1",
                                    "2": "2018-01-04 00:00:00.0000000",
                                    "3": "34.99",
                                    "4": "162.97"
                                },
                                {
                                    "0": "4",
                                    "1": "1",
                                    "2": "2018-01-15 00:00:00.0000000",
                                    "3": "29.99",
                                    "4": "192.96"
                                },
                                {
                                    "0": "5",
                                    "1": "1",
                                    "2": "2018-01-21 00:00:00.0000000",
                                    "3": "67.00",
                                    "4": "259.96"
                                }
                            ]
                        },
                        "text/html": [
                            "<table>",
                            "<tr><th>Sales_Id</th><th>Sales_Customer_Id</th><th>Sales_Date</th><th>Sales_Amount</th><th>Total</th></tr>",
                            "<tr><td>1</td><td>1</td><td>2018-01-02 00:00:00.0000000</td><td>54.99</td><td>54.99</td></tr>",
                            "<tr><td>2</td><td>1</td><td>2018-01-03 00:00:00.0000000</td><td>72.99</td><td>127.98</td></tr>",
                            "<tr><td>3</td><td>1</td><td>2018-01-04 00:00:00.0000000</td><td>34.99</td><td>162.97</td></tr>",
                            "<tr><td>4</td><td>1</td><td>2018-01-15 00:00:00.0000000</td><td>29.99</td><td>192.96</td></tr>",
                            "<tr><td>5</td><td>1</td><td>2018-01-21 00:00:00.0000000</td><td>67.00</td><td>259.96</td></tr>",
                            "</table>"
                        ]
                    }
                }
            ],
            "execution_count": 25
        },
        {
            "cell_type": "markdown",
            "source": [
                "We can change the frame which we want to look at (Window).\n",
                "\n",
                "The following is the same thing...\n",
                "\n",
                "This is a Running Total, as it calculates from the beginning to the end."
            ],
            "metadata": {
                "language": "sql",
                "azdata_cell_guid": "87c1ae15-affa-4cca-8176-af670bdff9a3"
            },
            "attachments": {}
        },
        {
            "cell_type": "code",
            "source": [
                "SELECT\r\n",
                "    *,\r\n",
                "    SUM(Sales_Amount) OVER(ORDER BY Sales_Date ROWS BETWEEN UNBOUNDED PRECEDING AND CURRENT ROW) AS Total\r\n",
                "FROM Sales \r\n",
                "ORDER BY Sales_Date"
            ],
            "metadata": {
                "language": "sql",
                "azdata_cell_guid": "63560f08-caa5-463e-803f-8c8b019a3b30"
            },
            "outputs": [
                {
                    "output_type": "display_data",
                    "data": {
                        "text/html": "(5 rows affected)"
                    },
                    "metadata": {}
                },
                {
                    "output_type": "display_data",
                    "data": {
                        "text/html": "Total execution time: 00:00:00.006"
                    },
                    "metadata": {}
                },
                {
                    "output_type": "execute_result",
                    "metadata": {},
                    "execution_count": 26,
                    "data": {
                        "application/vnd.dataresource+json": {
                            "schema": {
                                "fields": [
                                    {
                                        "name": "Sales_Id"
                                    },
                                    {
                                        "name": "Sales_Customer_Id"
                                    },
                                    {
                                        "name": "Sales_Date"
                                    },
                                    {
                                        "name": "Sales_Amount"
                                    },
                                    {
                                        "name": "Total"
                                    }
                                ]
                            },
                            "data": [
                                {
                                    "0": "1",
                                    "1": "1",
                                    "2": "2018-01-02 00:00:00.0000000",
                                    "3": "54.99",
                                    "4": "54.99"
                                },
                                {
                                    "0": "2",
                                    "1": "1",
                                    "2": "2018-01-03 00:00:00.0000000",
                                    "3": "72.99",
                                    "4": "127.98"
                                },
                                {
                                    "0": "3",
                                    "1": "1",
                                    "2": "2018-01-04 00:00:00.0000000",
                                    "3": "34.99",
                                    "4": "162.97"
                                },
                                {
                                    "0": "4",
                                    "1": "1",
                                    "2": "2018-01-15 00:00:00.0000000",
                                    "3": "29.99",
                                    "4": "192.96"
                                },
                                {
                                    "0": "5",
                                    "1": "1",
                                    "2": "2018-01-21 00:00:00.0000000",
                                    "3": "67.00",
                                    "4": "259.96"
                                }
                            ]
                        },
                        "text/html": [
                            "<table>",
                            "<tr><th>Sales_Id</th><th>Sales_Customer_Id</th><th>Sales_Date</th><th>Sales_Amount</th><th>Total</th></tr>",
                            "<tr><td>1</td><td>1</td><td>2018-01-02 00:00:00.0000000</td><td>54.99</td><td>54.99</td></tr>",
                            "<tr><td>2</td><td>1</td><td>2018-01-03 00:00:00.0000000</td><td>72.99</td><td>127.98</td></tr>",
                            "<tr><td>3</td><td>1</td><td>2018-01-04 00:00:00.0000000</td><td>34.99</td><td>162.97</td></tr>",
                            "<tr><td>4</td><td>1</td><td>2018-01-15 00:00:00.0000000</td><td>29.99</td><td>192.96</td></tr>",
                            "<tr><td>5</td><td>1</td><td>2018-01-21 00:00:00.0000000</td><td>67.00</td><td>259.96</td></tr>",
                            "</table>"
                        ]
                    }
                }
            ],
            "execution_count": 26
        },
        {
            "cell_type": "markdown",
            "source": [
                "Adding Bounds changes the way it is processed\n",
                "\n",
                "This is a Rolling Total, as it only looks at the last 3 months inclusive"
            ],
            "metadata": {
                "language": "sql",
                "azdata_cell_guid": "7f8b09ab-a04b-49a1-b365-0308aeb7d77e"
            },
            "attachments": {}
        },
        {
            "cell_type": "code",
            "source": [
                "SELECT\r\n",
                "    *,\r\n",
                "    SUM(Sales_Amount) OVER(ORDER BY Sales_Date ROWS BETWEEN 2 PRECEDING AND CURRENT ROW) AS Total\r\n",
                "FROM Sales \r\n",
                "ORDER BY Sales_Date"
            ],
            "metadata": {
                "language": "sql",
                "azdata_cell_guid": "0a405802-3f5a-4d97-aac2-f6979938828f"
            },
            "outputs": [
                {
                    "output_type": "display_data",
                    "data": {
                        "text/html": "(5 rows affected)"
                    },
                    "metadata": {}
                },
                {
                    "output_type": "display_data",
                    "data": {
                        "text/html": "Total execution time: 00:00:00.008"
                    },
                    "metadata": {}
                },
                {
                    "output_type": "execute_result",
                    "metadata": {},
                    "execution_count": 28,
                    "data": {
                        "application/vnd.dataresource+json": {
                            "schema": {
                                "fields": [
                                    {
                                        "name": "Sales_Id"
                                    },
                                    {
                                        "name": "Sales_Customer_Id"
                                    },
                                    {
                                        "name": "Sales_Date"
                                    },
                                    {
                                        "name": "Sales_Amount"
                                    },
                                    {
                                        "name": "Total"
                                    }
                                ]
                            },
                            "data": [
                                {
                                    "0": "1",
                                    "1": "1",
                                    "2": "2018-01-02 00:00:00.0000000",
                                    "3": "54.99",
                                    "4": "54.99"
                                },
                                {
                                    "0": "2",
                                    "1": "1",
                                    "2": "2018-01-03 00:00:00.0000000",
                                    "3": "72.99",
                                    "4": "127.98"
                                },
                                {
                                    "0": "3",
                                    "1": "1",
                                    "2": "2018-01-04 00:00:00.0000000",
                                    "3": "34.99",
                                    "4": "162.97"
                                },
                                {
                                    "0": "4",
                                    "1": "1",
                                    "2": "2018-01-15 00:00:00.0000000",
                                    "3": "29.99",
                                    "4": "137.97"
                                },
                                {
                                    "0": "5",
                                    "1": "1",
                                    "2": "2018-01-21 00:00:00.0000000",
                                    "3": "67.00",
                                    "4": "131.98"
                                }
                            ]
                        },
                        "text/html": [
                            "<table>",
                            "<tr><th>Sales_Id</th><th>Sales_Customer_Id</th><th>Sales_Date</th><th>Sales_Amount</th><th>Total</th></tr>",
                            "<tr><td>1</td><td>1</td><td>2018-01-02 00:00:00.0000000</td><td>54.99</td><td>54.99</td></tr>",
                            "<tr><td>2</td><td>1</td><td>2018-01-03 00:00:00.0000000</td><td>72.99</td><td>127.98</td></tr>",
                            "<tr><td>3</td><td>1</td><td>2018-01-04 00:00:00.0000000</td><td>34.99</td><td>162.97</td></tr>",
                            "<tr><td>4</td><td>1</td><td>2018-01-15 00:00:00.0000000</td><td>29.99</td><td>137.97</td></tr>",
                            "<tr><td>5</td><td>1</td><td>2018-01-21 00:00:00.0000000</td><td>67.00</td><td>131.98</td></tr>",
                            "</table>"
                        ]
                    }
                }
            ],
            "execution_count": 28
        },
        {
            "cell_type": "markdown",
            "source": [
                "Can also look at future rows..."
            ],
            "metadata": {
                "language": "sql",
                "azdata_cell_guid": "ee5b3b78-4a7f-4942-ba2a-83469898dac4"
            },
            "attachments": {}
        },
        {
            "cell_type": "code",
            "source": [
                "SELECT\r\n",
                "    *,\r\n",
                "    SUM(Sales_Amount) OVER(ORDER BY Sales_Date ROWS BETWEEN 2 PRECEDING AND CURRENT ROW) AS Total, \r\n",
                "    SUM(Sales_Amount) OVER(ORDER BY Sales_Date ROWS BETWEEN CURRENT ROW AND 3 FOLLOWING) AS Forward\r\n",
                "FROM Sales \r\n",
                "ORDER BY Sales_Date"
            ],
            "metadata": {
                "language": "sql",
                "azdata_cell_guid": "0ede7f80-35f5-4fa7-b1f3-d021185c4500"
            },
            "outputs": [
                {
                    "output_type": "display_data",
                    "data": {
                        "text/html": "(5 rows affected)"
                    },
                    "metadata": {}
                },
                {
                    "output_type": "display_data",
                    "data": {
                        "text/html": "Total execution time: 00:00:00.008"
                    },
                    "metadata": {}
                },
                {
                    "output_type": "execute_result",
                    "metadata": {},
                    "execution_count": 29,
                    "data": {
                        "application/vnd.dataresource+json": {
                            "schema": {
                                "fields": [
                                    {
                                        "name": "Sales_Id"
                                    },
                                    {
                                        "name": "Sales_Customer_Id"
                                    },
                                    {
                                        "name": "Sales_Date"
                                    },
                                    {
                                        "name": "Sales_Amount"
                                    },
                                    {
                                        "name": "Total"
                                    },
                                    {
                                        "name": "Forward"
                                    }
                                ]
                            },
                            "data": [
                                {
                                    "0": "1",
                                    "1": "1",
                                    "2": "2018-01-02 00:00:00.0000000",
                                    "3": "54.99",
                                    "4": "54.99",
                                    "5": "192.96"
                                },
                                {
                                    "0": "2",
                                    "1": "1",
                                    "2": "2018-01-03 00:00:00.0000000",
                                    "3": "72.99",
                                    "4": "127.98",
                                    "5": "204.97"
                                },
                                {
                                    "0": "3",
                                    "1": "1",
                                    "2": "2018-01-04 00:00:00.0000000",
                                    "3": "34.99",
                                    "4": "162.97",
                                    "5": "131.98"
                                },
                                {
                                    "0": "4",
                                    "1": "1",
                                    "2": "2018-01-15 00:00:00.0000000",
                                    "3": "29.99",
                                    "4": "137.97",
                                    "5": "96.99"
                                },
                                {
                                    "0": "5",
                                    "1": "1",
                                    "2": "2018-01-21 00:00:00.0000000",
                                    "3": "67.00",
                                    "4": "131.98",
                                    "5": "67.00"
                                }
                            ]
                        },
                        "text/html": [
                            "<table>",
                            "<tr><th>Sales_Id</th><th>Sales_Customer_Id</th><th>Sales_Date</th><th>Sales_Amount</th><th>Total</th><th>Forward</th></tr>",
                            "<tr><td>1</td><td>1</td><td>2018-01-02 00:00:00.0000000</td><td>54.99</td><td>54.99</td><td>192.96</td></tr>",
                            "<tr><td>2</td><td>1</td><td>2018-01-03 00:00:00.0000000</td><td>72.99</td><td>127.98</td><td>204.97</td></tr>",
                            "<tr><td>3</td><td>1</td><td>2018-01-04 00:00:00.0000000</td><td>34.99</td><td>162.97</td><td>131.98</td></tr>",
                            "<tr><td>4</td><td>1</td><td>2018-01-15 00:00:00.0000000</td><td>29.99</td><td>137.97</td><td>96.99</td></tr>",
                            "<tr><td>5</td><td>1</td><td>2018-01-21 00:00:00.0000000</td><td>67.00</td><td>131.98</td><td>67.00</td></tr>",
                            "</table>"
                        ]
                    }
                }
            ],
            "execution_count": 29
        },
        {
            "cell_type": "markdown",
            "source": [
                "Finding the Top 3 in a table using the Rank Functions"
            ],
            "metadata": {
                "azdata_cell_guid": "834c7e25-d60e-478b-b857-183d9a4d77fb"
            },
            "attachments": {}
        },
        {
            "cell_type": "code",
            "source": [
                "SELECT TOP 5 * \r\n",
                "FROM employee"
            ],
            "metadata": {
                "azdata_cell_guid": "ad042430-7d07-4583-adee-a441752c8cba",
                "language": "sql"
            },
            "outputs": [
                {
                    "output_type": "display_data",
                    "data": {
                        "text/html": "(5 rows affected)"
                    },
                    "metadata": {}
                },
                {
                    "output_type": "display_data",
                    "data": {
                        "text/html": "Total execution time: 00:00:00.008"
                    },
                    "metadata": {}
                },
                {
                    "output_type": "execute_result",
                    "metadata": {},
                    "execution_count": 32,
                    "data": {
                        "application/vnd.dataresource+json": {
                            "schema": {
                                "fields": [
                                    {
                                        "name": "emp_ID"
                                    },
                                    {
                                        "name": "emp_NAME"
                                    },
                                    {
                                        "name": "DEPT_NAME"
                                    },
                                    {
                                        "name": "SALARY"
                                    }
                                ]
                            },
                            "data": [
                                {
                                    "0": "101",
                                    "1": "Mohan",
                                    "2": "Admin",
                                    "3": "4000"
                                },
                                {
                                    "0": "102",
                                    "1": "Rajkumar",
                                    "2": "HR",
                                    "3": "3000"
                                },
                                {
                                    "0": "103",
                                    "1": "Akbar",
                                    "2": "IT",
                                    "3": "4000"
                                },
                                {
                                    "0": "104",
                                    "1": "Dorvin",
                                    "2": "Finance",
                                    "3": "6500"
                                },
                                {
                                    "0": "105",
                                    "1": "Rohit",
                                    "2": "HR",
                                    "3": "3000"
                                }
                            ]
                        },
                        "text/html": [
                            "<table>",
                            "<tr><th>emp_ID</th><th>emp_NAME</th><th>DEPT_NAME</th><th>SALARY</th></tr>",
                            "<tr><td>101</td><td>Mohan</td><td>Admin</td><td>4000</td></tr>",
                            "<tr><td>102</td><td>Rajkumar</td><td>HR</td><td>3000</td></tr>",
                            "<tr><td>103</td><td>Akbar</td><td>IT</td><td>4000</td></tr>",
                            "<tr><td>104</td><td>Dorvin</td><td>Finance</td><td>6500</td></tr>",
                            "<tr><td>105</td><td>Rohit</td><td>HR</td><td>3000</td></tr>",
                            "</table>"
                        ]
                    }
                }
            ],
            "execution_count": 32
        },
        {
            "cell_type": "markdown",
            "source": [
                "Find the Max Salary per department - this can be done simply using aggregates"
            ],
            "metadata": {
                "language": "sql",
                "azdata_cell_guid": "102de775-cea7-402d-8d39-cfc23de88f2d"
            },
            "attachments": {}
        },
        {
            "cell_type": "code",
            "source": [
                "SELECT\r\n",
                "    dept_name,\r\n",
                "    MAX(salary) AS Max_Salary\r\n",
                "FROM employee\r\n",
                "GROUP BY dept_name\r\n",
                "ORDER BY Max_Salary DESC;"
            ],
            "metadata": {
                "language": "sql",
                "azdata_cell_guid": "12429181-707e-4e15-91bd-65496ca92db7"
            },
            "outputs": [
                {
                    "output_type": "display_data",
                    "data": {
                        "text/html": "(4 rows affected)"
                    },
                    "metadata": {}
                },
                {
                    "output_type": "display_data",
                    "data": {
                        "text/html": "Total execution time: 00:00:00.006"
                    },
                    "metadata": {}
                },
                {
                    "output_type": "execute_result",
                    "metadata": {},
                    "execution_count": 35,
                    "data": {
                        "application/vnd.dataresource+json": {
                            "schema": {
                                "fields": [
                                    {
                                        "name": "dept_name"
                                    },
                                    {
                                        "name": "Max_Salary"
                                    }
                                ]
                            },
                            "data": [
                                {
                                    "0": "IT",
                                    "1": "11000"
                                },
                                {
                                    "0": "HR",
                                    "1": "8000"
                                },
                                {
                                    "0": "Finance",
                                    "1": "6500"
                                },
                                {
                                    "0": "Admin",
                                    "1": "5000"
                                }
                            ]
                        },
                        "text/html": [
                            "<table>",
                            "<tr><th>dept_name</th><th>Max_Salary</th></tr>",
                            "<tr><td>IT</td><td>11000</td></tr>",
                            "<tr><td>HR</td><td>8000</td></tr>",
                            "<tr><td>Finance</td><td>6500</td></tr>",
                            "<tr><td>Admin</td><td>5000</td></tr>",
                            "</table>"
                        ]
                    }
                }
            ],
            "execution_count": 35
        },
        {
            "cell_type": "markdown",
            "source": [
                "A window function is more appropriate for these types of functions to get further information and not dropping the other information\n",
                "\n",
                "In other words, it maintains the original data and adds a new column with aggregate data without violating the aggregate situation"
            ],
            "metadata": {
                "azdata_cell_guid": "9cb38471-b793-4c6e-bae1-1b35af50478f"
            },
            "attachments": {}
        },
        {
            "cell_type": "code",
            "source": [
                "SELECT \r\n",
                "    e.*,\r\n",
                "    MAX(Salary) OVER() AS Max_Salary -- over doesn't partition over any group, it's just creating a window of records over everything\r\n",
                "FROM employee e;"
            ],
            "metadata": {
                "azdata_cell_guid": "b3189426-093c-4ceb-8355-dc6963a5067c",
                "language": "sql"
            },
            "outputs": [
                {
                    "output_type": "display_data",
                    "data": {
                        "text/html": "(24 rows affected)"
                    },
                    "metadata": {}
                },
                {
                    "output_type": "display_data",
                    "data": {
                        "text/html": "Total execution time: 00:00:00.014"
                    },
                    "metadata": {}
                },
                {
                    "output_type": "execute_result",
                    "metadata": {},
                    "execution_count": 37,
                    "data": {
                        "application/vnd.dataresource+json": {
                            "schema": {
                                "fields": [
                                    {
                                        "name": "emp_ID"
                                    },
                                    {
                                        "name": "emp_NAME"
                                    },
                                    {
                                        "name": "DEPT_NAME"
                                    },
                                    {
                                        "name": "SALARY"
                                    },
                                    {
                                        "name": "Max_Salary"
                                    }
                                ]
                            },
                            "data": [
                                {
                                    "0": "101",
                                    "1": "Mohan",
                                    "2": "Admin",
                                    "3": "4000",
                                    "4": "11000"
                                },
                                {
                                    "0": "102",
                                    "1": "Rajkumar",
                                    "2": "HR",
                                    "3": "3000",
                                    "4": "11000"
                                },
                                {
                                    "0": "103",
                                    "1": "Akbar",
                                    "2": "IT",
                                    "3": "4000",
                                    "4": "11000"
                                },
                                {
                                    "0": "104",
                                    "1": "Dorvin",
                                    "2": "Finance",
                                    "3": "6500",
                                    "4": "11000"
                                },
                                {
                                    "0": "105",
                                    "1": "Rohit",
                                    "2": "HR",
                                    "3": "3000",
                                    "4": "11000"
                                },
                                {
                                    "0": "106",
                                    "1": "Rajesh",
                                    "2": "Finance",
                                    "3": "5000",
                                    "4": "11000"
                                },
                                {
                                    "0": "107",
                                    "1": "Preet",
                                    "2": "HR",
                                    "3": "7000",
                                    "4": "11000"
                                },
                                {
                                    "0": "108",
                                    "1": "Maryam",
                                    "2": "Admin",
                                    "3": "4000",
                                    "4": "11000"
                                },
                                {
                                    "0": "109",
                                    "1": "Sanjay",
                                    "2": "IT",
                                    "3": "6500",
                                    "4": "11000"
                                },
                                {
                                    "0": "110",
                                    "1": "Vasudha",
                                    "2": "IT",
                                    "3": "7000",
                                    "4": "11000"
                                },
                                {
                                    "0": "111",
                                    "1": "Melinda",
                                    "2": "IT",
                                    "3": "8000",
                                    "4": "11000"
                                },
                                {
                                    "0": "112",
                                    "1": "Komal",
                                    "2": "IT",
                                    "3": "10000",
                                    "4": "11000"
                                },
                                {
                                    "0": "113",
                                    "1": "Gautham",
                                    "2": "Admin",
                                    "3": "2000",
                                    "4": "11000"
                                },
                                {
                                    "0": "114",
                                    "1": "Manisha",
                                    "2": "HR",
                                    "3": "3000",
                                    "4": "11000"
                                },
                                {
                                    "0": "115",
                                    "1": "Chandni",
                                    "2": "IT",
                                    "3": "4500",
                                    "4": "11000"
                                },
                                {
                                    "0": "116",
                                    "1": "Satya",
                                    "2": "Finance",
                                    "3": "6500",
                                    "4": "11000"
                                },
                                {
                                    "0": "117",
                                    "1": "Adarsh",
                                    "2": "HR",
                                    "3": "3500",
                                    "4": "11000"
                                },
                                {
                                    "0": "118",
                                    "1": "Tejaswi",
                                    "2": "Finance",
                                    "3": "5500",
                                    "4": "11000"
                                },
                                {
                                    "0": "119",
                                    "1": "Cory",
                                    "2": "HR",
                                    "3": "8000",
                                    "4": "11000"
                                },
                                {
                                    "0": "120",
                                    "1": "Monica",
                                    "2": "Admin",
                                    "3": "5000",
                                    "4": "11000"
                                },
                                {
                                    "0": "121",
                                    "1": "Rosalin",
                                    "2": "IT",
                                    "3": "6000",
                                    "4": "11000"
                                },
                                {
                                    "0": "122",
                                    "1": "Ibrahim",
                                    "2": "IT",
                                    "3": "8000",
                                    "4": "11000"
                                },
                                {
                                    "0": "123",
                                    "1": "Vikram",
                                    "2": "IT",
                                    "3": "8000",
                                    "4": "11000"
                                },
                                {
                                    "0": "124",
                                    "1": "Dheeraj",
                                    "2": "IT",
                                    "3": "11000",
                                    "4": "11000"
                                }
                            ]
                        },
                        "text/html": [
                            "<table>",
                            "<tr><th>emp_ID</th><th>emp_NAME</th><th>DEPT_NAME</th><th>SALARY</th><th>Max_Salary</th></tr>",
                            "<tr><td>101</td><td>Mohan</td><td>Admin</td><td>4000</td><td>11000</td></tr>",
                            "<tr><td>102</td><td>Rajkumar</td><td>HR</td><td>3000</td><td>11000</td></tr>",
                            "<tr><td>103</td><td>Akbar</td><td>IT</td><td>4000</td><td>11000</td></tr>",
                            "<tr><td>104</td><td>Dorvin</td><td>Finance</td><td>6500</td><td>11000</td></tr>",
                            "<tr><td>105</td><td>Rohit</td><td>HR</td><td>3000</td><td>11000</td></tr>",
                            "<tr><td>106</td><td>Rajesh</td><td>Finance</td><td>5000</td><td>11000</td></tr>",
                            "<tr><td>107</td><td>Preet</td><td>HR</td><td>7000</td><td>11000</td></tr>",
                            "<tr><td>108</td><td>Maryam</td><td>Admin</td><td>4000</td><td>11000</td></tr>",
                            "<tr><td>109</td><td>Sanjay</td><td>IT</td><td>6500</td><td>11000</td></tr>",
                            "<tr><td>110</td><td>Vasudha</td><td>IT</td><td>7000</td><td>11000</td></tr>",
                            "<tr><td>111</td><td>Melinda</td><td>IT</td><td>8000</td><td>11000</td></tr>",
                            "<tr><td>112</td><td>Komal</td><td>IT</td><td>10000</td><td>11000</td></tr>",
                            "<tr><td>113</td><td>Gautham</td><td>Admin</td><td>2000</td><td>11000</td></tr>",
                            "<tr><td>114</td><td>Manisha</td><td>HR</td><td>3000</td><td>11000</td></tr>",
                            "<tr><td>115</td><td>Chandni</td><td>IT</td><td>4500</td><td>11000</td></tr>",
                            "<tr><td>116</td><td>Satya</td><td>Finance</td><td>6500</td><td>11000</td></tr>",
                            "<tr><td>117</td><td>Adarsh</td><td>HR</td><td>3500</td><td>11000</td></tr>",
                            "<tr><td>118</td><td>Tejaswi</td><td>Finance</td><td>5500</td><td>11000</td></tr>",
                            "<tr><td>119</td><td>Cory</td><td>HR</td><td>8000</td><td>11000</td></tr>",
                            "<tr><td>120</td><td>Monica</td><td>Admin</td><td>5000</td><td>11000</td></tr>",
                            "<tr><td>121</td><td>Rosalin</td><td>IT</td><td>6000</td><td>11000</td></tr>",
                            "<tr><td>122</td><td>Ibrahim</td><td>IT</td><td>8000</td><td>11000</td></tr>",
                            "<tr><td>123</td><td>Vikram</td><td>IT</td><td>8000</td><td>11000</td></tr>",
                            "<tr><td>124</td><td>Dheeraj</td><td>IT</td><td>11000</td><td>11000</td></tr>",
                            "</table>"
                        ]
                    }
                }
            ],
            "execution_count": 37
        },
        {
            "cell_type": "markdown",
            "source": [
                "Now find the highest salary per department = this only requires a partitioning in the OVER clause"
            ],
            "metadata": {
                "language": "sql",
                "azdata_cell_guid": "89d7eebc-b8a7-44fa-8ead-53b436efd505"
            },
            "attachments": {}
        },
        {
            "cell_type": "code",
            "source": [
                "SELECT \r\n",
                "    e.*,\r\n",
                "    MAX(Salary) OVER(PARTITION BY dept_name) AS Max_Salary -- over doesn't partition over any group, it's just creating a window of records over everything\r\n",
                "FROM employee e;"
            ],
            "metadata": {
                "azdata_cell_guid": "e21250e7-72da-4b9d-b577-a592c95b5d8c",
                "language": "sql"
            },
            "outputs": [
                {
                    "output_type": "display_data",
                    "data": {
                        "text/html": "(24 rows affected)"
                    },
                    "metadata": {}
                },
                {
                    "output_type": "display_data",
                    "data": {
                        "text/html": "Total execution time: 00:00:00.021"
                    },
                    "metadata": {}
                },
                {
                    "output_type": "execute_result",
                    "metadata": {},
                    "execution_count": 38,
                    "data": {
                        "application/vnd.dataresource+json": {
                            "schema": {
                                "fields": [
                                    {
                                        "name": "emp_ID"
                                    },
                                    {
                                        "name": "emp_NAME"
                                    },
                                    {
                                        "name": "DEPT_NAME"
                                    },
                                    {
                                        "name": "SALARY"
                                    },
                                    {
                                        "name": "Max_Salary"
                                    }
                                ]
                            },
                            "data": [
                                {
                                    "0": "101",
                                    "1": "Mohan",
                                    "2": "Admin",
                                    "3": "4000",
                                    "4": "5000"
                                },
                                {
                                    "0": "108",
                                    "1": "Maryam",
                                    "2": "Admin",
                                    "3": "4000",
                                    "4": "5000"
                                },
                                {
                                    "0": "113",
                                    "1": "Gautham",
                                    "2": "Admin",
                                    "3": "2000",
                                    "4": "5000"
                                },
                                {
                                    "0": "120",
                                    "1": "Monica",
                                    "2": "Admin",
                                    "3": "5000",
                                    "4": "5000"
                                },
                                {
                                    "0": "106",
                                    "1": "Rajesh",
                                    "2": "Finance",
                                    "3": "5000",
                                    "4": "6500"
                                },
                                {
                                    "0": "116",
                                    "1": "Satya",
                                    "2": "Finance",
                                    "3": "6500",
                                    "4": "6500"
                                },
                                {
                                    "0": "118",
                                    "1": "Tejaswi",
                                    "2": "Finance",
                                    "3": "5500",
                                    "4": "6500"
                                },
                                {
                                    "0": "104",
                                    "1": "Dorvin",
                                    "2": "Finance",
                                    "3": "6500",
                                    "4": "6500"
                                },
                                {
                                    "0": "105",
                                    "1": "Rohit",
                                    "2": "HR",
                                    "3": "3000",
                                    "4": "8000"
                                },
                                {
                                    "0": "102",
                                    "1": "Rajkumar",
                                    "2": "HR",
                                    "3": "3000",
                                    "4": "8000"
                                },
                                {
                                    "0": "119",
                                    "1": "Cory",
                                    "2": "HR",
                                    "3": "8000",
                                    "4": "8000"
                                },
                                {
                                    "0": "117",
                                    "1": "Adarsh",
                                    "2": "HR",
                                    "3": "3500",
                                    "4": "8000"
                                },
                                {
                                    "0": "107",
                                    "1": "Preet",
                                    "2": "HR",
                                    "3": "7000",
                                    "4": "8000"
                                },
                                {
                                    "0": "114",
                                    "1": "Manisha",
                                    "2": "HR",
                                    "3": "3000",
                                    "4": "8000"
                                },
                                {
                                    "0": "115",
                                    "1": "Chandni",
                                    "2": "IT",
                                    "3": "4500",
                                    "4": "11000"
                                },
                                {
                                    "0": "103",
                                    "1": "Akbar",
                                    "2": "IT",
                                    "3": "4000",
                                    "4": "11000"
                                },
                                {
                                    "0": "109",
                                    "1": "Sanjay",
                                    "2": "IT",
                                    "3": "6500",
                                    "4": "11000"
                                },
                                {
                                    "0": "110",
                                    "1": "Vasudha",
                                    "2": "IT",
                                    "3": "7000",
                                    "4": "11000"
                                },
                                {
                                    "0": "111",
                                    "1": "Melinda",
                                    "2": "IT",
                                    "3": "8000",
                                    "4": "11000"
                                },
                                {
                                    "0": "112",
                                    "1": "Komal",
                                    "2": "IT",
                                    "3": "10000",
                                    "4": "11000"
                                },
                                {
                                    "0": "121",
                                    "1": "Rosalin",
                                    "2": "IT",
                                    "3": "6000",
                                    "4": "11000"
                                },
                                {
                                    "0": "122",
                                    "1": "Ibrahim",
                                    "2": "IT",
                                    "3": "8000",
                                    "4": "11000"
                                },
                                {
                                    "0": "123",
                                    "1": "Vikram",
                                    "2": "IT",
                                    "3": "8000",
                                    "4": "11000"
                                },
                                {
                                    "0": "124",
                                    "1": "Dheeraj",
                                    "2": "IT",
                                    "3": "11000",
                                    "4": "11000"
                                }
                            ]
                        },
                        "text/html": [
                            "<table>",
                            "<tr><th>emp_ID</th><th>emp_NAME</th><th>DEPT_NAME</th><th>SALARY</th><th>Max_Salary</th></tr>",
                            "<tr><td>101</td><td>Mohan</td><td>Admin</td><td>4000</td><td>5000</td></tr>",
                            "<tr><td>108</td><td>Maryam</td><td>Admin</td><td>4000</td><td>5000</td></tr>",
                            "<tr><td>113</td><td>Gautham</td><td>Admin</td><td>2000</td><td>5000</td></tr>",
                            "<tr><td>120</td><td>Monica</td><td>Admin</td><td>5000</td><td>5000</td></tr>",
                            "<tr><td>106</td><td>Rajesh</td><td>Finance</td><td>5000</td><td>6500</td></tr>",
                            "<tr><td>116</td><td>Satya</td><td>Finance</td><td>6500</td><td>6500</td></tr>",
                            "<tr><td>118</td><td>Tejaswi</td><td>Finance</td><td>5500</td><td>6500</td></tr>",
                            "<tr><td>104</td><td>Dorvin</td><td>Finance</td><td>6500</td><td>6500</td></tr>",
                            "<tr><td>105</td><td>Rohit</td><td>HR</td><td>3000</td><td>8000</td></tr>",
                            "<tr><td>102</td><td>Rajkumar</td><td>HR</td><td>3000</td><td>8000</td></tr>",
                            "<tr><td>119</td><td>Cory</td><td>HR</td><td>8000</td><td>8000</td></tr>",
                            "<tr><td>117</td><td>Adarsh</td><td>HR</td><td>3500</td><td>8000</td></tr>",
                            "<tr><td>107</td><td>Preet</td><td>HR</td><td>7000</td><td>8000</td></tr>",
                            "<tr><td>114</td><td>Manisha</td><td>HR</td><td>3000</td><td>8000</td></tr>",
                            "<tr><td>115</td><td>Chandni</td><td>IT</td><td>4500</td><td>11000</td></tr>",
                            "<tr><td>103</td><td>Akbar</td><td>IT</td><td>4000</td><td>11000</td></tr>",
                            "<tr><td>109</td><td>Sanjay</td><td>IT</td><td>6500</td><td>11000</td></tr>",
                            "<tr><td>110</td><td>Vasudha</td><td>IT</td><td>7000</td><td>11000</td></tr>",
                            "<tr><td>111</td><td>Melinda</td><td>IT</td><td>8000</td><td>11000</td></tr>",
                            "<tr><td>112</td><td>Komal</td><td>IT</td><td>10000</td><td>11000</td></tr>",
                            "<tr><td>121</td><td>Rosalin</td><td>IT</td><td>6000</td><td>11000</td></tr>",
                            "<tr><td>122</td><td>Ibrahim</td><td>IT</td><td>8000</td><td>11000</td></tr>",
                            "<tr><td>123</td><td>Vikram</td><td>IT</td><td>8000</td><td>11000</td></tr>",
                            "<tr><td>124</td><td>Dheeraj</td><td>IT</td><td>11000</td><td>11000</td></tr>",
                            "</table>"
                        ]
                    }
                }
            ],
            "execution_count": 38
        },
        {
            "cell_type": "markdown",
            "source": [
                "Using the ROW\\_NUMBER function assigns a row number for each row, which creates a unique value per row if they don't already exist"
            ],
            "metadata": {
                "language": "sql",
                "azdata_cell_guid": "440a6c51-7051-448b-9125-2379b17ab66b"
            },
            "attachments": {}
        },
        {
            "cell_type": "code",
            "source": [
                "SELECT \r\n",
                "    e.*,\r\n",
                "    ROW_NUMBER() OVER(ORDER BY emp_id) as rn -- in t-sql, an order by is required in the OVER after ROW_NUMBER()\r\n",
                "FROM employee e;"
            ],
            "metadata": {
                "azdata_cell_guid": "78e77b8e-bf8e-4416-b209-d1168d392b08",
                "language": "sql"
            },
            "outputs": [
                {
                    "output_type": "display_data",
                    "data": {
                        "text/html": "(24 rows affected)"
                    },
                    "metadata": {}
                },
                {
                    "output_type": "display_data",
                    "data": {
                        "text/html": "Total execution time: 00:00:00.013"
                    },
                    "metadata": {}
                },
                {
                    "output_type": "execute_result",
                    "metadata": {},
                    "execution_count": 41,
                    "data": {
                        "application/vnd.dataresource+json": {
                            "schema": {
                                "fields": [
                                    {
                                        "name": "emp_ID"
                                    },
                                    {
                                        "name": "emp_NAME"
                                    },
                                    {
                                        "name": "DEPT_NAME"
                                    },
                                    {
                                        "name": "SALARY"
                                    },
                                    {
                                        "name": "rn"
                                    }
                                ]
                            },
                            "data": [
                                {
                                    "0": "101",
                                    "1": "Mohan",
                                    "2": "Admin",
                                    "3": "4000",
                                    "4": "1"
                                },
                                {
                                    "0": "102",
                                    "1": "Rajkumar",
                                    "2": "HR",
                                    "3": "3000",
                                    "4": "2"
                                },
                                {
                                    "0": "103",
                                    "1": "Akbar",
                                    "2": "IT",
                                    "3": "4000",
                                    "4": "3"
                                },
                                {
                                    "0": "104",
                                    "1": "Dorvin",
                                    "2": "Finance",
                                    "3": "6500",
                                    "4": "4"
                                },
                                {
                                    "0": "105",
                                    "1": "Rohit",
                                    "2": "HR",
                                    "3": "3000",
                                    "4": "5"
                                },
                                {
                                    "0": "106",
                                    "1": "Rajesh",
                                    "2": "Finance",
                                    "3": "5000",
                                    "4": "6"
                                },
                                {
                                    "0": "107",
                                    "1": "Preet",
                                    "2": "HR",
                                    "3": "7000",
                                    "4": "7"
                                },
                                {
                                    "0": "108",
                                    "1": "Maryam",
                                    "2": "Admin",
                                    "3": "4000",
                                    "4": "8"
                                },
                                {
                                    "0": "109",
                                    "1": "Sanjay",
                                    "2": "IT",
                                    "3": "6500",
                                    "4": "9"
                                },
                                {
                                    "0": "110",
                                    "1": "Vasudha",
                                    "2": "IT",
                                    "3": "7000",
                                    "4": "10"
                                },
                                {
                                    "0": "111",
                                    "1": "Melinda",
                                    "2": "IT",
                                    "3": "8000",
                                    "4": "11"
                                },
                                {
                                    "0": "112",
                                    "1": "Komal",
                                    "2": "IT",
                                    "3": "10000",
                                    "4": "12"
                                },
                                {
                                    "0": "113",
                                    "1": "Gautham",
                                    "2": "Admin",
                                    "3": "2000",
                                    "4": "13"
                                },
                                {
                                    "0": "114",
                                    "1": "Manisha",
                                    "2": "HR",
                                    "3": "3000",
                                    "4": "14"
                                },
                                {
                                    "0": "115",
                                    "1": "Chandni",
                                    "2": "IT",
                                    "3": "4500",
                                    "4": "15"
                                },
                                {
                                    "0": "116",
                                    "1": "Satya",
                                    "2": "Finance",
                                    "3": "6500",
                                    "4": "16"
                                },
                                {
                                    "0": "117",
                                    "1": "Adarsh",
                                    "2": "HR",
                                    "3": "3500",
                                    "4": "17"
                                },
                                {
                                    "0": "118",
                                    "1": "Tejaswi",
                                    "2": "Finance",
                                    "3": "5500",
                                    "4": "18"
                                },
                                {
                                    "0": "119",
                                    "1": "Cory",
                                    "2": "HR",
                                    "3": "8000",
                                    "4": "19"
                                },
                                {
                                    "0": "120",
                                    "1": "Monica",
                                    "2": "Admin",
                                    "3": "5000",
                                    "4": "20"
                                },
                                {
                                    "0": "121",
                                    "1": "Rosalin",
                                    "2": "IT",
                                    "3": "6000",
                                    "4": "21"
                                },
                                {
                                    "0": "122",
                                    "1": "Ibrahim",
                                    "2": "IT",
                                    "3": "8000",
                                    "4": "22"
                                },
                                {
                                    "0": "123",
                                    "1": "Vikram",
                                    "2": "IT",
                                    "3": "8000",
                                    "4": "23"
                                },
                                {
                                    "0": "124",
                                    "1": "Dheeraj",
                                    "2": "IT",
                                    "3": "11000",
                                    "4": "24"
                                }
                            ]
                        },
                        "text/html": [
                            "<table>",
                            "<tr><th>emp_ID</th><th>emp_NAME</th><th>DEPT_NAME</th><th>SALARY</th><th>rn</th></tr>",
                            "<tr><td>101</td><td>Mohan</td><td>Admin</td><td>4000</td><td>1</td></tr>",
                            "<tr><td>102</td><td>Rajkumar</td><td>HR</td><td>3000</td><td>2</td></tr>",
                            "<tr><td>103</td><td>Akbar</td><td>IT</td><td>4000</td><td>3</td></tr>",
                            "<tr><td>104</td><td>Dorvin</td><td>Finance</td><td>6500</td><td>4</td></tr>",
                            "<tr><td>105</td><td>Rohit</td><td>HR</td><td>3000</td><td>5</td></tr>",
                            "<tr><td>106</td><td>Rajesh</td><td>Finance</td><td>5000</td><td>6</td></tr>",
                            "<tr><td>107</td><td>Preet</td><td>HR</td><td>7000</td><td>7</td></tr>",
                            "<tr><td>108</td><td>Maryam</td><td>Admin</td><td>4000</td><td>8</td></tr>",
                            "<tr><td>109</td><td>Sanjay</td><td>IT</td><td>6500</td><td>9</td></tr>",
                            "<tr><td>110</td><td>Vasudha</td><td>IT</td><td>7000</td><td>10</td></tr>",
                            "<tr><td>111</td><td>Melinda</td><td>IT</td><td>8000</td><td>11</td></tr>",
                            "<tr><td>112</td><td>Komal</td><td>IT</td><td>10000</td><td>12</td></tr>",
                            "<tr><td>113</td><td>Gautham</td><td>Admin</td><td>2000</td><td>13</td></tr>",
                            "<tr><td>114</td><td>Manisha</td><td>HR</td><td>3000</td><td>14</td></tr>",
                            "<tr><td>115</td><td>Chandni</td><td>IT</td><td>4500</td><td>15</td></tr>",
                            "<tr><td>116</td><td>Satya</td><td>Finance</td><td>6500</td><td>16</td></tr>",
                            "<tr><td>117</td><td>Adarsh</td><td>HR</td><td>3500</td><td>17</td></tr>",
                            "<tr><td>118</td><td>Tejaswi</td><td>Finance</td><td>5500</td><td>18</td></tr>",
                            "<tr><td>119</td><td>Cory</td><td>HR</td><td>8000</td><td>19</td></tr>",
                            "<tr><td>120</td><td>Monica</td><td>Admin</td><td>5000</td><td>20</td></tr>",
                            "<tr><td>121</td><td>Rosalin</td><td>IT</td><td>6000</td><td>21</td></tr>",
                            "<tr><td>122</td><td>Ibrahim</td><td>IT</td><td>8000</td><td>22</td></tr>",
                            "<tr><td>123</td><td>Vikram</td><td>IT</td><td>8000</td><td>23</td></tr>",
                            "<tr><td>124</td><td>Dheeraj</td><td>IT</td><td>11000</td><td>24</td></tr>",
                            "</table>"
                        ]
                    }
                }
            ],
            "execution_count": 41
        },
        {
            "cell_type": "markdown",
            "source": [
                "When adding the partition by within the ROW\\_NUMBER OVER, each partition resets at row 1. \n",
                "\n",
                "This can allow us to get first n of each partition, like finding the top 3 salaries from each department"
            ],
            "metadata": {
                "language": "sql",
                "azdata_cell_guid": "95a8143a-24ab-4b60-ae2e-0a68b590312d"
            },
            "attachments": {}
        },
        {
            "cell_type": "code",
            "source": [
                "SELECT \r\n",
                "    e.*,\r\n",
                "    ROW_NUMBER() OVER(PARTITION BY dept_name ORDER BY salary DESC) as rn\r\n",
                "FROM employee e;"
            ],
            "metadata": {
                "language": "sql",
                "azdata_cell_guid": "9eedaa6c-a424-43b5-ab9d-d0cb15f29f0e"
            },
            "outputs": [
                {
                    "output_type": "display_data",
                    "data": {
                        "text/html": "(24 rows affected)"
                    },
                    "metadata": {}
                },
                {
                    "output_type": "display_data",
                    "data": {
                        "text/html": "Total execution time: 00:00:00.023"
                    },
                    "metadata": {}
                },
                {
                    "output_type": "execute_result",
                    "metadata": {},
                    "execution_count": 44,
                    "data": {
                        "application/vnd.dataresource+json": {
                            "schema": {
                                "fields": [
                                    {
                                        "name": "emp_ID"
                                    },
                                    {
                                        "name": "emp_NAME"
                                    },
                                    {
                                        "name": "DEPT_NAME"
                                    },
                                    {
                                        "name": "SALARY"
                                    },
                                    {
                                        "name": "rn"
                                    }
                                ]
                            },
                            "data": [
                                {
                                    "0": "120",
                                    "1": "Monica",
                                    "2": "Admin",
                                    "3": "5000",
                                    "4": "1"
                                },
                                {
                                    "0": "101",
                                    "1": "Mohan",
                                    "2": "Admin",
                                    "3": "4000",
                                    "4": "2"
                                },
                                {
                                    "0": "108",
                                    "1": "Maryam",
                                    "2": "Admin",
                                    "3": "4000",
                                    "4": "3"
                                },
                                {
                                    "0": "113",
                                    "1": "Gautham",
                                    "2": "Admin",
                                    "3": "2000",
                                    "4": "4"
                                },
                                {
                                    "0": "116",
                                    "1": "Satya",
                                    "2": "Finance",
                                    "3": "6500",
                                    "4": "1"
                                },
                                {
                                    "0": "104",
                                    "1": "Dorvin",
                                    "2": "Finance",
                                    "3": "6500",
                                    "4": "2"
                                },
                                {
                                    "0": "118",
                                    "1": "Tejaswi",
                                    "2": "Finance",
                                    "3": "5500",
                                    "4": "3"
                                },
                                {
                                    "0": "106",
                                    "1": "Rajesh",
                                    "2": "Finance",
                                    "3": "5000",
                                    "4": "4"
                                },
                                {
                                    "0": "119",
                                    "1": "Cory",
                                    "2": "HR",
                                    "3": "8000",
                                    "4": "1"
                                },
                                {
                                    "0": "107",
                                    "1": "Preet",
                                    "2": "HR",
                                    "3": "7000",
                                    "4": "2"
                                },
                                {
                                    "0": "117",
                                    "1": "Adarsh",
                                    "2": "HR",
                                    "3": "3500",
                                    "4": "3"
                                },
                                {
                                    "0": "114",
                                    "1": "Manisha",
                                    "2": "HR",
                                    "3": "3000",
                                    "4": "4"
                                },
                                {
                                    "0": "105",
                                    "1": "Rohit",
                                    "2": "HR",
                                    "3": "3000",
                                    "4": "5"
                                },
                                {
                                    "0": "102",
                                    "1": "Rajkumar",
                                    "2": "HR",
                                    "3": "3000",
                                    "4": "6"
                                },
                                {
                                    "0": "124",
                                    "1": "Dheeraj",
                                    "2": "IT",
                                    "3": "11000",
                                    "4": "1"
                                },
                                {
                                    "0": "112",
                                    "1": "Komal",
                                    "2": "IT",
                                    "3": "10000",
                                    "4": "2"
                                },
                                {
                                    "0": "122",
                                    "1": "Ibrahim",
                                    "2": "IT",
                                    "3": "8000",
                                    "4": "3"
                                },
                                {
                                    "0": "123",
                                    "1": "Vikram",
                                    "2": "IT",
                                    "3": "8000",
                                    "4": "4"
                                },
                                {
                                    "0": "111",
                                    "1": "Melinda",
                                    "2": "IT",
                                    "3": "8000",
                                    "4": "5"
                                },
                                {
                                    "0": "110",
                                    "1": "Vasudha",
                                    "2": "IT",
                                    "3": "7000",
                                    "4": "6"
                                },
                                {
                                    "0": "109",
                                    "1": "Sanjay",
                                    "2": "IT",
                                    "3": "6500",
                                    "4": "7"
                                },
                                {
                                    "0": "121",
                                    "1": "Rosalin",
                                    "2": "IT",
                                    "3": "6000",
                                    "4": "8"
                                },
                                {
                                    "0": "115",
                                    "1": "Chandni",
                                    "2": "IT",
                                    "3": "4500",
                                    "4": "9"
                                },
                                {
                                    "0": "103",
                                    "1": "Akbar",
                                    "2": "IT",
                                    "3": "4000",
                                    "4": "10"
                                }
                            ]
                        },
                        "text/html": [
                            "<table>",
                            "<tr><th>emp_ID</th><th>emp_NAME</th><th>DEPT_NAME</th><th>SALARY</th><th>rn</th></tr>",
                            "<tr><td>120</td><td>Monica</td><td>Admin</td><td>5000</td><td>1</td></tr>",
                            "<tr><td>101</td><td>Mohan</td><td>Admin</td><td>4000</td><td>2</td></tr>",
                            "<tr><td>108</td><td>Maryam</td><td>Admin</td><td>4000</td><td>3</td></tr>",
                            "<tr><td>113</td><td>Gautham</td><td>Admin</td><td>2000</td><td>4</td></tr>",
                            "<tr><td>116</td><td>Satya</td><td>Finance</td><td>6500</td><td>1</td></tr>",
                            "<tr><td>104</td><td>Dorvin</td><td>Finance</td><td>6500</td><td>2</td></tr>",
                            "<tr><td>118</td><td>Tejaswi</td><td>Finance</td><td>5500</td><td>3</td></tr>",
                            "<tr><td>106</td><td>Rajesh</td><td>Finance</td><td>5000</td><td>4</td></tr>",
                            "<tr><td>119</td><td>Cory</td><td>HR</td><td>8000</td><td>1</td></tr>",
                            "<tr><td>107</td><td>Preet</td><td>HR</td><td>7000</td><td>2</td></tr>",
                            "<tr><td>117</td><td>Adarsh</td><td>HR</td><td>3500</td><td>3</td></tr>",
                            "<tr><td>114</td><td>Manisha</td><td>HR</td><td>3000</td><td>4</td></tr>",
                            "<tr><td>105</td><td>Rohit</td><td>HR</td><td>3000</td><td>5</td></tr>",
                            "<tr><td>102</td><td>Rajkumar</td><td>HR</td><td>3000</td><td>6</td></tr>",
                            "<tr><td>124</td><td>Dheeraj</td><td>IT</td><td>11000</td><td>1</td></tr>",
                            "<tr><td>112</td><td>Komal</td><td>IT</td><td>10000</td><td>2</td></tr>",
                            "<tr><td>122</td><td>Ibrahim</td><td>IT</td><td>8000</td><td>3</td></tr>",
                            "<tr><td>123</td><td>Vikram</td><td>IT</td><td>8000</td><td>4</td></tr>",
                            "<tr><td>111</td><td>Melinda</td><td>IT</td><td>8000</td><td>5</td></tr>",
                            "<tr><td>110</td><td>Vasudha</td><td>IT</td><td>7000</td><td>6</td></tr>",
                            "<tr><td>109</td><td>Sanjay</td><td>IT</td><td>6500</td><td>7</td></tr>",
                            "<tr><td>121</td><td>Rosalin</td><td>IT</td><td>6000</td><td>8</td></tr>",
                            "<tr><td>115</td><td>Chandni</td><td>IT</td><td>4500</td><td>9</td></tr>",
                            "<tr><td>103</td><td>Akbar</td><td>IT</td><td>4000</td><td>10</td></tr>",
                            "</table>"
                        ]
                    }
                }
            ],
            "execution_count": 44
        },
        {
            "cell_type": "markdown",
            "source": [
                "If I want the top 3 employees from each department, I can use a subquery using WHERE to pick only numbers under a particular number"
            ],
            "metadata": {
                "language": "sql",
                "azdata_cell_guid": "3e1c60fa-9c4a-44df-8ace-7d7470700a73"
            },
            "attachments": {}
        },
        {
            "cell_type": "code",
            "source": [
                "SELECT *\r\n",
                "FROM(\r\n",
                "    SELECT \r\n",
                "        e.*,\r\n",
                "        ROW_NUMBER() OVER(PARTITION BY dept_name ORDER BY salary DESC) as rn\r\n",
                "    FROM employee e\r\n",
                ") AS rd\r\n",
                "WHERE rd.rn < 4"
            ],
            "metadata": {
                "language": "sql",
                "azdata_cell_guid": "232a6910-fce7-4ef6-b5de-0cb727292520"
            },
            "outputs": [
                {
                    "output_type": "display_data",
                    "data": {
                        "text/html": "(12 rows affected)"
                    },
                    "metadata": {}
                },
                {
                    "output_type": "display_data",
                    "data": {
                        "text/html": "Total execution time: 00:00:00.003"
                    },
                    "metadata": {}
                },
                {
                    "output_type": "execute_result",
                    "metadata": {},
                    "execution_count": 49,
                    "data": {
                        "application/vnd.dataresource+json": {
                            "schema": {
                                "fields": [
                                    {
                                        "name": "emp_ID"
                                    },
                                    {
                                        "name": "emp_NAME"
                                    },
                                    {
                                        "name": "DEPT_NAME"
                                    },
                                    {
                                        "name": "SALARY"
                                    },
                                    {
                                        "name": "rn"
                                    }
                                ]
                            },
                            "data": [
                                {
                                    "0": "120",
                                    "1": "Monica",
                                    "2": "Admin",
                                    "3": "5000",
                                    "4": "1"
                                },
                                {
                                    "0": "101",
                                    "1": "Mohan",
                                    "2": "Admin",
                                    "3": "4000",
                                    "4": "2"
                                },
                                {
                                    "0": "108",
                                    "1": "Maryam",
                                    "2": "Admin",
                                    "3": "4000",
                                    "4": "3"
                                },
                                {
                                    "0": "116",
                                    "1": "Satya",
                                    "2": "Finance",
                                    "3": "6500",
                                    "4": "1"
                                },
                                {
                                    "0": "104",
                                    "1": "Dorvin",
                                    "2": "Finance",
                                    "3": "6500",
                                    "4": "2"
                                },
                                {
                                    "0": "118",
                                    "1": "Tejaswi",
                                    "2": "Finance",
                                    "3": "5500",
                                    "4": "3"
                                },
                                {
                                    "0": "119",
                                    "1": "Cory",
                                    "2": "HR",
                                    "3": "8000",
                                    "4": "1"
                                },
                                {
                                    "0": "107",
                                    "1": "Preet",
                                    "2": "HR",
                                    "3": "7000",
                                    "4": "2"
                                },
                                {
                                    "0": "117",
                                    "1": "Adarsh",
                                    "2": "HR",
                                    "3": "3500",
                                    "4": "3"
                                },
                                {
                                    "0": "124",
                                    "1": "Dheeraj",
                                    "2": "IT",
                                    "3": "11000",
                                    "4": "1"
                                },
                                {
                                    "0": "112",
                                    "1": "Komal",
                                    "2": "IT",
                                    "3": "10000",
                                    "4": "2"
                                },
                                {
                                    "0": "122",
                                    "1": "Ibrahim",
                                    "2": "IT",
                                    "3": "8000",
                                    "4": "3"
                                }
                            ]
                        },
                        "text/html": [
                            "<table>",
                            "<tr><th>emp_ID</th><th>emp_NAME</th><th>DEPT_NAME</th><th>SALARY</th><th>rn</th></tr>",
                            "<tr><td>120</td><td>Monica</td><td>Admin</td><td>5000</td><td>1</td></tr>",
                            "<tr><td>101</td><td>Mohan</td><td>Admin</td><td>4000</td><td>2</td></tr>",
                            "<tr><td>108</td><td>Maryam</td><td>Admin</td><td>4000</td><td>3</td></tr>",
                            "<tr><td>116</td><td>Satya</td><td>Finance</td><td>6500</td><td>1</td></tr>",
                            "<tr><td>104</td><td>Dorvin</td><td>Finance</td><td>6500</td><td>2</td></tr>",
                            "<tr><td>118</td><td>Tejaswi</td><td>Finance</td><td>5500</td><td>3</td></tr>",
                            "<tr><td>119</td><td>Cory</td><td>HR</td><td>8000</td><td>1</td></tr>",
                            "<tr><td>107</td><td>Preet</td><td>HR</td><td>7000</td><td>2</td></tr>",
                            "<tr><td>117</td><td>Adarsh</td><td>HR</td><td>3500</td><td>3</td></tr>",
                            "<tr><td>124</td><td>Dheeraj</td><td>IT</td><td>11000</td><td>1</td></tr>",
                            "<tr><td>112</td><td>Komal</td><td>IT</td><td>10000</td><td>2</td></tr>",
                            "<tr><td>122</td><td>Ibrahim</td><td>IT</td><td>8000</td><td>3</td></tr>",
                            "</table>"
                        ]
                    }
                }
            ],
            "execution_count": 49
        },
        {
            "cell_type": "markdown",
            "source": [
                "Alternatively, I can use the RANK() or DENSE\\_RANK() functions"
            ],
            "metadata": {
                "language": "sql",
                "azdata_cell_guid": "6254d681-4097-4f94-ad78-4d5b32b79693"
            },
            "attachments": {}
        },
        {
            "cell_type": "code",
            "source": [
                "SELECT\r\n",
                "    e.*,\r\n",
                "    RANK() OVER(PARTITION BY dept_name ORDER BY salary DESC) as rnk\r\n",
                "FROM employee e;"
            ],
            "metadata": {
                "azdata_cell_guid": "a395cb9c-6230-4c8e-acd7-9f971e65fc7b",
                "language": "sql"
            },
            "outputs": [
                {
                    "output_type": "display_data",
                    "data": {
                        "text/html": "(24 rows affected)"
                    },
                    "metadata": {}
                },
                {
                    "output_type": "display_data",
                    "data": {
                        "text/html": "Total execution time: 00:00:00.014"
                    },
                    "metadata": {}
                },
                {
                    "output_type": "execute_result",
                    "metadata": {},
                    "execution_count": 54,
                    "data": {
                        "application/vnd.dataresource+json": {
                            "schema": {
                                "fields": [
                                    {
                                        "name": "emp_ID"
                                    },
                                    {
                                        "name": "emp_NAME"
                                    },
                                    {
                                        "name": "DEPT_NAME"
                                    },
                                    {
                                        "name": "SALARY"
                                    },
                                    {
                                        "name": "rnk"
                                    }
                                ]
                            },
                            "data": [
                                {
                                    "0": "120",
                                    "1": "Monica",
                                    "2": "Admin",
                                    "3": "5000",
                                    "4": "1"
                                },
                                {
                                    "0": "101",
                                    "1": "Mohan",
                                    "2": "Admin",
                                    "3": "4000",
                                    "4": "2"
                                },
                                {
                                    "0": "108",
                                    "1": "Maryam",
                                    "2": "Admin",
                                    "3": "4000",
                                    "4": "2"
                                },
                                {
                                    "0": "113",
                                    "1": "Gautham",
                                    "2": "Admin",
                                    "3": "2000",
                                    "4": "4"
                                },
                                {
                                    "0": "116",
                                    "1": "Satya",
                                    "2": "Finance",
                                    "3": "6500",
                                    "4": "1"
                                },
                                {
                                    "0": "104",
                                    "1": "Dorvin",
                                    "2": "Finance",
                                    "3": "6500",
                                    "4": "1"
                                },
                                {
                                    "0": "118",
                                    "1": "Tejaswi",
                                    "2": "Finance",
                                    "3": "5500",
                                    "4": "3"
                                },
                                {
                                    "0": "106",
                                    "1": "Rajesh",
                                    "2": "Finance",
                                    "3": "5000",
                                    "4": "4"
                                },
                                {
                                    "0": "119",
                                    "1": "Cory",
                                    "2": "HR",
                                    "3": "8000",
                                    "4": "1"
                                },
                                {
                                    "0": "107",
                                    "1": "Preet",
                                    "2": "HR",
                                    "3": "7000",
                                    "4": "2"
                                },
                                {
                                    "0": "117",
                                    "1": "Adarsh",
                                    "2": "HR",
                                    "3": "3500",
                                    "4": "3"
                                },
                                {
                                    "0": "114",
                                    "1": "Manisha",
                                    "2": "HR",
                                    "3": "3000",
                                    "4": "4"
                                },
                                {
                                    "0": "105",
                                    "1": "Rohit",
                                    "2": "HR",
                                    "3": "3000",
                                    "4": "4"
                                },
                                {
                                    "0": "102",
                                    "1": "Rajkumar",
                                    "2": "HR",
                                    "3": "3000",
                                    "4": "4"
                                },
                                {
                                    "0": "124",
                                    "1": "Dheeraj",
                                    "2": "IT",
                                    "3": "11000",
                                    "4": "1"
                                },
                                {
                                    "0": "112",
                                    "1": "Komal",
                                    "2": "IT",
                                    "3": "10000",
                                    "4": "2"
                                },
                                {
                                    "0": "122",
                                    "1": "Ibrahim",
                                    "2": "IT",
                                    "3": "8000",
                                    "4": "3"
                                },
                                {
                                    "0": "123",
                                    "1": "Vikram",
                                    "2": "IT",
                                    "3": "8000",
                                    "4": "3"
                                },
                                {
                                    "0": "111",
                                    "1": "Melinda",
                                    "2": "IT",
                                    "3": "8000",
                                    "4": "3"
                                },
                                {
                                    "0": "110",
                                    "1": "Vasudha",
                                    "2": "IT",
                                    "3": "7000",
                                    "4": "6"
                                },
                                {
                                    "0": "109",
                                    "1": "Sanjay",
                                    "2": "IT",
                                    "3": "6500",
                                    "4": "7"
                                },
                                {
                                    "0": "121",
                                    "1": "Rosalin",
                                    "2": "IT",
                                    "3": "6000",
                                    "4": "8"
                                },
                                {
                                    "0": "115",
                                    "1": "Chandni",
                                    "2": "IT",
                                    "3": "4500",
                                    "4": "9"
                                },
                                {
                                    "0": "103",
                                    "1": "Akbar",
                                    "2": "IT",
                                    "3": "4000",
                                    "4": "10"
                                }
                            ]
                        },
                        "text/html": [
                            "<table>",
                            "<tr><th>emp_ID</th><th>emp_NAME</th><th>DEPT_NAME</th><th>SALARY</th><th>rnk</th></tr>",
                            "<tr><td>120</td><td>Monica</td><td>Admin</td><td>5000</td><td>1</td></tr>",
                            "<tr><td>101</td><td>Mohan</td><td>Admin</td><td>4000</td><td>2</td></tr>",
                            "<tr><td>108</td><td>Maryam</td><td>Admin</td><td>4000</td><td>2</td></tr>",
                            "<tr><td>113</td><td>Gautham</td><td>Admin</td><td>2000</td><td>4</td></tr>",
                            "<tr><td>116</td><td>Satya</td><td>Finance</td><td>6500</td><td>1</td></tr>",
                            "<tr><td>104</td><td>Dorvin</td><td>Finance</td><td>6500</td><td>1</td></tr>",
                            "<tr><td>118</td><td>Tejaswi</td><td>Finance</td><td>5500</td><td>3</td></tr>",
                            "<tr><td>106</td><td>Rajesh</td><td>Finance</td><td>5000</td><td>4</td></tr>",
                            "<tr><td>119</td><td>Cory</td><td>HR</td><td>8000</td><td>1</td></tr>",
                            "<tr><td>107</td><td>Preet</td><td>HR</td><td>7000</td><td>2</td></tr>",
                            "<tr><td>117</td><td>Adarsh</td><td>HR</td><td>3500</td><td>3</td></tr>",
                            "<tr><td>114</td><td>Manisha</td><td>HR</td><td>3000</td><td>4</td></tr>",
                            "<tr><td>105</td><td>Rohit</td><td>HR</td><td>3000</td><td>4</td></tr>",
                            "<tr><td>102</td><td>Rajkumar</td><td>HR</td><td>3000</td><td>4</td></tr>",
                            "<tr><td>124</td><td>Dheeraj</td><td>IT</td><td>11000</td><td>1</td></tr>",
                            "<tr><td>112</td><td>Komal</td><td>IT</td><td>10000</td><td>2</td></tr>",
                            "<tr><td>122</td><td>Ibrahim</td><td>IT</td><td>8000</td><td>3</td></tr>",
                            "<tr><td>123</td><td>Vikram</td><td>IT</td><td>8000</td><td>3</td></tr>",
                            "<tr><td>111</td><td>Melinda</td><td>IT</td><td>8000</td><td>3</td></tr>",
                            "<tr><td>110</td><td>Vasudha</td><td>IT</td><td>7000</td><td>6</td></tr>",
                            "<tr><td>109</td><td>Sanjay</td><td>IT</td><td>6500</td><td>7</td></tr>",
                            "<tr><td>121</td><td>Rosalin</td><td>IT</td><td>6000</td><td>8</td></tr>",
                            "<tr><td>115</td><td>Chandni</td><td>IT</td><td>4500</td><td>9</td></tr>",
                            "<tr><td>103</td><td>Akbar</td><td>IT</td><td>4000</td><td>10</td></tr>",
                            "</table>"
                        ]
                    }
                }
            ],
            "execution_count": 54
        },
        {
            "cell_type": "code",
            "source": [
                "SELECT *\r\n",
                "FROM (\r\n",
                "    SELECT\r\n",
                "        e.*,\r\n",
                "        RANK() OVER(PARTITION BY dept_name ORDER BY salary DESC) as rnk\r\n",
                "    FROM employee e\r\n",
                ") AS rank  \r\n",
                "WHERE rank.rnk < 4;"
            ],
            "metadata": {
                "azdata_cell_guid": "585c4476-6c00-4ffe-981f-8a1899587b51",
                "language": "sql"
            },
            "outputs": [
                {
                    "output_type": "display_data",
                    "data": {
                        "text/html": "(14 rows affected)"
                    },
                    "metadata": {}
                },
                {
                    "output_type": "display_data",
                    "data": {
                        "text/html": "Total execution time: 00:00:00.006"
                    },
                    "metadata": {}
                },
                {
                    "output_type": "execute_result",
                    "metadata": {},
                    "execution_count": 56,
                    "data": {
                        "application/vnd.dataresource+json": {
                            "schema": {
                                "fields": [
                                    {
                                        "name": "emp_ID"
                                    },
                                    {
                                        "name": "emp_NAME"
                                    },
                                    {
                                        "name": "DEPT_NAME"
                                    },
                                    {
                                        "name": "SALARY"
                                    },
                                    {
                                        "name": "rnk"
                                    }
                                ]
                            },
                            "data": [
                                {
                                    "0": "120",
                                    "1": "Monica",
                                    "2": "Admin",
                                    "3": "5000",
                                    "4": "1"
                                },
                                {
                                    "0": "101",
                                    "1": "Mohan",
                                    "2": "Admin",
                                    "3": "4000",
                                    "4": "2"
                                },
                                {
                                    "0": "108",
                                    "1": "Maryam",
                                    "2": "Admin",
                                    "3": "4000",
                                    "4": "2"
                                },
                                {
                                    "0": "116",
                                    "1": "Satya",
                                    "2": "Finance",
                                    "3": "6500",
                                    "4": "1"
                                },
                                {
                                    "0": "104",
                                    "1": "Dorvin",
                                    "2": "Finance",
                                    "3": "6500",
                                    "4": "1"
                                },
                                {
                                    "0": "118",
                                    "1": "Tejaswi",
                                    "2": "Finance",
                                    "3": "5500",
                                    "4": "3"
                                },
                                {
                                    "0": "119",
                                    "1": "Cory",
                                    "2": "HR",
                                    "3": "8000",
                                    "4": "1"
                                },
                                {
                                    "0": "107",
                                    "1": "Preet",
                                    "2": "HR",
                                    "3": "7000",
                                    "4": "2"
                                },
                                {
                                    "0": "117",
                                    "1": "Adarsh",
                                    "2": "HR",
                                    "3": "3500",
                                    "4": "3"
                                },
                                {
                                    "0": "124",
                                    "1": "Dheeraj",
                                    "2": "IT",
                                    "3": "11000",
                                    "4": "1"
                                },
                                {
                                    "0": "112",
                                    "1": "Komal",
                                    "2": "IT",
                                    "3": "10000",
                                    "4": "2"
                                },
                                {
                                    "0": "122",
                                    "1": "Ibrahim",
                                    "2": "IT",
                                    "3": "8000",
                                    "4": "3"
                                },
                                {
                                    "0": "123",
                                    "1": "Vikram",
                                    "2": "IT",
                                    "3": "8000",
                                    "4": "3"
                                },
                                {
                                    "0": "111",
                                    "1": "Melinda",
                                    "2": "IT",
                                    "3": "8000",
                                    "4": "3"
                                }
                            ]
                        },
                        "text/html": [
                            "<table>",
                            "<tr><th>emp_ID</th><th>emp_NAME</th><th>DEPT_NAME</th><th>SALARY</th><th>rnk</th></tr>",
                            "<tr><td>120</td><td>Monica</td><td>Admin</td><td>5000</td><td>1</td></tr>",
                            "<tr><td>101</td><td>Mohan</td><td>Admin</td><td>4000</td><td>2</td></tr>",
                            "<tr><td>108</td><td>Maryam</td><td>Admin</td><td>4000</td><td>2</td></tr>",
                            "<tr><td>116</td><td>Satya</td><td>Finance</td><td>6500</td><td>1</td></tr>",
                            "<tr><td>104</td><td>Dorvin</td><td>Finance</td><td>6500</td><td>1</td></tr>",
                            "<tr><td>118</td><td>Tejaswi</td><td>Finance</td><td>5500</td><td>3</td></tr>",
                            "<tr><td>119</td><td>Cory</td><td>HR</td><td>8000</td><td>1</td></tr>",
                            "<tr><td>107</td><td>Preet</td><td>HR</td><td>7000</td><td>2</td></tr>",
                            "<tr><td>117</td><td>Adarsh</td><td>HR</td><td>3500</td><td>3</td></tr>",
                            "<tr><td>124</td><td>Dheeraj</td><td>IT</td><td>11000</td><td>1</td></tr>",
                            "<tr><td>112</td><td>Komal</td><td>IT</td><td>10000</td><td>2</td></tr>",
                            "<tr><td>122</td><td>Ibrahim</td><td>IT</td><td>8000</td><td>3</td></tr>",
                            "<tr><td>123</td><td>Vikram</td><td>IT</td><td>8000</td><td>3</td></tr>",
                            "<tr><td>111</td><td>Melinda</td><td>IT</td><td>8000</td><td>3</td></tr>",
                            "</table>"
                        ]
                    }
                }
            ],
            "execution_count": 56
        },
        {
            "cell_type": "markdown",
            "source": [
                "DENSE\\_RANK includes more records - it does not skip numbers like rank.  \n",
                "\n",
                "Rank:   1, 2, 2, 4\n",
                "\n",
                "Dense Rank:  1, 2, 2, 3"
            ],
            "metadata": {
                "language": "sql",
                "azdata_cell_guid": "0ab52e1c-a588-4943-a8f3-f7c35756ed77"
            },
            "attachments": {}
        },
        {
            "cell_type": "code",
            "source": [
                "SELECT *\r\n",
                "FROM (\r\n",
                "    SELECT\r\n",
                "        e.*,\r\n",
                "        DENSE_RANK() OVER(PARTITION BY dept_name ORDER BY salary DESC) as rnk\r\n",
                "    FROM employee e\r\n",
                ") AS rank  \r\n",
                "WHERE rank.rnk < 4;"
            ],
            "metadata": {
                "azdata_cell_guid": "5f591f61-b59d-457d-a1ac-78ebc6f5a24a",
                "language": "sql"
            },
            "outputs": [
                {
                    "output_type": "display_data",
                    "data": {
                        "text/html": "(16 rows affected)"
                    },
                    "metadata": {}
                },
                {
                    "output_type": "display_data",
                    "data": {
                        "text/html": "Total execution time: 00:00:00.008"
                    },
                    "metadata": {}
                },
                {
                    "output_type": "execute_result",
                    "metadata": {},
                    "execution_count": 57,
                    "data": {
                        "application/vnd.dataresource+json": {
                            "schema": {
                                "fields": [
                                    {
                                        "name": "emp_ID"
                                    },
                                    {
                                        "name": "emp_NAME"
                                    },
                                    {
                                        "name": "DEPT_NAME"
                                    },
                                    {
                                        "name": "SALARY"
                                    },
                                    {
                                        "name": "rnk"
                                    }
                                ]
                            },
                            "data": [
                                {
                                    "0": "120",
                                    "1": "Monica",
                                    "2": "Admin",
                                    "3": "5000",
                                    "4": "1"
                                },
                                {
                                    "0": "101",
                                    "1": "Mohan",
                                    "2": "Admin",
                                    "3": "4000",
                                    "4": "2"
                                },
                                {
                                    "0": "108",
                                    "1": "Maryam",
                                    "2": "Admin",
                                    "3": "4000",
                                    "4": "2"
                                },
                                {
                                    "0": "113",
                                    "1": "Gautham",
                                    "2": "Admin",
                                    "3": "2000",
                                    "4": "3"
                                },
                                {
                                    "0": "116",
                                    "1": "Satya",
                                    "2": "Finance",
                                    "3": "6500",
                                    "4": "1"
                                },
                                {
                                    "0": "104",
                                    "1": "Dorvin",
                                    "2": "Finance",
                                    "3": "6500",
                                    "4": "1"
                                },
                                {
                                    "0": "118",
                                    "1": "Tejaswi",
                                    "2": "Finance",
                                    "3": "5500",
                                    "4": "2"
                                },
                                {
                                    "0": "106",
                                    "1": "Rajesh",
                                    "2": "Finance",
                                    "3": "5000",
                                    "4": "3"
                                },
                                {
                                    "0": "119",
                                    "1": "Cory",
                                    "2": "HR",
                                    "3": "8000",
                                    "4": "1"
                                },
                                {
                                    "0": "107",
                                    "1": "Preet",
                                    "2": "HR",
                                    "3": "7000",
                                    "4": "2"
                                },
                                {
                                    "0": "117",
                                    "1": "Adarsh",
                                    "2": "HR",
                                    "3": "3500",
                                    "4": "3"
                                },
                                {
                                    "0": "124",
                                    "1": "Dheeraj",
                                    "2": "IT",
                                    "3": "11000",
                                    "4": "1"
                                },
                                {
                                    "0": "112",
                                    "1": "Komal",
                                    "2": "IT",
                                    "3": "10000",
                                    "4": "2"
                                },
                                {
                                    "0": "122",
                                    "1": "Ibrahim",
                                    "2": "IT",
                                    "3": "8000",
                                    "4": "3"
                                },
                                {
                                    "0": "123",
                                    "1": "Vikram",
                                    "2": "IT",
                                    "3": "8000",
                                    "4": "3"
                                },
                                {
                                    "0": "111",
                                    "1": "Melinda",
                                    "2": "IT",
                                    "3": "8000",
                                    "4": "3"
                                }
                            ]
                        },
                        "text/html": [
                            "<table>",
                            "<tr><th>emp_ID</th><th>emp_NAME</th><th>DEPT_NAME</th><th>SALARY</th><th>rnk</th></tr>",
                            "<tr><td>120</td><td>Monica</td><td>Admin</td><td>5000</td><td>1</td></tr>",
                            "<tr><td>101</td><td>Mohan</td><td>Admin</td><td>4000</td><td>2</td></tr>",
                            "<tr><td>108</td><td>Maryam</td><td>Admin</td><td>4000</td><td>2</td></tr>",
                            "<tr><td>113</td><td>Gautham</td><td>Admin</td><td>2000</td><td>3</td></tr>",
                            "<tr><td>116</td><td>Satya</td><td>Finance</td><td>6500</td><td>1</td></tr>",
                            "<tr><td>104</td><td>Dorvin</td><td>Finance</td><td>6500</td><td>1</td></tr>",
                            "<tr><td>118</td><td>Tejaswi</td><td>Finance</td><td>5500</td><td>2</td></tr>",
                            "<tr><td>106</td><td>Rajesh</td><td>Finance</td><td>5000</td><td>3</td></tr>",
                            "<tr><td>119</td><td>Cory</td><td>HR</td><td>8000</td><td>1</td></tr>",
                            "<tr><td>107</td><td>Preet</td><td>HR</td><td>7000</td><td>2</td></tr>",
                            "<tr><td>117</td><td>Adarsh</td><td>HR</td><td>3500</td><td>3</td></tr>",
                            "<tr><td>124</td><td>Dheeraj</td><td>IT</td><td>11000</td><td>1</td></tr>",
                            "<tr><td>112</td><td>Komal</td><td>IT</td><td>10000</td><td>2</td></tr>",
                            "<tr><td>122</td><td>Ibrahim</td><td>IT</td><td>8000</td><td>3</td></tr>",
                            "<tr><td>123</td><td>Vikram</td><td>IT</td><td>8000</td><td>3</td></tr>",
                            "<tr><td>111</td><td>Melinda</td><td>IT</td><td>8000</td><td>3</td></tr>",
                            "</table>"
                        ]
                    }
                }
            ],
            "execution_count": 57
        }
    ]
}