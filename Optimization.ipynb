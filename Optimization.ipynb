{
    "metadata": {
        "kernelspec": {
            "name": "SQL",
            "display_name": "SQL",
            "language": "sql"
        },
        "language_info": {
            "name": "sql",
            "version": ""
        }
    },
    "nbformat_minor": 2,
    "nbformat": 4,
    "cells": [
        {
            "cell_type": "markdown",
            "source": [
                "**Advanced SQL for Application Development**\n",
                "\n",
                "_Designing and eCommerce application database_\n",
                "\n",
                "_\\_\\_\\_\\_\\_\\_\\_\\_\\_\\_\\_\\_\\_\\_\\_\\_\\_\\_\\_\\_\\_\\_\\_\\_\\_\\_\\_\\_\\_\\_\\_\\_\\_\\_\\_\\_\\_\\_\\_\\_\\_\\_\\_\\_\\_\\_\\_\\_\\_\\_\\__\n",
                "\n",
                "**_Relational Database Design_**\n",
                "\n",
                "- What data needs to be collected and stored?\n",
                "- How will the data be queried?\n",
                "- How much data will be stored, and will it grow?\n",
                "- Who can access the data?"
            ],
            "metadata": {
                "azdata_cell_guid": "96461f3c-d476-49e9-84ab-026d035baeea"
            },
            "attachments": {}
        },
        {
            "cell_type": "code",
            "source": [
                ""
            ],
            "metadata": {
                "azdata_cell_guid": "38b9278a-cccc-456a-be22-c33faf243283",
                "language": "sql"
            },
            "outputs": [],
            "execution_count": null
        }
    ]
}