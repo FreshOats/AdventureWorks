{
    "cells": [
        {
            "attachments": {},
            "cell_type": "markdown",
            "metadata": {
                "azdata_cell_guid": "08fedd54-d813-47c3-96e4-6803a7c2ab78",
                "language": "sql"
            },
            "source": [
                "**New Hacker Rank Queries - Intermediate Level**\n",
                "\n",
                "Weather Observation Station 5\n",
                "\n",
                "<span style=\"color: rgb(87, 104, 113); font-family: OpenSans, Arial, Helvetica, sans-serif; background-color: rgb(255, 255, 255);\">Query the two cities in&nbsp;</span> <span style=\"border: 0px; font-variant-numeric: inherit; font-variant-east-asian: inherit; font-weight: bolder; font-stretch: inherit; line-height: inherit; font-family: OpenSans, Arial, Helvetica, sans-serif; margin: 0px; outline: 0px; padding: 0px; vertical-align: baseline; color: var(--color-text-dark,#0e141e); background-color: rgb(255, 255, 255);\">STATION</span> <span style=\"color: rgb(87, 104, 113); font-family: OpenSans, Arial, Helvetica, sans-serif; background-color: rgb(255, 255, 255);\">&nbsp;with the shortest and longest&nbsp;</span> <span style=\"border: 0px; font-style: inherit; font-variant-numeric: inherit; font-variant-east-asian: inherit; font-stretch: inherit; line-height: inherit; font-family: OpenSans, Arial, Helvetica, sans-serif; margin: 0px; outline: 0px; padding: 0px; vertical-align: baseline; color: rgb(87, 104, 113); background-color: rgb(255, 255, 255);\">CITY</span> <span style=\"color: rgb(87, 104, 113); font-family: OpenSans, Arial, Helvetica, sans-serif; background-color: rgb(255, 255, 255);\">&nbsp;names, as well as their respective lengths (i.e.: number of characters in the name). If there is more than one smallest or largest city, choose the one that comes first when ordered alphabetically.</span>  \n",
                "<span style=\"color: rgb(87, 104, 113); font-family: OpenSans, Arial, Helvetica, sans-serif; background-color: rgb(255, 255, 255);\">The&nbsp;</span> <span style=\"border: 0px; font-variant-numeric: inherit; font-variant-east-asian: inherit; font-weight: bolder; font-stretch: inherit; line-height: inherit; font-family: OpenSans, Arial, Helvetica, sans-serif; margin: 0px; outline: 0px; padding: 0px; vertical-align: baseline; color: var(--color-text-dark,#0e141e); background-color: rgb(255, 255, 255);\">STATION</span> <span style=\"color: rgb(87, 104, 113); font-family: OpenSans, Arial, Helvetica, sans-serif; background-color: rgb(255, 255, 255);\">&nbsp;table is described as follows:</span>"
            ]
        },
        {
            "cell_type": "code",
            "execution_count": null,
            "metadata": {
                "azdata_cell_guid": "354b10ef-7ac3-4acc-87ea-d64d31e8fedf",
                "language": "sql"
            },
            "outputs": [],
            "source": [
                "-- Using a WITH clause:\n",
                "WITH minimum AS \n",
                "(   SELECT TOP 1 city, len(city) as city_length\n",
                "    FROM station \n",
                "    ORDER BY city_length, city\n",
                "), \n",
                "maximum AS\n",
                "(   SELECT TOP 1 city, len(city) AS city_length \n",
                "    FROM station\n",
                "    ORDER BY city_length DESC, city\n",
                ")\n",
                "SELECT * \n",
                "FROM minimum\n",
                "UNION ALL \n",
                "SELECT * \n",
                "FROM maximum"
            ]
        },
        {
            "cell_type": "code",
            "execution_count": null,
            "metadata": {
                "azdata_cell_guid": "3ac81c22-de5d-4297-be65-cf8fd682df3b",
                "language": "sql"
            },
            "outputs": [],
            "source": [
                "-- Using Pagination\n",
                "SELECT city, LEN(city)\n",
                "FROM station\n",
                "ORDER BY LEN(city), city\n",
                "OFFSET 0 ROWS\n",
                "FETCH NEXT 1 ROWS ONLY\n",
                "SELECT city, LEN(city)\n",
                "FROM station\n",
                "ORDER BY LEN(city) DESC, city\n",
                "OFFSET 0 ROWS\n",
                "FETCH NEXT 1 ROWS ONLY\n"
            ]
        },
        {
            "cell_type": "code",
            "execution_count": null,
            "metadata": {
                "azdata_cell_guid": "264d9e38-8425-4de9-a5da-f47407bc6e16",
                "language": "sql"
            },
            "outputs": [],
            "source": [
                "-- Using Subqueries\n",
                "SELECT  TOP 1 city, LEN(city)\n",
                "FROM    station\n",
                "WHERE   LEN(city) = (   SELECT  MIN(LEN(city))\n",
                "                        FROM    station\n",
                "                    )\n",
                "ORDER BY city;\n",
                "SELECT  TOP 1 city, LEN(city)\n",
                "FROM    station\n",
                "WHERE   LEN(city) = (   SELECT  MAX(LEN(city))\n",
                "                        FROM    station\n",
                "                    )\n",
                "ORDER BY city;"
            ]
        },
        {
            "attachments": {},
            "cell_type": "markdown",
            "metadata": {
                "azdata_cell_guid": "2dc27084-6b3b-4e0a-8ecd-0521f63e38cc"
            },
            "source": [
                "**Weather Station 20**\n",
                "\n",
                "Find the Median value of the northern latitudes and round to 4 decimal places"
            ]
        },
        {
            "cell_type": "code",
            "execution_count": null,
            "metadata": {
                "azdata_cell_guid": "7a63f319-c6d8-489a-bc0c-678a767dfa52",
                "language": "sql"
            },
            "outputs": [],
            "source": [
                "-- Using WITH Clauses\n",
                "WITH bottom_50 AS\n",
                "(   SELECT  TOP 50 PERCENT lat_n\n",
                "    FROM    station\n",
                "    ORDER BY lat_n\n",
                "), \n",
                "top_50 AS\n",
                "(   SELECT  TOP 50 PERCENT lat_n\n",
                "    FROM    station\n",
                "    ORDER BY lat_n DESC\n",
                ")\n",
                "SELECT CAST(\n",
                "    ((   SELECT  MAX(lat_n)\n",
                "        FROM    bottom_50\n",
                "    ) \n",
                "    + \n",
                "     (  SELECT MIN(lat_n)\n",
                "        FROM    top_50)\n",
                "    )/2 AS DECIMAL(18, 4)) AS Median"
            ]
        },
        {
            "cell_type": "code",
            "execution_count": null,
            "metadata": {
                "azdata_cell_guid": "c280827d-19ab-4510-814a-713f21b5f939",
                "language": "sql"
            },
            "outputs": [],
            "source": [
                "-- Using Subqueries in the FROM clauses\n",
                "SELECT CAST(\n",
                "    ((  SELECT  MAX(lat_n)\n",
                "        FROM   (\n",
                "                SELECT TOP 50 PERCENT lat_n\n",
                "                FROM station\n",
                "                ORDER BY lat_n\n",
                "               ) AS bottom_50\n",
                "    ) \n",
                "    + \n",
                "    (   SELECT MIN(lat_n)\n",
                "        FROM  (\n",
                "                SELECT TOP 50 PERCENT lat_n\n",
                "                FROM station \n",
                "                ORDER BY lat_n DESC\n",
                "              ) AS top_50   \n",
                "     )\n",
                "    )/2 AS DECIMAL(18, 4)) AS Median"
            ]
        },
        {
            "cell_type": "code",
            "execution_count": null,
            "metadata": {
                "azdata_cell_guid": "04ed66cb-6a90-4e4f-a70e-223e6af5a691",
                "language": "sql"
            },
            "outputs": [],
            "source": [
                "-- Using ROW_NUMBER() OVER() to find the rank and reverse ranks of the ordered set\n",
                "WITH Ranks AS \n",
                "(   SELECT  LAT_N, \n",
                "            ROW_NUMBER() OVER(ORDER BY lat_n ASC) AS Rank, \n",
                "            ROW_NUMBER() OVER(ORDER BY lat_n DESC) AS Reverse_rank \n",
                "    FROM STATION \n",
                ") \n",
                "SELECT  CAST((AVG(LAT_N)) AS DECIMAL(10,4)) \n",
                "FROM    Ranks \n",
                "WHERE   ABS(Rank-Reverse_rank) <= 1;"
            ]
        },
        {
            "cell_type": "code",
            "execution_count": null,
            "metadata": {
                "azdata_cell_guid": "cba1b018-cc6e-4ff8-b437-0e7c27fd91c0",
                "language": "sql"
            },
            "outputs": [],
            "source": [
                "-- With iteration\n",
                "DECLARE @counter INT;\n",
                "\n",
                "SET @counter = (SELECT COUNT(*) \n",
                "                FROM station);\n",
                "\n",
                "WITH cte AS \n",
                "( \n",
                "    SELECT  lat_n, \n",
                "            ROW_NUMBER() OVER (ORDER BY LAT_N) AS row_num \n",
                "    FROM station\n",
                ")\n",
                "SELECT FORMAT(AVG(lat_n),'.0000') \n",
                "FROM cte \n",
                "WHERE row_num BETWEEN (@counter+1)/2 AND @counter/2+1\n",
                "        "
            ]
        },
        {
            "attachments": {},
            "cell_type": "markdown",
            "metadata": {},
            "source": [
                "# Ollivander's Wand Shop \n",
                "\n",
                "Harry Potter and his friends are at Ollivander's with Ron, finally replacing Charlie's old broken wand.\n",
                "\n",
                "Hermione decides the best way to choose is by determining the minimum number of gold galleons needed to buy each non-evil wand of high power and age. Write a query to print the id, age, coins_needed, and power of the wands that Ron's interested in, sorted in order of descending power. If more than one wand has same power, sort the result in order of descending age."
            ]
        },
        {
            "cell_type": "code",
            "execution_count": null,
            "metadata": {},
            "outputs": [],
            "source": [
                "-- Using a subquery in the FROM clause\n",
                "SELECT w.id,\n",
                "       cheap.age,\n",
                "       cheap.coins,\n",
                "       cheap.power\n",
                "FROM wands w,\n",
                "\n",
                "    (SELECT w.code,\n",
                "            p.age,\n",
                "            w.power,\n",
                "            MIN(coins_needed) AS coins\n",
                "     FROM wands w\n",
                "     INNER JOIN wands_property p ON w.code = p.code\n",
                "     WHERE is_evil = 0\n",
                "     GROUP BY w.code,\n",
                "              p.age,\n",
                "              w.power) AS cheap\n",
                "WHERE w.code = cheap.code\n",
                "    AND w.power = cheap.power\n",
                "    AND w.coins_needed = cheap.coins\n",
                "ORDER BY cheap.power DESC,\n",
                "         cheap.age DESC"
            ]
        },
        {
            "cell_type": "code",
            "execution_count": null,
            "metadata": {},
            "outputs": [],
            "source": [
                "-- Using a WITH clause to get the cheap and safe wands before joining the non-aggregate data\n",
                "\n",
                "WITH cheap_and_safe AS\n",
                "    (SELECT p.age,\n",
                "            w.power,\n",
                "            MIN(coins_needed) coins\n",
                "     FROM wands w\n",
                "     INNER JOIN wands_property p ON w.code = p.code\n",
                "     WHERE p.is_evil = 0\n",
                "     GROUP BY p.age,\n",
                "              w.power)\n",
                "SELECT w.id,\n",
                "       p.age,\n",
                "       w.coins_needed,\n",
                "       w.power\n",
                "FROM wands w\n",
                "INNER JOIN wands_property p ON w.code = p.code\n",
                "INNER JOIN cheap_and_safe ON w.power = cheap_and_safe.power\n",
                "AND w.coins_needed = cheap_and_safe.coins\n",
                "AND p.age = cheap_and_safe.age\n",
                "ORDER BY cheap_and_safe.power DESC,\n",
                "         cheap_and_safe.age DESC"
            ]
        },
        {
            "cell_type": "code",
            "execution_count": null,
            "metadata": {},
            "outputs": [],
            "source": [
                "-- Using Row order and partitioning to only pick the top match for each power/cost\n",
                "-- This removes the group by when partitioning by the power and age, then ranking them in order of high to low power and low to high cost\n",
                "-- The top pick for the best wand would be the one with the highest power and lowest cost per power/age partition\n",
                "\n",
                "WITH cheap_and_powerful AS\n",
                "    ( SELECT w.id,\n",
                "             p.age,\n",
                "             w.coins_needed,\n",
                "             w.power,\n",
                "             ROW_NUMBER() OVER (PARTITION BY power, age\n",
                "                                ORDER BY power DESC, coins_needed) AS best_wand\n",
                "     FROM wands w\n",
                "     JOIN wands_property p ON w.code = p.code\n",
                "     WHERE p.is_evil = 0 )\n",
                "SELECT id,\n",
                "       age,\n",
                "       coins_needed,\n",
                "       power\n",
                "FROM cheap_and_powerful\n",
                "WHERE best_wand = 1\n",
                "ORDER BY power DESC,\n",
                "         age DESC;\n",
                "\n"
            ]
        },
        {
            "cell_type": "code",
            "execution_count": null,
            "metadata": {},
            "outputs": [],
            "source": [
                "-- Using Rank() to get the cheapest wands \n",
                "WITH Cheap_Wands AS\n",
                "    ( SELECT w.id,\n",
                "             p.age,\n",
                "             w.coins_needed,\n",
                "             w.power,\n",
                "             RANK() OVER (PARTITION BY power,\n",
                "                                       age\n",
                "                          ORDER BY coins_needed) AS cheapest\n",
                "     FROM wands w\n",
                "     JOIN wands_property p ON w.code = p.code\n",
                "     WHERE p.is_evil = 0 )\n",
                "SELECT id,\n",
                "       age,\n",
                "       coins_needed,\n",
                "       power\n",
                "FROM Cheap_Wands\n",
                "WHERE cheapest = 1\n",
                "ORDER BY power DESC,\n",
                "         age DESC;\n",
                "\n"
            ]
        }
    ],
    "metadata": {
        "kernelspec": {
            "display_name": "SQL",
            "language": "sql",
            "name": "SQL"
        },
        "language_info": {
            "name": "sql",
            "version": ""
        }
    },
    "nbformat": 4,
    "nbformat_minor": 2
}
