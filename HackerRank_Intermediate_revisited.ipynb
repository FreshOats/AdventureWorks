{
    "metadata": {
        "kernelspec": {
            "name": "SQL",
            "display_name": "SQL",
            "language": "sql"
        },
        "language_info": {
            "name": "sql",
            "version": ""
        }
    },
    "nbformat_minor": 2,
    "nbformat": 4,
    "cells": [
        {
            "cell_type": "markdown",
            "source": [
                "**New Hacker Rank Queries - Intermediate Level**\n",
                "\n",
                "Weather Observation Station 5\n",
                "\n",
                "<span style=\"color: rgb(87, 104, 113); font-family: OpenSans, Arial, Helvetica, sans-serif; background-color: rgb(255, 255, 255);\">Query the two cities in&nbsp;</span> <span style=\"border: 0px; font-variant-numeric: inherit; font-variant-east-asian: inherit; font-weight: bolder; font-stretch: inherit; line-height: inherit; font-family: OpenSans, Arial, Helvetica, sans-serif; margin: 0px; outline: 0px; padding: 0px; vertical-align: baseline; color: var(--color-text-dark,#0e141e); background-color: rgb(255, 255, 255);\">STATION</span> <span style=\"color: rgb(87, 104, 113); font-family: OpenSans, Arial, Helvetica, sans-serif; background-color: rgb(255, 255, 255);\">&nbsp;with the shortest and longest&nbsp;</span> <span style=\"border: 0px; font-style: inherit; font-variant-numeric: inherit; font-variant-east-asian: inherit; font-stretch: inherit; line-height: inherit; font-family: OpenSans, Arial, Helvetica, sans-serif; margin: 0px; outline: 0px; padding: 0px; vertical-align: baseline; color: rgb(87, 104, 113); background-color: rgb(255, 255, 255);\">CITY</span> <span style=\"color: rgb(87, 104, 113); font-family: OpenSans, Arial, Helvetica, sans-serif; background-color: rgb(255, 255, 255);\">&nbsp;names, as well as their respective lengths (i.e.: number of characters in the name). If there is more than one smallest or largest city, choose the one that comes first when ordered alphabetically.</span>  \n",
                "<span style=\"color: rgb(87, 104, 113); font-family: OpenSans, Arial, Helvetica, sans-serif; background-color: rgb(255, 255, 255);\">The&nbsp;</span> <span style=\"border: 0px; font-variant-numeric: inherit; font-variant-east-asian: inherit; font-weight: bolder; font-stretch: inherit; line-height: inherit; font-family: OpenSans, Arial, Helvetica, sans-serif; margin: 0px; outline: 0px; padding: 0px; vertical-align: baseline; color: var(--color-text-dark,#0e141e); background-color: rgb(255, 255, 255);\">STATION</span> <span style=\"color: rgb(87, 104, 113); font-family: OpenSans, Arial, Helvetica, sans-serif; background-color: rgb(255, 255, 255);\">&nbsp;table is described as follows:</span>"
            ],
            "metadata": {
                "language": "sql",
                "azdata_cell_guid": "08fedd54-d813-47c3-96e4-6803a7c2ab78"
            },
            "attachments": {}
        },
        {
            "cell_type": "code",
            "source": [
                "-- Using a WITH clause:\r\n",
                "WITH minimum AS \r\n",
                "(   SELECT TOP 1 city, len(city) as city_length\r\n",
                "    FROM station \r\n",
                "    ORDER BY city_length, city\r\n",
                "), \r\n",
                "maximum AS\r\n",
                "(   SELECT TOP 1 city, len(city) AS city_length \r\n",
                "    FROM station\r\n",
                "    ORDER BY city_length DESC, city\r\n",
                ")\r\n",
                "SELECT * \r\n",
                "FROM minimum\r\n",
                "UNION ALL \r\n",
                "SELECT * \r\n",
                "FROM maximum"
            ],
            "metadata": {
                "azdata_cell_guid": "354b10ef-7ac3-4acc-87ea-d64d31e8fedf",
                "language": "sql"
            },
            "outputs": [],
            "execution_count": null
        },
        {
            "cell_type": "code",
            "source": [
                "-- Using Pagination\r\n",
                "SELECT city, LEN(city)\r\n",
                "FROM station\r\n",
                "ORDER BY LEN(city), city\r\n",
                "OFFSET 0 ROWS\r\n",
                "FETCH NEXT 1 ROWS ONLY\r\n",
                "SELECT city, LEN(city)\r\n",
                "FROM station\r\n",
                "ORDER BY LEN(city) DESC, city\r\n",
                "OFFSET 0 ROWS\r\n",
                "FETCH NEXT 1 ROWS ONLY\r\n",
                ""
            ],
            "metadata": {
                "azdata_cell_guid": "3ac81c22-de5d-4297-be65-cf8fd682df3b",
                "language": "sql"
            },
            "outputs": [],
            "execution_count": null
        },
        {
            "cell_type": "code",
            "source": [
                "-- Using Subqueries\r\n",
                "SELECT  TOP 1 city, LEN(city)\r\n",
                "FROM    station\r\n",
                "WHERE   LEN(city) = (   SELECT  MIN(LEN(city))\r\n",
                "                        FROM    station\r\n",
                "                    )\r\n",
                "ORDER BY city;\r\n",
                "SELECT  TOP 1 city, LEN(city)\r\n",
                "FROM    station\r\n",
                "WHERE   LEN(city) = (   SELECT  MAX(LEN(city))\r\n",
                "                        FROM    station\r\n",
                "                    )\r\n",
                "ORDER BY city;"
            ],
            "metadata": {
                "azdata_cell_guid": "264d9e38-8425-4de9-a5da-f47407bc6e16",
                "language": "sql"
            },
            "outputs": [],
            "execution_count": null
        },
        {
            "cell_type": "markdown",
            "source": [
                "**Weather Station 20**\n",
                "\n",
                "Find the Median value of the northern latitudes and round to 4 decimal places"
            ],
            "metadata": {
                "azdata_cell_guid": "2dc27084-6b3b-4e0a-8ecd-0521f63e38cc"
            },
            "attachments": {}
        },
        {
            "cell_type": "code",
            "source": [
                "-- Using WITH Clauses\r\n",
                "WITH bottom_50 AS\r\n",
                "(   SELECT  TOP 50 PERCENT lat_n\r\n",
                "    FROM    station\r\n",
                "    ORDER BY lat_n\r\n",
                "), \r\n",
                "top_50 AS\r\n",
                "(   SELECT  TOP 50 PERCENT lat_n\r\n",
                "    FROM    station\r\n",
                "    ORDER BY lat_n DESC\r\n",
                ")\r\n",
                "SELECT CAST(\r\n",
                "    ((   SELECT  MAX(lat_n)\r\n",
                "        FROM    bottom_50\r\n",
                "    ) \r\n",
                "    + \r\n",
                "     (  SELECT MIN(lat_n)\r\n",
                "        FROM    top_50)\r\n",
                "    )/2 AS DECIMAL(18, 4)) AS Median"
            ],
            "metadata": {
                "azdata_cell_guid": "7a63f319-c6d8-489a-bc0c-678a767dfa52",
                "language": "sql"
            },
            "outputs": [],
            "execution_count": null
        },
        {
            "cell_type": "code",
            "source": [
                "-- Using Subqueries in the FROM clauses\r\n",
                "SELECT CAST(\r\n",
                "    ((  SELECT  MAX(lat_n)\r\n",
                "        FROM   (\r\n",
                "                SELECT TOP 50 PERCENT lat_n\r\n",
                "                FROM station\r\n",
                "                ORDER BY lat_n\r\n",
                "               ) AS bottom_50\r\n",
                "    ) \r\n",
                "    + \r\n",
                "    (   SELECT MIN(lat_n)\r\n",
                "        FROM  (\r\n",
                "                SELECT TOP 50 PERCENT lat_n\r\n",
                "                FROM station \r\n",
                "                ORDER BY lat_n DESC\r\n",
                "              ) AS top_50   \r\n",
                "     )\r\n",
                "    )/2 AS DECIMAL(18, 4)) AS Median"
            ],
            "metadata": {
                "language": "sql",
                "azdata_cell_guid": "c280827d-19ab-4510-814a-713f21b5f939"
            },
            "outputs": [],
            "execution_count": null
        },
        {
            "cell_type": "code",
            "source": [
                "-- Using ROW_NUMBER() OVER() to find the rank and reverse ranks of the ordered set\r\n",
                "WITH Ranks AS \r\n",
                "(   SELECT  LAT_N, \r\n",
                "            ROW_NUMBER() OVER(ORDER BY lat_n ASC) AS Rank, \r\n",
                "            ROW_NUMBER() OVER(ORDER BY lat_n DESC) AS Reverse_rank \r\n",
                "    FROM STATION \r\n",
                ") \r\n",
                "SELECT  CAST((AVG(LAT_N)) AS DECIMAL(10,4)) \r\n",
                "FROM    Ranks \r\n",
                "WHERE   ABS(Rank-Reverse_rank) <= 1;"
            ],
            "metadata": {
                "language": "sql",
                "azdata_cell_guid": "04ed66cb-6a90-4e4f-a70e-223e6af5a691"
            },
            "outputs": [],
            "execution_count": null
        },
        {
            "cell_type": "code",
            "source": [
                "-- With iteration\r\n",
                "DECLARE @counter INT;\r\n",
                "\r\n",
                "SET @counter = (SELECT COUNT(*) \r\n",
                "                FROM station);\r\n",
                "\r\n",
                "WITH cte AS \r\n",
                "( \r\n",
                "    SELECT  lat_n, \r\n",
                "            ROW_NUMBER() OVER (ORDER BY LAT_N) AS row_num \r\n",
                "    FROM station\r\n",
                ")\r\n",
                "SELECT FORMAT(AVG(lat_n),'.0000') \r\n",
                "FROM cte \r\n",
                "WHERE row_num BETWEEN (@counter+1)/2 AND @counter/2+1\r\n",
                "        "
            ],
            "metadata": {
                "language": "sql",
                "azdata_cell_guid": "cba1b018-cc6e-4ff8-b437-0e7c27fd91c0"
            },
            "outputs": [],
            "execution_count": null
        }
    ]
}